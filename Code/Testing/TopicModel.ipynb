{
 "cells": [
  {
   "cell_type": "markdown",
   "metadata": {},
   "source": [
    "In this notebook we'll explore topic modeling to discover broad themes in a collection of movie summaries."
   ]
  },
  {
   "cell_type": "code",
   "execution_count": 1,
   "metadata": {},
   "outputs": [
    {
     "name": "stderr",
     "output_type": "stream",
     "text": [
      "C:\\Users\\pcrrt\\Anaconda3\\envs\\anlp\\lib\\site-packages\\gensim\\similarities\\__init__.py:15: UserWarning: The gensim.similarities.levenshtein submodule is disabled, because the optional Levenshtein package <https://pypi.org/project/python-Levenshtein/> is unavailable. Install Levenhstein (e.g. `pip install python-Levenshtein`) to suppress this warning.\n",
      "  warnings.warn(msg)\n",
      "[nltk_data] Downloading package stopwords to\n",
      "[nltk_data]     C:\\Users\\pcrrt\\AppData\\Roaming\\nltk_data...\n",
      "[nltk_data]   Package stopwords is already up-to-date!\n"
     ]
    }
   ],
   "source": [
    "import nltk\n",
    "import re\n",
    "import gensim\n",
    "from gensim import corpora\n",
    "import operator\n",
    "\n",
    "nltk.download('stopwords')\n",
    "from nltk.corpus import stopwords\n",
    "\n",
    "import numpy as np\n",
    "import random\n",
    "\n",
    "random.seed(1)\n",
    "import pandas as pd"
   ]
  },
  {
   "cell_type": "markdown",
   "metadata": {},
   "source": [
    "Clean Data"
   ]
  },
  {
   "cell_type": "code",
   "execution_count": 2,
   "metadata": {},
   "outputs": [],
   "source": [
    "df=pd.read_csv('C:/Users/pcrrt/Applied NLP Final Project/Data/Intermediate Data/final v4.csv')"
   ]
  },
  {
   "cell_type": "code",
   "execution_count": 3,
   "metadata": {},
   "outputs": [],
   "source": [
    "df['title2']=df['date']+\" \"+df['title']+\" - \"+df['event_type']\n",
    "df=df[df['candidate']=='trump']\n",
    "df2=df[['title2', 'text']]\n",
    "df2.to_csv('C:/Users/pcrrt/Applied NLP Final Project/Data/Intermediate Data/trump_for_lda.tsv', sep='\\t', index=False, header=False, encoding='utf8')"
   ]
  },
  {
   "cell_type": "markdown",
   "metadata": {},
   "source": [
    "Since we're running topic modeling on texts with lots of names, we'll add the Jockers list of stopwords (which includes character names) to our stoplist."
   ]
  },
  {
   "cell_type": "code",
   "execution_count": 4,
   "metadata": {},
   "outputs": [],
   "source": [
    "def read_stopwords(filename):\n",
    "    stopwords={}\n",
    "    with open(filename) as file:\n",
    "        for line in file:\n",
    "            stopwords[line.rstrip()]=1\n",
    "    return stopwords"
   ]
  },
  {
   "cell_type": "code",
   "execution_count": 5,
   "metadata": {},
   "outputs": [],
   "source": [
    "stop_words = {k:1 for k in stopwords.words('english')}\n",
    "stop_words.update(read_stopwords(\"C:/Users/pcrrt/anlp21/data/jockers.stopwords\"))\n",
    "stop_words[\"'s\"]=1\n",
    "stop_words=list(stop_words.keys())"
   ]
  },
  {
   "cell_type": "code",
   "execution_count": 6,
   "metadata": {},
   "outputs": [],
   "source": [
    "def filter(word, stopwords):\n",
    "    \n",
    "    \"\"\" Function to exclude words from a text \"\"\"\n",
    "    \n",
    "    # no stopwords\n",
    "    if word in stopwords:\n",
    "        return False\n",
    "    \n",
    "    # has to contain at least one letter\n",
    "    if re.search(\"[A-Za-z]\", word) is not None:\n",
    "        return True\n",
    "    \n",
    "    return False"
   ]
  },
  {
   "cell_type": "code",
   "execution_count": 7,
   "metadata": {},
   "outputs": [],
   "source": [
    "def read_docs(plotFile, stopwords):\n",
    "    docs=[]\n",
    "    names=[]\n",
    "    with open(plotFile, encoding=\"utf-8\") as file:\n",
    "        for line in file:\n",
    "            #print(line)\n",
    "            cols=line.rstrip().split(\"\\t\")\n",
    "            title=cols[0]\n",
    "            text=cols[1]\n",
    "            tokens=nltk.word_tokenize(text.lower())\n",
    "            tokens=[x for x in tokens if filter(x, stopwords)]\n",
    "            docs.append(tokens)\n",
    "            name=cols[0]\n",
    "            names.append(name)\n",
    "    return docs, names"
   ]
  },
  {
   "cell_type": "markdown",
   "metadata": {},
   "source": [
    "We'll read in summaries of the 5,000 movies with the highest box office revenues."
   ]
  },
  {
   "cell_type": "code",
   "execution_count": 8,
   "metadata": {},
   "outputs": [],
   "source": [
    "plotFile=\"C:/Users/pcrrt/Applied NLP Final Project/Data/Intermediate Data/trump_for_lda.tsv\"\n",
    "data, doc_names=read_docs(plotFile, stop_words)"
   ]
  },
  {
   "cell_type": "markdown",
   "metadata": {},
   "source": [
    "We will convert the movie summaries into a bag-of-words representation using gensim's [corpora.dictionary](https://radimrehurek.com/gensim/corpora/dictionary.html) methods."
   ]
  },
  {
   "cell_type": "code",
   "execution_count": 9,
   "metadata": {},
   "outputs": [],
   "source": [
    "# Create vocab from data; restrict vocab to only the top 10K terms that show up in at least 5 documents \n",
    "# and no more than 50% of all documents\n",
    "dictionary = corpora.Dictionary(data)\n",
    "dictionary.filter_extremes(no_below=5, no_above=.5, keep_n=10000)"
   ]
  },
  {
   "cell_type": "code",
   "execution_count": 10,
   "metadata": {},
   "outputs": [],
   "source": [
    "# Replace dataset with numeric ids words in vocab (and exclude all other words)\n",
    "corpus = [dictionary.doc2bow(text) for text in data]"
   ]
  },
  {
   "cell_type": "code",
   "execution_count": 11,
   "metadata": {},
   "outputs": [],
   "source": [
    "num_topics=20"
   ]
  },
  {
   "cell_type": "markdown",
   "metadata": {},
   "source": [
    "Now let's run a topic model on this data using gensim's built-in LDA."
   ]
  },
  {
   "cell_type": "code",
   "execution_count": 12,
   "metadata": {},
   "outputs": [],
   "source": [
    "lda_model = gensim.models.ldamodel.LdaModel(corpus=corpus,\n",
    "                                           id2word=dictionary,\n",
    "                                           num_topics=num_topics, \n",
    "                                           passes=10,\n",
    "                                           alpha='auto')"
   ]
  },
  {
   "cell_type": "markdown",
   "metadata": {},
   "source": [
    "We can get a sense of what the topics are by printing the top 10 words with highest $P(word \\mid topic)$ for each topic"
   ]
  },
  {
   "cell_type": "code",
   "execution_count": 13,
   "metadata": {
    "scrolled": true
   },
   "outputs": [
    {
     "name": "stdout",
     "output_type": "stream",
     "text": [
      "topic 0:\tpuerto tomorrow biden sanctuary farmers district corruption uh bishop ballots\n",
      "topic 1:\thampshire michigan gon father tariffs steel car politicians movement iowa\n",
      "topic 2:\tsteel ohio mr. percent ice minnesota passed korea crime lowest\n",
      "topic 3:\tnations freedom bless system heroes children honor safe iran black\n",
      "topic 4:\tbiden freedom kentucky michigan debate supreme stood vice leadership soleimani\n",
      "topic 5:\tlouisiana ukraine russia whistleblower kurds impeachment schiff hoax corrupt syria\n",
      "topic 6:\tillegal immigration veterans voted cuts folks aliens percent ice plan\n",
      "topic 7:\tpeace vision minister prime jerusalem region opportunity middle east terrorism\n",
      "topic 8:\tagree amendment justices politician began seeing land foolish gotten tired\n",
      "topic 9:\tbiden sleepy police russia okay polls uh guys minnesota texas\n",
      "topic 10:\tleaving pennsylvania plants mexico gon percent cuts folks hundreds indiana\n",
      "topic 11:\tvoted ice senator kavanaugh percent coal mississippi west crime tomorrow\n",
      "topic 12:\tmichigan mexico percent nafta elite lowest car decades wisconsin woman\n",
      "topic 13:\tfarmers illegal billions texas winning okay percent crime biden aliens\n",
      "topic 14:\tobamacare drug west approved communities paying tennessee lowest criminal folks\n",
      "topic 15:\tbiden okay uh pennsylvania russia gon cases paying closed imagine\n",
      "topic 16:\tvirus ventilators governors medical cases masks testing test okay hospitals\n",
      "topic 17:\tmontana tester senator laws kavanaugh signs hey amendment pelosi votes\n",
      "topic 18:\tuh vaccine fill recovery supreme children rush seat percent constitution\n",
      "topic 19:\tdrug boy kenosha drugs alabama police values billions uh penalty\n"
     ]
    }
   ],
   "source": [
    "for i in range(num_topics):\n",
    "    print(\"topic %s:\\t%s\" % (i, ' '.join([term for term, freq in lda_model.show_topic(i, topn=10)])))"
   ]
  },
  {
   "cell_type": "markdown",
   "metadata": {},
   "source": [
    "Another way of understanding topics is to print out the documents that have the highest topic representation -- i.e., for a given topic $k$, the documents with highest $P(topic=k | document)$.  How much do the documents listed here align with your understanding of the topics?"
   ]
  },
  {
   "cell_type": "code",
   "execution_count": 14,
   "metadata": {},
   "outputs": [
    {
     "name": "stdout",
     "output_type": "stream",
     "text": [
      "puerto tomorrow biden sanctuary farmers district corruption uh bishop ballots\n",
      "\n",
      "0\t0.999\t09/10/2019 Watch LIVE President Trump campaign rally in Fayetteville, North Carolina | ABC News - rally\n",
      "0\t0.999\t09/09/2019 Speech: Donald Trump Holds a Political Rally in Fayetteville, North Carolina - rally\n",
      "0\t0.999\t09/18/2020 Trump talks COVID-19 vaccine distribution, TikTok ban | FULL - speech\n",
      "0\t0.994\t03/11/2020 Bank CEOs Announce Coronavius Measures - speech\n",
      "0\t0.994\t03/12/2020 Trump Meeting with Acting Irish Prime Minish Leo Varadkar - speech\n",
      "\n",
      "hampshire michigan gon father tariffs steel car politicians movement iowa\n",
      "\n",
      "1\t0.999\t08/16/2019 Pres. Trump New Hampshire Rally in Manchester | ABC News Live Coverage - rally\n",
      "1\t0.999\t08/15/2019 Speech: Donald Trump Holds a Political Rally in Manchester, New Hampshire - rally\n",
      "1\t0.540\t08/05/2019 Donald Trump Statement on Mass Shootings - speech\n",
      "1\t0.189\t03/03/2020 Meeting wiht the National Institute of Health - speech\n",
      "\n",
      "steel ohio mr. percent ice minnesota passed korea crime lowest\n",
      "\n",
      "2\t0.999\t10/12/2018 Speech: Donald Trump Holds a Political Rally in Lebanon, Ohio - rally\n",
      "2\t0.999\t10/04/2018 Speech: Donald Trump Holds a Political Rally in Rochester, Minnesota - rally\n",
      "2\t0.999\t06/23/2018 Speech: Donald Trump Holds a Political Rally in Las Vegas, Nevada - rally\n",
      "2\t0.995\t10/27/2018 Speech: Donald Trump Holds a Political Rally in Murphysboro, Illinois - rally\n",
      "2\t0.851\t10/01/2018 Speech: Donald Trump Holds a Political Rally in Johnson City, Tennessee - rally\n",
      "\n",
      "nations freedom bless system heroes children honor safe iran black\n",
      "\n",
      "3\t0.999\t09/17/2017 Address to the United National General Assembly - speech\n",
      "3\t0.999\t02/28/2017 Address to Joint Session of Congress - speech\n",
      "3\t0.999\t09/24/2019 Remarks at the United Nations General Assembly - speech\n",
      "3\t0.999\t09/25/2018 Address at the 73rd Session of the United States General Assembly - speech\n",
      "3\t0.999\t12/18/2017 Remarks on the National Security Strategy - speech\n",
      "\n",
      "biden freedom kentucky michigan debate supreme stood vice leadership soleimani\n",
      "\n",
      "4\t0.999\t10/22/2020 President Trump's '60 Minutes' interview - interview\n",
      "4\t0.999\t10/15/2020 WATCH LIVE: Trump holds campaign rally in Greenville, North Carolina - rally\n",
      "4\t0.999\t10/17/2020 Full speech: President Trump holds campaign rally in Muskegon - rally\n",
      "4\t0.982\t02/20/2020 Speech: Donald Trump Holds a Political Rally in Colorado Springs, Colorado - rally\n",
      "4\t0.961\t01/09/2020 Speech: Donald Trump Holds a Political Rally in Toledo, Ohio - rally\n",
      "\n",
      "louisiana ukraine russia whistleblower kurds impeachment schiff hoax corrupt syria\n",
      "\n",
      "5\t0.999\t10/22/2019 Donald Trump Cabinet Meeting Transcript Trump Calls Emoluments Clause of the Constitution Phony - speech\n",
      "5\t0.999\t11/14/2019 Speech: Donald Trump Holds a Political Rally in Bossier City, Louisiana - rally\n",
      "5\t0.999\t10/10/2019 Speech: Donald Trump Holds a Political Rally in Lake Charles, Louisiana - rally\n",
      "5\t0.999\t11/06/2019 Speech: Donald Trump Holds a Political Rally in Monroe, Louisiana - rally\n",
      "5\t0.787\t12/10/2019 Speech: Donald Trump Holds a Political Rally in Hershey, Pennsylvania - rally\n",
      "\n",
      "illegal immigration veterans voted cuts folks aliens percent ice plan\n",
      "\n",
      "6\t0.999\t10/06/2018 Speech: Donald Trump Holds a Political Rally in Topeka, Kansas - rally\n",
      "6\t0.999\t10/31/2018 Speech: Donald Trump Holds a Political Rally in Fort Myers, Florida - rally\n",
      "6\t0.939\t10/24/2018 Speech: Donald Trump Holds a Political Rally in Mosinee, Wisconsin - rally\n",
      "6\t0.871\t10/09/2018 Speech: Donald Trump Holds a Political Rally in Council Bluffs, Iowa - rally\n",
      "6\t0.819\t06/21/2017 Speech: Donald Trump Holds a Political Rally in Cedar Rapids, Iowa - rally\n",
      "\n",
      "peace vision minister prime jerusalem region opportunity middle east terrorism\n",
      "\n",
      "7\t0.992\t01/28/2020 Middle East Peace Speech Transcript with Israel PM Netanyahu - speech\n",
      "7\t0.122\t01/06/2021 Speech Urging Supporters to Go Home - speech\n",
      "\n",
      "agree amendment justices politician began seeing land foolish gotten tired\n",
      "\n",
      "8\t0.999\t10/19/2016 Debate: 2016-10-19 Paradise Nevada - debate\n",
      "8\t0.999\t10/09/2016 Debate: 2016-10-09 St. Louis Missouri - debate\n",
      "8\t0.061\t01/24/2020 Trump Speaks at March for Life Event - speech\n",
      "8\t0.032\t10/26/2020 Swearing In Ceremony of the Honorable Amy Coney Barrett to the US Supreme Court - speech\n",
      "8\t0.032\t09/26/2020 Announcing His Nominee For the US Supreme Court - speech\n",
      "\n",
      "biden sleepy police russia okay polls uh guys minnesota texas\n",
      "\n",
      "9\t0.999\t09/18/2020 Speech: Donald Trump Holds a Campaign Rally in Bedmidji, Minnesota - rally\n",
      "9\t0.999\t09/03/2020 Trump delivers campaign remarks at Arnold Palmer Regional Airport - rally\n",
      "9\t0.999\t09/08/2020 Speech: Donald Trump Holds a Campaign Rally in Winston-Salem, North Carolina - rally\n",
      "9\t0.999\t09/12/2020 Speech: Donald Trump Holds a Campaign Rally in Minden, Nevada - rally\n",
      "9\t0.999\t09/25/2020 Speech: Donald Trump Holds a Campaign Rally in Newport News, Virginia - rally\n",
      "\n",
      "leaving pennsylvania plants mexico gon percent cuts folks hundreds indiana\n",
      "\n",
      "10\t0.999\t05/21/2019 FULL RALLY: President Trump in Montoursville, Pennsylvania - rally\n",
      "10\t0.999\t09/26/2016 Debate: 2016-09-26 Hempstead New York - debate\n",
      "10\t0.999\t05/20/2019 Speech: Donald Trump Holds a Political Rally in Montoursville, Pennsylvania - rally\n",
      "10\t0.999\t05/10/2018 Speech: Donald Trump Holds a Political Rally in Elkhart, Indiana - rally\n",
      "10\t0.996\t10/22/2018 Speech: Donald Trump Holds a Political Rally in Houston, Texas - rally\n",
      "\n",
      "voted ice senator kavanaugh percent coal mississippi west crime tomorrow\n",
      "\n",
      "11\t0.999\t07/05/2018 Speech: Donald Trump Holds a Political Rally in Great Falls, Montana - rally\n",
      "11\t0.999\t09/29/2018 Speech: Donald Trump Holds a Political Rally in Wheeling, West Virginia - rally\n",
      "11\t0.999\t08/30/2018 Speech: Donald Trump Holds a Political Rally in Evansville, Indiana - rally\n",
      "11\t0.976\t11/05/2018 Speech: Donald Trump Holds a Political Rally in Cape Girardeau, Missouri - rally\n",
      "11\t0.972\t11/03/2018 Speech: Donald Trump Holds a Political Rally in Belgrade, Montana - rally\n",
      "\n",
      "michigan mexico percent nafta elite lowest car decades wisconsin woman\n",
      "\n",
      "12\t0.999\t02/10/2020 Speech: Donald Trump Holds a Political Rally in Manchester, New Hampshire - rally\n",
      "12\t0.999\t12/18/2019 Speech: Donald Trump Holds a Political Rally in Battle Creek, Michigan - rally\n",
      "12\t0.996\t03/28/2019 Speech: Donald Trump Holds a Political Rally in Grand Rapids, Michigan - rally\n",
      "12\t0.973\t12/08/2017 Speech: Donald Trump Holds a Political Rally in Pensacola, Florida - rally\n",
      "12\t0.967\t02/19/2020 Speech: Donald Trump Holds a Political Rally in Phoenix, Arizona - rally\n",
      "\n",
      "farmers illegal billions texas winning okay percent crime biden aliens\n",
      "\n",
      "13\t0.999\t07/23/2019 Donald Trump Speech Transcript Turning Point USA Teen Student Summit Speech - speech\n",
      "13\t0.999\t11/04/2018 Speech: Donald Trump Holds a Political Rally in Macon, Georgia - rally\n",
      "13\t0.999\t10/18/2019 FULL TRUMP RALLY: President Trump holds campaign rally in Dallas, Texas - rally\n",
      "13\t0.999\t10/17/2019 Speech: Donald Trump Holds a Political Rally in Dallas, Texas - rally\n",
      "13\t0.629\t10/20/2018 Speech: Donald Trump Holds a Political Rally in Elko, Nevada - rally\n",
      "\n",
      "obamacare drug west approved communities paying tennessee lowest criminal folks\n",
      "\n",
      "14\t0.999\t02/10/2020 National Governors Association Speech Transcript - speech\n",
      "14\t0.999\t02/11/2020 Donald Trump Talks Roger Stone Colonel Vindman During Veteran Bill Signing - speech\n",
      "14\t0.999\t05/29/2018 Speech: Donald Trump Holds a Political Rally in Nashville, Tennessee - rally\n",
      "14\t0.783\t08/21/2018 Speech: Donald Trump Holds a Political Rally in Charleston, West Virginia - rally\n",
      "14\t0.736\t03/15/2017 Speech: Donald Trump Holds a Political Rally in Nashville, Tennessee - rally\n",
      "\n",
      "biden okay uh pennsylvania russia gon cases paying closed imagine\n",
      "\n",
      "15\t0.999\t10/22/2020 Debate 2 (Trump) - debate\n",
      "15\t0.999\t11/05/2020 Remarks on the 2020 Election - speech\n",
      "15\t0.964\t07/19/2020 President Trump goes one-on-one with Chris Wallace | Full Interview - interview\n",
      "15\t0.949\t12/03/2019 Macron Trump NATO Summit Meeting Transcript - speech\n",
      "15\t0.917\t03/06/2020 Fox News Town Hall Transcript - speech\n",
      "\n",
      "virus ventilators governors medical cases masks testing test okay hospitals\n",
      "\n",
      "16\t1.000\t03/23/2020 Coronavirus Task Force Briefing - speech\n",
      "16\t1.000\t03/24/2020 Coronavirus Task Force Briefing - speech\n",
      "16\t0.999\t03/16/2020 Coronavirus Task Force Update - speech\n",
      "16\t0.999\t03/18/2020 Coronavirus Task Force News Briefing Invokes Defense Production Act - speech\n",
      "16\t0.998\t03/28/2020 Donald Trump Gives Speech Sending off Hospital Ship to NYC - speech\n",
      "\n",
      "montana tester senator laws kavanaugh signs hey amendment pelosi votes\n",
      "\n",
      "17\t0.999\t10/18/2018 Speech: Donald Trump Holds a Political Rally in Missoula, Montana - rally\n",
      "\n",
      "uh vaccine fill recovery supreme children rush seat percent constitution\n",
      "\n",
      "18\t0.986\t09/23/2020 President Trump holds press conference at the White House - speech\n",
      "18\t0.986\t09/17/2020 LIVE: Trump's full speech at the White House Conference on American History (Sept. 17) | NTD - speech\n",
      "18\t0.971\t09/19/2020 Speech: Donald Trump Holds a Campaign Rally in Fayetteville, North Carolina - rally\n",
      "18\t0.033\t08/17/2020 WATCH LIVE: President Trump comes to Minnesota for Mankato campaign stop - rally\n",
      "18\t0.033\t08/04/2020 Trump offers Lebanon assistance following explosion, touts' coronavirus response | FULL - speech\n",
      "\n",
      "drug boy kenosha drugs alabama police values billions uh penalty\n",
      "\n",
      "19\t0.999\t03/19/2018 Remarks on Combatting the Opioid Crisis - speech\n",
      "19\t0.999\t09/22/2017 Speech: Donald Trump Holds a Political Rally in Huntsville, Alabama - rally\n",
      "19\t0.975\t02/15/2019 Speech Declaring a National Emergency - speech\n",
      "19\t0.807\t07/24/2017 Speech at the Boy Scout Jamboree - speech\n",
      "19\t0.328\t09/01/2020 Jacob Blake protests: Trump announces funding for Kenosha police, businesses during visit | FULL - speech\n",
      "\n"
     ]
    }
   ],
   "source": [
    "topic_model=lda_model \n",
    "\n",
    "topic_docs=[]\n",
    "for i in range(num_topics):\n",
    "    topic_docs.append({})\n",
    "for doc_id in range(len(corpus)):\n",
    "    doc_topics=topic_model.get_document_topics(corpus[doc_id])\n",
    "    for topic_num, topic_prob in doc_topics:\n",
    "        topic_docs[topic_num][doc_id]=topic_prob\n",
    "\n",
    "for i in range(num_topics):\n",
    "    print(\"%s\\n\" % ' '.join([term for term, freq in topic_model.show_topic(i, topn=10)]))\n",
    "    sorted_x = sorted(topic_docs[i].items(), key=operator.itemgetter(1), reverse=True)\n",
    "    for k, v in sorted_x[:5]:\n",
    "        print(\"%s\\t%.3f\\t%s\" % (i,v,doc_names[k]))\n",
    "    print()\n",
    "    \n",
    "    "
   ]
  },
  {
   "cell_type": "code",
   "execution_count": null,
   "metadata": {},
   "outputs": [],
   "source": []
  }
 ],
 "metadata": {
  "kernelspec": {
   "display_name": "Python 3 (ipykernel)",
   "language": "python",
   "name": "python3"
  },
  "language_info": {
   "codemirror_mode": {
    "name": "ipython",
    "version": 3
   },
   "file_extension": ".py",
   "mimetype": "text/x-python",
   "name": "python",
   "nbconvert_exporter": "python",
   "pygments_lexer": "ipython3",
   "version": "3.8.8"
  }
 },
 "nbformat": 4,
 "nbformat_minor": 2
}
