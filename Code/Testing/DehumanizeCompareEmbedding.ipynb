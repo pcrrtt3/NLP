{
 "cells": [
  {
   "cell_type": "code",
   "execution_count": 27,
   "id": "926a7a48",
   "metadata": {},
   "outputs": [],
   "source": [
    "import spacy\n",
    "from collections import defaultdict\n",
    "import pandas as pd\n",
    "import numpy as np\n",
    "import re\n",
    "import os\n",
    "\n",
    "from gensim.models import Word2Vec, KeyedVectors\n",
    "from gensim.scripts.glove2word2vec import glove2word2vec\n",
    "from gensim.test.utils import datapath\n",
    "\n",
    "import nltk\n",
    "from nltk.tokenize import RegexpTokenizer\n",
    "from collections import Counter\n",
    "from scipy.stats import wilcoxon"
   ]
  },
  {
   "cell_type": "code",
   "execution_count": 2,
   "id": "9937acc3",
   "metadata": {},
   "outputs": [],
   "source": [
    "inpath2= os.path.dirname(os.path.dirname(os.getcwd()))+\"\\\\Data\\\\Intermediate Data\\\\\"\n",
    "df=pd.read_csv(inpath2+'final_all_files.csv')"
   ]
  },
  {
   "cell_type": "code",
   "execution_count": 3,
   "id": "577974ef",
   "metadata": {},
   "outputs": [],
   "source": [
    "inpath=os.path.dirname(os.path.dirname(os.getcwd()))+\"\\\\Data\\\\Source Data\\\\\"\n",
    "vad=pd.read_csv(inpath+'NRC-VAD-Lexicon.txt', sep='\\t', header=None)\n",
    "vad.set_index(0, inplace=True)"
   ]
  },
  {
   "cell_type": "code",
   "execution_count": 4,
   "id": "96f122e6",
   "metadata": {},
   "outputs": [
    {
     "data": {
      "text/plain": [
       "19971"
      ]
     },
     "execution_count": 4,
     "metadata": {},
     "output_type": "execute_result"
    }
   ],
   "source": [
    "vad=vad[[1]]\n",
    "vad_dict=vad.to_dict('index')\n",
    "vad_dict={v:j for v,k in vad_dict.items() for i,j in k.items()}\n",
    "len(vad_dict)"
   ]
  },
  {
   "cell_type": "code",
   "execution_count": 5,
   "id": "d57f97d2",
   "metadata": {},
   "outputs": [],
   "source": [
    "df=df[df['candidate']=='trump']\n",
    "df['rally']=np.where(df['event_type']=='rally', 1, 0)"
   ]
  },
  {
   "cell_type": "code",
   "execution_count": 6,
   "id": "a2bfe4c2",
   "metadata": {},
   "outputs": [],
   "source": [
    "rally_list=df[df['rally']==1]['text'].to_list()\n",
    "rally_titles=df[df['rally']==1]['title'].to_list()\n",
    "speech_list=df[df['rally']==0]['text'].to_list()\n",
    "speech_titles=df[df['rally']==0]['title'].to_list()"
   ]
  },
  {
   "cell_type": "markdown",
   "id": "1d794c68",
   "metadata": {},
   "source": [
    "#### Word Embedding Neighboor Valence Functions"
   ]
  },
  {
   "cell_type": "code",
   "execution_count": 7,
   "id": "7d05939d",
   "metadata": {},
   "outputs": [],
   "source": [
    "look_for = re.compile(\"\\w+(?:[-']\\w+)*\")\n",
    "tokenizer=RegexpTokenizer(look_for)"
   ]
  },
  {
   "cell_type": "code",
   "execution_count": 8,
   "id": "f8ea83ee",
   "metadata": {},
   "outputs": [],
   "source": [
    "#get the tokens for the rallies\n",
    "def tokenize_for_w2v(text_list):\n",
    "    num_tokens=0\n",
    "    text_list_tokenized=[]\n",
    "    for text in text_list:\n",
    "        new_tokens=[i.lower() for i in tokenizer.tokenize(text)]\n",
    "        num_tokens+=len(new_tokens)\n",
    "        #print(num_tokens)\n",
    "        text_list_tokenized.append(new_tokens)\n",
    "    print(num_tokens)\n",
    "    return text_list_tokenized"
   ]
  },
  {
   "cell_type": "code",
   "execution_count": 9,
   "id": "63a1fb14",
   "metadata": {},
   "outputs": [],
   "source": [
    "#model based on the tokens\n",
    "def model_w2v(text_list_tokenized):\n",
    "    model = Word2Vec(\n",
    "        text_list_tokenized,\n",
    "        vector_size=100,\n",
    "        window=10,\n",
    "        min_count=5,\n",
    "        workers=10)\n",
    "    #save the vectors\n",
    "    trained_vectors = model.wv\n",
    "    trained_vectors.save_word2vec_format('rally_embeddings.txt', binary=False)\n",
    "    #normalizing the vectors\n",
    "    model.init_sims(replace=True)\n",
    "    return model, trained_vectors"
   ]
  },
  {
   "cell_type": "code",
   "execution_count": 10,
   "id": "a148f6b8",
   "metadata": {},
   "outputs": [],
   "source": [
    "def get_counts(tokens):\n",
    "    counts=Counter()\n",
    "    for text in tokens:\n",
    "        for t in text:\n",
    "            counts[t]+=1\n",
    "    return counts"
   ]
  },
  {
   "cell_type": "code",
   "execution_count": 11,
   "id": "035928ed",
   "metadata": {},
   "outputs": [],
   "source": [
    "def centroid(words, text_list_tokenized, trained_vectors):\n",
    "    word_counts=get_counts(text_list_tokenized)\n",
    "    weight_list=[]\n",
    "    arrays=[]\n",
    "    for i in words:\n",
    "        if i in trained_vectors.key_to_index.keys():\n",
    "            weight_list.extend([word_counts[i]])\n",
    "            array_i=trained_vectors.get_vector(i)\n",
    "            arrays.append(array_i)\n",
    "    weights=[i/np.sum(weight_list) for i in weight_list]\n",
    "    weight_dict={}\n",
    "    for w,j in zip(weights, words):\n",
    "        weight_dict[j]=w\n",
    "    centroid=np.average(arrays, axis=0, weights=weights)\n",
    "    #print(weights)\n",
    "    #print(arrays)\n",
    "    return weight_dict, centroid"
   ]
  },
  {
   "cell_type": "code",
   "execution_count": 12,
   "id": "2af31777",
   "metadata": {},
   "outputs": [],
   "source": [
    "def valence_score(trained_vectors, centroid, words, topn=50):\n",
    "    top_word_scores=[i for i in trained_vectors.similar_by_vector(centroid, topn=topn, restrict_vocab=None) if i[0] not in words] \n",
    "    top_words=[i[0] for i in trained_vectors.similar_by_vector(centroid, topn=topn, restrict_vocab=None) if i[0] not in words]   \n",
    "    mean_valence=np.array([vad_dict[t] for t in top_words if t in vad_dict.keys()]).mean()\n",
    "    return top_word_scores, mean_valence"
   ]
  },
  {
   "cell_type": "code",
   "execution_count": 13,
   "id": "7e1f841b",
   "metadata": {},
   "outputs": [],
   "source": [
    "def embedding_valence(words, text_list):\n",
    "    #tokenize the speeches\n",
    "    text_list_tokenized=tokenize_for_w2v(text_list)\n",
    "    #run word2vec and create trained vectors\n",
    "    model, trained_vectors=model_w2v(text_list_tokenized)\n",
    "    #calculate the centroid of the words\n",
    "    weights, centoidvector=centroid(words, text_list_tokenized, trained_vectors)\n",
    "    #calculate the average valence of the 50 nearest neighbors\n",
    "    top_words, mean_valence=valence_score(trained_vectors, centoidvector, words)\n",
    "    return mean_valence, top_words, weights"
   ]
  },
  {
   "cell_type": "markdown",
   "id": "af0f3e0e",
   "metadata": {},
   "source": [
    "#### Word Embedding Neighbor Valence"
   ]
  },
  {
   "cell_type": "code",
   "execution_count": 14,
   "id": "4414306e",
   "metadata": {},
   "outputs": [],
   "source": [
    "democrat_words=[\"democrat\", \"democrats\", \"liberals\", \"socialists\", \"socialist\", \"liberal\", \"democrat-run\"]"
   ]
  },
  {
   "cell_type": "code",
   "execution_count": 15,
   "id": "64235c7d",
   "metadata": {},
   "outputs": [
    {
     "name": "stdout",
     "output_type": "stream",
     "text": [
      "1040144\n"
     ]
    },
    {
     "name": "stderr",
     "output_type": "stream",
     "text": [
      "C:\\Users\\pcrrt\\Anaconda3\\envs\\anlp_spacy2\\lib\\site-packages\\ipykernel_launcher.py:13: DeprecationWarning: Call to deprecated `init_sims` (Gensim 4.0.0 implemented internal optimizations that make calls to init_sims() unnecessary. init_sims() is now obsoleted and will be completely removed in future versions. See https://github.com/RaRe-Technologies/gensim/wiki/Migrating-from-Gensim-3.x-to-4).\n",
      "  del sys.path[0]\n"
     ]
    }
   ],
   "source": [
    "rally_valence_score, rally_top_words, rally_weights=embedding_valence(democrat_words, rally_list)"
   ]
  },
  {
   "cell_type": "code",
   "execution_count": 16,
   "id": "0f840aea",
   "metadata": {},
   "outputs": [
    {
     "data": {
      "text/plain": [
       "0.4641304347826086"
      ]
     },
     "execution_count": 16,
     "metadata": {},
     "output_type": "execute_result"
    }
   ],
   "source": [
    "rally_valence_score"
   ]
  },
  {
   "cell_type": "code",
   "execution_count": 17,
   "id": "7f3b6ac5",
   "metadata": {},
   "outputs": [
    {
     "data": {
      "text/plain": [
       "{'democrat': 0.29707998307236566,\n",
       " 'democrats': 0.5666525603046975,\n",
       " 'liberals': 0.012272534913245875,\n",
       " 'socialists': 0.014388489208633094,\n",
       " 'socialist': 0.05459162082099027,\n",
       " 'liberal': 0.0452814219212865,\n",
       " 'democrat-run': 0.00973338975878121}"
      ]
     },
     "execution_count": 17,
     "metadata": {},
     "output_type": "execute_result"
    }
   ],
   "source": [
    " rally_weights"
   ]
  },
  {
   "cell_type": "code",
   "execution_count": 18,
   "id": "ee65ea6f",
   "metadata": {},
   "outputs": [
    {
     "data": {
      "text/plain": [
       "[('radical', 0.8455104827880859),\n",
       " ('extreme', 0.7867962121963501),\n",
       " ('democratic', 0.7788916230201721),\n",
       " ('socialism', 0.7587141990661621),\n",
       " ('party', 0.7435035705566406),\n",
       " ('platform', 0.7169208526611328),\n",
       " ('resistance', 0.6994298696517944),\n",
       " ('mob', 0.6977725028991699),\n",
       " ('left-wing', 0.6773056983947754),\n",
       " ('do-nothing', 0.6740021109580994),\n",
       " ('crime', 0.6644102334976196),\n",
       " ('late-term', 0.6597546339035034),\n",
       " ('abortion', 0.6507912874221802),\n",
       " ('control', 0.6506705284118652),\n",
       " ('unhinged', 0.6469799280166626),\n",
       " ('corrupt', 0.6454719305038452),\n",
       " ('message', 0.6424803733825684),\n",
       " ('lawmakers', 0.6396994590759277),\n",
       " ('obstructionist', 0.6389696598052979),\n",
       " ('gain', 0.6273723840713501),\n",
       " ('republicans', 0.6202999949455261),\n",
       " ('agenda', 0.6181731820106506),\n",
       " ('washington', 0.6155006885528564),\n",
       " ('desperate', 0.6153740882873535),\n",
       " ('cues', 0.6115223169326782),\n",
       " ('far-left', 0.6112707853317261),\n",
       " ('sanders', 0.6100523471832275),\n",
       " ('voters', 0.6073018312454224),\n",
       " ('obstructionists', 0.6053080558776855),\n",
       " ('mainstream', 0.6050984263420105),\n",
       " (\"today's\", 0.6017449498176575),\n",
       " ('corruption', 0.6012958288192749),\n",
       " ('becoming', 0.5992238521575928),\n",
       " ('congress', 0.5990123152732849),\n",
       " ('controlled', 0.5960307121276855),\n",
       " ('waters', 0.5955106616020203),\n",
       " ('hypocrites', 0.5941052436828613),\n",
       " ('obstruct', 0.5940470695495605),\n",
       " ('islamic', 0.5929268002510071),\n",
       " ('determined', 0.5904983282089233),\n",
       " ('controls', 0.5904679894447327),\n",
       " ('nancy', 0.5903034210205078),\n",
       " ('super', 0.5896334052085876),\n",
       " ('issue', 0.5834786891937256)]"
      ]
     },
     "execution_count": 18,
     "metadata": {},
     "output_type": "execute_result"
    }
   ],
   "source": [
    "rally_top_words"
   ]
  },
  {
   "cell_type": "code",
   "execution_count": 19,
   "id": "e4ab4127",
   "metadata": {},
   "outputs": [
    {
     "name": "stdout",
     "output_type": "stream",
     "text": [
      "562856\n"
     ]
    },
    {
     "name": "stderr",
     "output_type": "stream",
     "text": [
      "C:\\Users\\pcrrt\\Anaconda3\\envs\\anlp_spacy2\\lib\\site-packages\\ipykernel_launcher.py:13: DeprecationWarning: Call to deprecated `init_sims` (Gensim 4.0.0 implemented internal optimizations that make calls to init_sims() unnecessary. init_sims() is now obsoleted and will be completely removed in future versions. See https://github.com/RaRe-Technologies/gensim/wiki/Migrating-from-Gensim-3.x-to-4).\n",
      "  del sys.path[0]\n"
     ]
    }
   ],
   "source": [
    "speech_valence_score, speech_top_words, speech_weights=embedding_valence(democrat_words, speech_list)"
   ]
  },
  {
   "cell_type": "code",
   "execution_count": 20,
   "id": "38bf002d",
   "metadata": {},
   "outputs": [
    {
     "data": {
      "text/plain": [
       "0.5599200000000001"
      ]
     },
     "execution_count": 20,
     "metadata": {},
     "output_type": "execute_result"
    }
   ],
   "source": [
    "speech_valence_score"
   ]
  },
  {
   "cell_type": "code",
   "execution_count": 21,
   "id": "c24ba80a",
   "metadata": {},
   "outputs": [
    {
     "data": {
      "text/plain": [
       "[('republicans', 0.8390195965766907),\n",
       " ('word', 0.7972410917282104),\n",
       " ('voter', 0.7828963994979858),\n",
       " ('id', 0.775454044342041),\n",
       " ('blame', 0.7722207903862),\n",
       " ('kurds', 0.7642298936843872),\n",
       " ('press', 0.7584674954414368),\n",
       " ('negotiate', 0.7430112361907959),\n",
       " ('vote', 0.7398492693901062),\n",
       " ('russians', 0.7356542348861694),\n",
       " ('catch-and-release', 0.7354024648666382),\n",
       " ('existed', 0.7327938675880432),\n",
       " ('whatever', 0.7231122851371765),\n",
       " ('opposite', 0.717688262462616),\n",
       " ('media', 0.7120858430862427),\n",
       " ('whoever', 0.7116665840148926),\n",
       " ('observers', 0.710892915725708),\n",
       " ('crazy', 0.7056524157524109),\n",
       " ('anymore', 0.7044343948364258),\n",
       " ('lousy', 0.7039798498153687),\n",
       " ('necessarily', 0.7001340389251709),\n",
       " ('solve', 0.6955881118774414),\n",
       " ('votes', 0.6943065524101257),\n",
       " ('buybacks', 0.6931703090667725),\n",
       " ('independents', 0.693042516708374),\n",
       " ('handle', 0.6929306983947754),\n",
       " ('anyway', 0.6925455927848816),\n",
       " ('reason', 0.691535234451294),\n",
       " ('otherwise', 0.6863505840301514),\n",
       " ('advice', 0.683644711971283),\n",
       " ('games', 0.6813907623291016),\n",
       " ('copays', 0.6721842288970947),\n",
       " ('desperately', 0.6715660095214844),\n",
       " ('bills', 0.6697512865066528),\n",
       " ('trucks', 0.6691195964813232),\n",
       " ('cheat', 0.6672798991203308),\n",
       " ('names', 0.6665557622909546),\n",
       " ('favor', 0.6661359071731567),\n",
       " ('positions', 0.6644648313522339),\n",
       " ('familiar', 0.6631016135215759),\n",
       " ('hillary', 0.6620581746101379),\n",
       " ('symptoms', 0.6603244543075562),\n",
       " ('account', 0.6590833067893982),\n",
       " ('figure', 0.6589831113815308),\n",
       " ('kid', 0.657207190990448),\n",
       " ('voting', 0.6557652354240417),\n",
       " ('ride', 0.6543568968772888),\n",
       " ('fracking', 0.6489035487174988),\n",
       " ('sound', 0.6483115553855896)]"
      ]
     },
     "execution_count": 21,
     "metadata": {},
     "output_type": "execute_result"
    }
   ],
   "source": [
    "speech_top_words"
   ]
  },
  {
   "cell_type": "code",
   "execution_count": 22,
   "id": "f17c79b0",
   "metadata": {},
   "outputs": [
    {
     "data": {
      "text/plain": [
       "{'democrat': 0.2552204176334107,\n",
       " 'democrats': 0.6496519721577726,\n",
       " 'liberals': 0.030162412993039442,\n",
       " 'socialists': 0.04408352668213457,\n",
       " 'socialist': 0.02088167053364269}"
      ]
     },
     "execution_count": 22,
     "metadata": {},
     "output_type": "execute_result"
    }
   ],
   "source": [
    "speech_weights"
   ]
  },
  {
   "cell_type": "code",
   "execution_count": 23,
   "id": "c1888964",
   "metadata": {},
   "outputs": [
    {
     "name": "stdout",
     "output_type": "stream",
     "text": [
      "562856\n"
     ]
    },
    {
     "name": "stderr",
     "output_type": "stream",
     "text": [
      "C:\\Users\\pcrrt\\Anaconda3\\envs\\anlp_spacy2\\lib\\site-packages\\ipykernel_launcher.py:13: DeprecationWarning: Call to deprecated `init_sims` (Gensim 4.0.0 implemented internal optimizations that make calls to init_sims() unnecessary. init_sims() is now obsoleted and will be completely removed in future versions. See https://github.com/RaRe-Technologies/gensim/wiki/Migrating-from-Gensim-3.x-to-4).\n",
      "  del sys.path[0]\n"
     ]
    }
   ],
   "source": [
    "text_list_tokenized=tokenize_for_w2v(speech_list)\n",
    "model, trained_vectors=model_w2v(text_list_tokenized)\n",
    "#weights, centoidvector=centroid(democrat_words, text_list_tokenized, trained_vectors)\n",
    "#top_words, mean_valence=valence_score(trained_vectors, centoidvector, democrat_words)"
   ]
  },
  {
   "cell_type": "code",
   "execution_count": null,
   "id": "2d84b73e",
   "metadata": {},
   "outputs": [],
   "source": [
    "#Wilcoxon’s signed-rank test\n",
    "wilcoxon(0.4641304347826086)"
   ]
  },
  {
   "cell_type": "markdown",
   "id": "ede11adf",
   "metadata": {},
   "source": [
    "#### Bootstrap"
   ]
  },
  {
   "cell_type": "code",
   "execution_count": 24,
   "id": "a60b34d9",
   "metadata": {},
   "outputs": [],
   "source": [
    "def bootstrap(rallies, speeches, words, B=10000, confidence_level=0.95):\n",
    "    metric_bootstrap=[]\n",
    "    upper_c=confidence_level*100\n",
    "    lower_c=100-(confidence_level*100)\n",
    "    for i in range(B):\n",
    "        rally_valence_score, rally_top_words, rally_weights=embedding_valence(words, rallies)\n",
    "        speech_valence_score, speech_top_words, speech_weights=embedding_valence(words, speeches)\n",
    "        diff=speech_valence_score-rally_valence_score\n",
    "        metric_bootstrap.append(diff)\n",
    "    lower=np.percentile(metric_bootstrap, lower_c)\n",
    "    upper=np.percentile(metric_bootstrap, upper_c)\n",
    "    median=np.percentile(metric_bootstrap, 50)\n",
    "    return lower, median, upper"
   ]
  },
  {
   "cell_type": "code",
   "execution_count": 25,
   "id": "69675643",
   "metadata": {},
   "outputs": [
    {
     "name": "stdout",
     "output_type": "stream",
     "text": [
      "1040144\n"
     ]
    },
    {
     "name": "stderr",
     "output_type": "stream",
     "text": [
      "C:\\Users\\pcrrt\\Anaconda3\\envs\\anlp_spacy2\\lib\\site-packages\\ipykernel_launcher.py:13: DeprecationWarning: Call to deprecated `init_sims` (Gensim 4.0.0 implemented internal optimizations that make calls to init_sims() unnecessary. init_sims() is now obsoleted and will be completely removed in future versions. See https://github.com/RaRe-Technologies/gensim/wiki/Migrating-from-Gensim-3.x-to-4).\n",
      "  del sys.path[0]\n"
     ]
    },
    {
     "name": "stdout",
     "output_type": "stream",
     "text": [
      "562856\n",
      "1040144\n",
      "562856\n",
      "1040144\n",
      "562856\n",
      "1040144\n",
      "562856\n",
      "1040144\n",
      "562856\n",
      "1040144\n",
      "562856\n",
      "1040144\n",
      "562856\n",
      "1040144\n",
      "562856\n",
      "1040144\n",
      "562856\n",
      "1040144\n",
      "562856\n",
      "1040144\n",
      "562856\n",
      "1040144\n",
      "562856\n",
      "1040144\n",
      "562856\n",
      "1040144\n",
      "562856\n",
      "1040144\n",
      "562856\n",
      "1040144\n",
      "562856\n",
      "1040144\n",
      "562856\n",
      "1040144\n",
      "562856\n",
      "1040144\n",
      "562856\n",
      "1040144\n",
      "562856\n",
      "1040144\n",
      "562856\n",
      "1040144\n",
      "562856\n",
      "1040144\n",
      "562856\n",
      "1040144\n",
      "562856\n",
      "1040144\n",
      "562856\n",
      "1040144\n",
      "562856\n",
      "1040144\n",
      "562856\n",
      "1040144\n",
      "562856\n",
      "1040144\n",
      "562856\n",
      "1040144\n",
      "562856\n",
      "1040144\n",
      "562856\n",
      "1040144\n",
      "562856\n",
      "1040144\n",
      "562856\n",
      "1040144\n",
      "562856\n",
      "1040144\n",
      "562856\n",
      "1040144\n",
      "562856\n",
      "1040144\n",
      "562856\n",
      "1040144\n",
      "562856\n",
      "1040144\n",
      "562856\n",
      "1040144\n",
      "562856\n",
      "1040144\n",
      "562856\n",
      "1040144\n",
      "562856\n",
      "1040144\n",
      "562856\n",
      "1040144\n",
      "562856\n",
      "1040144\n",
      "562856\n",
      "1040144\n",
      "562856\n",
      "1040144\n",
      "562856\n",
      "1040144\n",
      "562856\n",
      "1040144\n",
      "562856\n",
      "1040144\n",
      "562856\n",
      "1040144\n",
      "562856\n",
      "1040144\n",
      "562856\n",
      "1040144\n",
      "562856\n",
      "1040144\n",
      "562856\n",
      "1040144\n",
      "562856\n",
      "1040144\n",
      "562856\n",
      "1040144\n",
      "562856\n",
      "1040144\n",
      "562856\n",
      "1040144\n",
      "562856\n",
      "1040144\n",
      "562856\n",
      "1040144\n",
      "562856\n",
      "1040144\n",
      "562856\n",
      "1040144\n",
      "562856\n",
      "1040144\n",
      "562856\n",
      "1040144\n",
      "562856\n",
      "1040144\n",
      "562856\n",
      "1040144\n",
      "562856\n",
      "1040144\n",
      "562856\n",
      "1040144\n",
      "562856\n",
      "1040144\n",
      "562856\n",
      "1040144\n",
      "562856\n",
      "1040144\n",
      "562856\n",
      "1040144\n",
      "562856\n",
      "1040144\n",
      "562856\n",
      "1040144\n",
      "562856\n",
      "1040144\n",
      "562856\n",
      "1040144\n",
      "562856\n",
      "1040144\n",
      "562856\n",
      "1040144\n",
      "562856\n",
      "1040144\n",
      "562856\n",
      "1040144\n",
      "562856\n",
      "1040144\n",
      "562856\n",
      "1040144\n",
      "562856\n",
      "1040144\n",
      "562856\n",
      "1040144\n",
      "562856\n",
      "1040144\n",
      "562856\n",
      "1040144\n",
      "562856\n",
      "1040144\n",
      "562856\n",
      "1040144\n",
      "562856\n",
      "1040144\n",
      "562856\n",
      "1040144\n",
      "562856\n",
      "1040144\n",
      "562856\n",
      "1040144\n",
      "562856\n",
      "1040144\n",
      "562856\n",
      "1040144\n",
      "562856\n",
      "1040144\n",
      "562856\n",
      "1040144\n",
      "562856\n",
      "1040144\n",
      "562856\n",
      "1040144\n",
      "562856\n",
      "1040144\n",
      "562856\n",
      "-0.022086310892172882, 0.04667876623376627, 0.11948689408867001\n"
     ]
    }
   ],
   "source": [
    "lower, median, upper=bootstrap(rally_list, speech_list, democrat_words, B=100, confidence_level=0.95)\n",
    "print(\"{}, {}, {}\".format(lower, median, upper))"
   ]
  },
  {
   "cell_type": "code",
   "execution_count": 26,
   "id": "7f2db8af",
   "metadata": {},
   "outputs": [
    {
     "name": "stdout",
     "output_type": "stream",
     "text": [
      "-0.022086310892172882, 0.04667876623376627, 0.11948689408867001\n"
     ]
    }
   ],
   "source": [
    "print(\"{}, {}, {}\".format(lower, median, upper))"
   ]
  },
  {
   "cell_type": "code",
   "execution_count": null,
   "id": "6182b08d",
   "metadata": {},
   "outputs": [],
   "source": []
  }
 ],
 "metadata": {
  "kernelspec": {
   "display_name": "Python [conda env:anlp_spacy2] *",
   "language": "python",
   "name": "conda-env-anlp_spacy2-py"
  },
  "language_info": {
   "codemirror_mode": {
    "name": "ipython",
    "version": 3
   },
   "file_extension": ".py",
   "mimetype": "text/x-python",
   "name": "python",
   "nbconvert_exporter": "python",
   "pygments_lexer": "ipython3",
   "version": "3.7.11"
  }
 },
 "nbformat": 4,
 "nbformat_minor": 5
}
