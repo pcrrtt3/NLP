{
 "cells": [
  {
   "cell_type": "code",
   "execution_count": 1,
   "metadata": {},
   "outputs": [],
   "source": [
    "import pandas as pd\n",
    "import os\n",
    "import numpy as np\n",
    "from lexicalrichness import LexicalRichness\n",
    "import textstat\n",
    "import re\n",
    "import nltk\n",
    "from collections import Counter\n",
    "from scipy.stats import ttest_ind\n",
    "from scipy.stats import levene\n",
    "from scipy.stats import wald\n",
    "from scipy.stats import mannwhitneyu\n",
    "import itertools"
   ]
  },
  {
   "cell_type": "code",
   "execution_count": 2,
   "metadata": {},
   "outputs": [],
   "source": [
    "inpath2= os.path.dirname(os.path.dirname(os.getcwd()))+\"\\\\Data\\\\Intermediate Data\\\\\"\n",
    "df=pd.read_csv(inpath2+'final_all_files.csv')"
   ]
  },
  {
   "cell_type": "code",
   "execution_count": 3,
   "metadata": {},
   "outputs": [],
   "source": [
    "df['text_len']=df['text'].apply(lambda x: len(x))"
   ]
  },
  {
   "cell_type": "markdown",
   "metadata": {},
   "source": [
    "MATTR"
   ]
  },
  {
   "cell_type": "code",
   "execution_count": 4,
   "metadata": {},
   "outputs": [],
   "source": [
    "df['mattr'] = df['text'].apply(lambda x: LexicalRichness(x).mattr(window_size=25))"
   ]
  },
  {
   "cell_type": "markdown",
   "metadata": {},
   "source": [
    "Flesch-Kincaid Grade Level"
   ]
  },
  {
   "cell_type": "code",
   "execution_count": 5,
   "metadata": {},
   "outputs": [],
   "source": [
    "df['FK']=df['text'].apply(lambda x: textstat.flesch_kincaid_grade(x))"
   ]
  },
  {
   "cell_type": "code",
   "execution_count": 22,
   "metadata": {},
   "outputs": [
    {
     "name": "stderr",
     "output_type": "stream",
     "text": [
      "[nltk_data] Downloading package cmudict to\n",
      "[nltk_data]     C:\\Users\\pcrrt\\AppData\\Roaming\\nltk_data...\n",
      "[nltk_data]   Package cmudict is already up-to-date!\n"
     ]
    },
    {
     "data": {
      "text/plain": [
       "True"
      ]
     },
     "execution_count": 22,
     "metadata": {},
     "output_type": "execute_result"
    }
   ],
   "source": [
    "nltk.download('cmudict')"
   ]
  },
  {
   "cell_type": "code",
   "execution_count": 23,
   "metadata": {},
   "outputs": [],
   "source": [
    "arpabet = nltk.corpus.cmudict.dict()"
   ]
  },
  {
   "cell_type": "code",
   "execution_count": 24,
   "metadata": {},
   "outputs": [
    {
     "name": "stdout",
     "output_type": "stream",
     "text": [
      "Requirement already satisfied: g2p_en in c:\\users\\pcrrt\\anaconda3\\envs\\anlp\\lib\\site-packages (2.1.0)\n",
      "Requirement already satisfied: distance>=0.1.3 in c:\\users\\pcrrt\\anaconda3\\envs\\anlp\\lib\\site-packages (from g2p_en) (0.1.3)\n",
      "Requirement already satisfied: inflect>=0.3.1 in c:\\users\\pcrrt\\anaconda3\\envs\\anlp\\lib\\site-packages (from g2p_en) (5.3.0)\n",
      "Requirement already satisfied: numpy>=1.13.1 in c:\\users\\pcrrt\\anaconda3\\envs\\anlp\\lib\\site-packages (from g2p_en) (1.21.2)\n",
      "Requirement already satisfied: nltk>=3.2.4 in c:\\users\\pcrrt\\anaconda3\\envs\\anlp\\lib\\site-packages (from g2p_en) (3.6.2)\n",
      "Requirement already satisfied: tqdm in c:\\users\\pcrrt\\anaconda3\\envs\\anlp\\lib\\site-packages (from nltk>=3.2.4->g2p_en) (4.62.1)\n",
      "Requirement already satisfied: joblib in c:\\users\\pcrrt\\anaconda3\\envs\\anlp\\lib\\site-packages (from nltk>=3.2.4->g2p_en) (1.0.1)\n",
      "Requirement already satisfied: click in c:\\users\\pcrrt\\anaconda3\\envs\\anlp\\lib\\site-packages (from nltk>=3.2.4->g2p_en) (7.1.2)\n",
      "Requirement already satisfied: regex in c:\\users\\pcrrt\\anaconda3\\envs\\anlp\\lib\\site-packages (from nltk>=3.2.4->g2p_en) (2021.8.3)\n",
      "Requirement already satisfied: colorama in c:\\users\\pcrrt\\anaconda3\\envs\\anlp\\lib\\site-packages (from tqdm->nltk>=3.2.4->g2p_en) (0.4.4)\n"
     ]
    }
   ],
   "source": [
    "!pip install g2p_en"
   ]
  },
  {
   "cell_type": "code",
   "execution_count": 25,
   "metadata": {},
   "outputs": [],
   "source": [
    "from g2p_en import G2p\n",
    "g2p = G2p()"
   ]
  },
  {
   "cell_type": "code",
   "execution_count": 26,
   "metadata": {},
   "outputs": [],
   "source": [
    "def get_pronunciation(word):\n",
    "    if word in arpabet:\n",
    "        # pick the first pronunciation\n",
    "        return arpabet[word][0]\n",
    "\n",
    "    else:\n",
    "        return g2p(word)"
   ]
  },
  {
   "cell_type": "code",
   "execution_count": 27,
   "metadata": {},
   "outputs": [],
   "source": [
    "def get_syllable_count(word):\n",
    "    pronunciation=get_pronunciation(word)\n",
    "    sylls=0\n",
    "    for phon in pronunciation:\n",
    "        # vowels in arpabet end in digits (indicating stress)\n",
    "        if re.search(\"\\d$\", phon) is not None:\n",
    "            sylls+=1\n",
    "    return sylls"
   ]
  },
  {
   "cell_type": "code",
   "execution_count": 28,
   "metadata": {},
   "outputs": [],
   "source": [
    "def flesch_kincaid_grade_level(text):\n",
    "    sentences=nltk.sent_tokenize(text)\n",
    "    words=[i for i in nltk.word_tokenize(text) if re.search('[A-Z]+|[a-z]+|\\d+', i)!=None]\n",
    "    syl_count=np.array([get_syllable_count(i) for i in words]).sum()\n",
    "    x=(.39*(len(words)/len(sentences)))+(11.8*(syl_count/len(words)))-15.59\n",
    "    return x"
   ]
  },
  {
   "cell_type": "code",
   "execution_count": 30,
   "metadata": {},
   "outputs": [],
   "source": [
    "df['FK2']=df['text'].apply(lambda x: flesch_kincaid_grade_level(x))"
   ]
  },
  {
   "cell_type": "markdown",
   "metadata": {},
   "source": [
    "Thematic Concentration"
   ]
  },
  {
   "cell_type": "code",
   "execution_count": 6,
   "metadata": {},
   "outputs": [],
   "source": [
    "def tokenize(data):\n",
    "    return nltk.word_tokenize(data)\n",
    "def get_counts(tokens):\n",
    "    counts=Counter()\n",
    "    for token in tokens:\n",
    "        counts[token]+=1\n",
    "    return counts"
   ]
  },
  {
   "cell_type": "code",
   "execution_count": 7,
   "metadata": {},
   "outputs": [],
   "source": [
    "def calculate_tc(testText): \n",
    "    tokens=tokenize(testText)\n",
    "    token_counts=get_counts(tokens)\n",
    "    freq_df=pd.DataFrame.from_dict(token_counts, orient='index', columns=['frequency']).reset_index().sort_values(by='frequency', ascending=False)\n",
    "    freq_df['x']=1\n",
    "    freq_df['rank']=freq_df.groupby('x').cumcount()+1\n",
    "    fr1=freq_df.iloc[0,1]\n",
    "    fr2=freq_df.iloc[1,1]\n",
    "    r1=freq_df.iloc[0,3]\n",
    "    r2=freq_df.iloc[1,3]\n",
    "    h_point=((fr1*r2)-(fr2*r1))/(r2-r1+fr1-fr2)\n",
    "    freq_df['TW']=np.where(freq_df['rank']<h_point, 2*(((h_point-freq_df['rank'])*(freq_df['frequency']))/((h_point*(h_point-1)*fr1))), 0)\n",
    "    return freq_df['TW'].sum()"
   ]
  },
  {
   "cell_type": "code",
   "execution_count": 8,
   "metadata": {},
   "outputs": [],
   "source": [
    "df['TC']=df['text'].apply(lambda x: calculate_tc(x))"
   ]
  },
  {
   "cell_type": "code",
   "execution_count": 5,
   "metadata": {},
   "outputs": [],
   "source": [
    "trump=df[df['candidate']=='trump']"
   ]
  },
  {
   "cell_type": "code",
   "execution_count": 6,
   "metadata": {},
   "outputs": [
    {
     "name": "stderr",
     "output_type": "stream",
     "text": [
      "C:\\Users\\pcrrt\\AppData\\Local\\Temp/ipykernel_27012/3625745240.py:1: SettingWithCopyWarning: \n",
      "A value is trying to be set on a copy of a slice from a DataFrame.\n",
      "Try using .loc[row_indexer,col_indexer] = value instead\n",
      "\n",
      "See the caveats in the documentation: https://pandas.pydata.org/pandas-docs/stable/user_guide/indexing.html#returning-a-view-versus-a-copy\n",
      "  trump['rally']=np.where(trump['event_type']=='rally', 1, 0)\n"
     ]
    }
   ],
   "source": [
    "trump['rally']=np.where(trump['event_type']=='rally', 1, 0)"
   ]
  },
  {
   "cell_type": "code",
   "execution_count": 44,
   "metadata": {},
   "outputs": [],
   "source": [
    "trump_rallies=trump[trump['rally']==1]\n",
    "trump_not_rallies=trump[trump['rally']==0]"
   ]
  },
  {
   "cell_type": "markdown",
   "metadata": {},
   "source": [
    "Compare rallies / non-rallies"
   ]
  },
  {
   "cell_type": "code",
   "execution_count": 12,
   "metadata": {},
   "outputs": [
    {
     "data": {
      "text/plain": [
       "Ttest_indResult(statistic=-1.1226434765155002, pvalue=0.2627954556521124)"
      ]
     },
     "execution_count": 12,
     "metadata": {},
     "output_type": "execute_result"
    }
   ],
   "source": [
    "ttest_ind(trump_rallies.TC, trump_not_rallies.TC, equal_var = False)"
   ]
  },
  {
   "cell_type": "code",
   "execution_count": 13,
   "metadata": {},
   "outputs": [
    {
     "data": {
      "text/plain": [
       "MannwhitneyuResult(statistic=5446.5, pvalue=0.028287041805636834)"
      ]
     },
     "execution_count": 13,
     "metadata": {},
     "output_type": "execute_result"
    }
   ],
   "source": [
    "mannwhitneyu(trump_rallies.TC, trump_not_rallies.TC)"
   ]
  },
  {
   "cell_type": "code",
   "execution_count": 16,
   "metadata": {},
   "outputs": [
    {
     "data": {
      "text/plain": [
       "Ttest_indResult(statistic=-13.357719864481169, pvalue=2.606497694844693e-29)"
      ]
     },
     "execution_count": 16,
     "metadata": {},
     "output_type": "execute_result"
    }
   ],
   "source": [
    "ttest_ind(trump_rallies.mattr, trump_not_rallies.mattr, equal_var = False)"
   ]
  },
  {
   "cell_type": "code",
   "execution_count": 17,
   "metadata": {},
   "outputs": [
    {
     "data": {
      "text/plain": [
       "MannwhitneyuResult(statistic=1110.5, pvalue=3.7043903298640934e-27)"
      ]
     },
     "execution_count": 17,
     "metadata": {},
     "output_type": "execute_result"
    }
   ],
   "source": [
    "mannwhitneyu(trump_rallies.mattr, trump_not_rallies.mattr)"
   ]
  },
  {
   "cell_type": "code",
   "execution_count": 10,
   "metadata": {},
   "outputs": [
    {
     "data": {
      "text/html": [
       "<div>\n",
       "<style scoped>\n",
       "    .dataframe tbody tr th:only-of-type {\n",
       "        vertical-align: middle;\n",
       "    }\n",
       "\n",
       "    .dataframe tbody tr th {\n",
       "        vertical-align: top;\n",
       "    }\n",
       "\n",
       "    .dataframe thead th {\n",
       "        text-align: right;\n",
       "    }\n",
       "</style>\n",
       "<table border=\"1\" class=\"dataframe\">\n",
       "  <thead>\n",
       "    <tr style=\"text-align: right;\">\n",
       "      <th></th>\n",
       "      <th>count</th>\n",
       "      <th>mean</th>\n",
       "      <th>std</th>\n",
       "      <th>min</th>\n",
       "      <th>25%</th>\n",
       "      <th>50%</th>\n",
       "      <th>75%</th>\n",
       "      <th>max</th>\n",
       "    </tr>\n",
       "    <tr>\n",
       "      <th>rally</th>\n",
       "      <th></th>\n",
       "      <th></th>\n",
       "      <th></th>\n",
       "      <th></th>\n",
       "      <th></th>\n",
       "      <th></th>\n",
       "      <th></th>\n",
       "      <th></th>\n",
       "    </tr>\n",
       "  </thead>\n",
       "  <tbody>\n",
       "    <tr>\n",
       "      <th>0</th>\n",
       "      <td>112.0</td>\n",
       "      <td>0.852888</td>\n",
       "      <td>0.018664</td>\n",
       "      <td>0.814184</td>\n",
       "      <td>0.840418</td>\n",
       "      <td>0.850485</td>\n",
       "      <td>0.864273</td>\n",
       "      <td>0.904532</td>\n",
       "    </tr>\n",
       "    <tr>\n",
       "      <th>1</th>\n",
       "      <td>114.0</td>\n",
       "      <td>0.824522</td>\n",
       "      <td>0.012630</td>\n",
       "      <td>0.802451</td>\n",
       "      <td>0.817030</td>\n",
       "      <td>0.823022</td>\n",
       "      <td>0.828617</td>\n",
       "      <td>0.888349</td>\n",
       "    </tr>\n",
       "  </tbody>\n",
       "</table>\n",
       "</div>"
      ],
      "text/plain": [
       "       count      mean       std       min       25%       50%       75%  \\\n",
       "rally                                                                      \n",
       "0      112.0  0.852888  0.018664  0.814184  0.840418  0.850485  0.864273   \n",
       "1      114.0  0.824522  0.012630  0.802451  0.817030  0.823022  0.828617   \n",
       "\n",
       "            max  \n",
       "rally            \n",
       "0      0.904532  \n",
       "1      0.888349  "
      ]
     },
     "execution_count": 10,
     "metadata": {},
     "output_type": "execute_result"
    }
   ],
   "source": [
    "trump.groupby(['rally'])['mattr'].describe()"
   ]
  },
  {
   "cell_type": "markdown",
   "metadata": {},
   "source": [
    "For Flesh-Kincaid - need to remove sources with no punctuation."
   ]
  },
  {
   "cell_type": "code",
   "execution_count": 8,
   "metadata": {},
   "outputs": [],
   "source": [
    "trump_x=trump[trump['source']!='https://github.com/kfinity/capstone-speeches/blob/master/data/speeches.csv']"
   ]
  },
  {
   "cell_type": "code",
   "execution_count": 46,
   "metadata": {},
   "outputs": [
    {
     "data": {
      "text/html": [
       "<div>\n",
       "<style scoped>\n",
       "    .dataframe tbody tr th:only-of-type {\n",
       "        vertical-align: middle;\n",
       "    }\n",
       "\n",
       "    .dataframe tbody tr th {\n",
       "        vertical-align: top;\n",
       "    }\n",
       "\n",
       "    .dataframe thead th {\n",
       "        text-align: right;\n",
       "    }\n",
       "</style>\n",
       "<table border=\"1\" class=\"dataframe\">\n",
       "  <thead>\n",
       "    <tr style=\"text-align: right;\">\n",
       "      <th></th>\n",
       "      <th>count</th>\n",
       "      <th>mean</th>\n",
       "      <th>std</th>\n",
       "      <th>min</th>\n",
       "      <th>25%</th>\n",
       "      <th>50%</th>\n",
       "      <th>75%</th>\n",
       "      <th>max</th>\n",
       "    </tr>\n",
       "    <tr>\n",
       "      <th>rally</th>\n",
       "      <th></th>\n",
       "      <th></th>\n",
       "      <th></th>\n",
       "      <th></th>\n",
       "      <th></th>\n",
       "      <th></th>\n",
       "      <th></th>\n",
       "      <th></th>\n",
       "    </tr>\n",
       "  </thead>\n",
       "  <tbody>\n",
       "    <tr>\n",
       "      <th>0</th>\n",
       "      <td>98.0</td>\n",
       "      <td>6.805842</td>\n",
       "      <td>2.013554</td>\n",
       "      <td>2.359621</td>\n",
       "      <td>5.341871</td>\n",
       "      <td>6.225587</td>\n",
       "      <td>7.966102</td>\n",
       "      <td>12.062549</td>\n",
       "    </tr>\n",
       "    <tr>\n",
       "      <th>1</th>\n",
       "      <td>98.0</td>\n",
       "      <td>5.414116</td>\n",
       "      <td>0.754955</td>\n",
       "      <td>4.206336</td>\n",
       "      <td>4.902157</td>\n",
       "      <td>5.254582</td>\n",
       "      <td>5.983795</td>\n",
       "      <td>7.792509</td>\n",
       "    </tr>\n",
       "  </tbody>\n",
       "</table>\n",
       "</div>"
      ],
      "text/plain": [
       "       count      mean       std       min       25%       50%       75%  \\\n",
       "rally                                                                      \n",
       "0       98.0  6.805842  2.013554  2.359621  5.341871  6.225587  7.966102   \n",
       "1       98.0  5.414116  0.754955  4.206336  4.902157  5.254582  5.983795   \n",
       "\n",
       "             max  \n",
       "rally             \n",
       "0      12.062549  \n",
       "1       7.792509  "
      ]
     },
     "execution_count": 46,
     "metadata": {},
     "output_type": "execute_result"
    }
   ],
   "source": [
    "trump_x.groupby(['rally'])['FK2'].describe()"
   ]
  },
  {
   "cell_type": "code",
   "execution_count": 47,
   "metadata": {},
   "outputs": [
    {
     "data": {
      "text/html": [
       "<div>\n",
       "<style scoped>\n",
       "    .dataframe tbody tr th:only-of-type {\n",
       "        vertical-align: middle;\n",
       "    }\n",
       "\n",
       "    .dataframe tbody tr th {\n",
       "        vertical-align: top;\n",
       "    }\n",
       "\n",
       "    .dataframe thead th {\n",
       "        text-align: right;\n",
       "    }\n",
       "</style>\n",
       "<table border=\"1\" class=\"dataframe\">\n",
       "  <thead>\n",
       "    <tr style=\"text-align: right;\">\n",
       "      <th></th>\n",
       "      <th>count</th>\n",
       "      <th>mean</th>\n",
       "      <th>std</th>\n",
       "      <th>min</th>\n",
       "      <th>25%</th>\n",
       "      <th>50%</th>\n",
       "      <th>75%</th>\n",
       "      <th>max</th>\n",
       "    </tr>\n",
       "    <tr>\n",
       "      <th>rally</th>\n",
       "      <th></th>\n",
       "      <th></th>\n",
       "      <th></th>\n",
       "      <th></th>\n",
       "      <th></th>\n",
       "      <th></th>\n",
       "      <th></th>\n",
       "      <th></th>\n",
       "    </tr>\n",
       "  </thead>\n",
       "  <tbody>\n",
       "    <tr>\n",
       "      <th>0</th>\n",
       "      <td>98.0</td>\n",
       "      <td>6.791837</td>\n",
       "      <td>2.922845</td>\n",
       "      <td>1.7</td>\n",
       "      <td>4.9</td>\n",
       "      <td>6.20</td>\n",
       "      <td>8.0</td>\n",
       "      <td>22.6</td>\n",
       "    </tr>\n",
       "    <tr>\n",
       "      <th>1</th>\n",
       "      <td>98.0</td>\n",
       "      <td>4.650000</td>\n",
       "      <td>0.896298</td>\n",
       "      <td>3.6</td>\n",
       "      <td>4.0</td>\n",
       "      <td>4.45</td>\n",
       "      <td>5.2</td>\n",
       "      <td>7.8</td>\n",
       "    </tr>\n",
       "  </tbody>\n",
       "</table>\n",
       "</div>"
      ],
      "text/plain": [
       "       count      mean       std  min  25%   50%  75%   max\n",
       "rally                                                      \n",
       "0       98.0  6.791837  2.922845  1.7  4.9  6.20  8.0  22.6\n",
       "1       98.0  4.650000  0.896298  3.6  4.0  4.45  5.2   7.8"
      ]
     },
     "execution_count": 47,
     "metadata": {},
     "output_type": "execute_result"
    }
   ],
   "source": [
    "trump_x.groupby(['rally'])['FK'].describe()"
   ]
  },
  {
   "cell_type": "code",
   "execution_count": 53,
   "metadata": {},
   "outputs": [
    {
     "data": {
      "text/plain": [
       "Ttest_indResult(statistic=0.5213342215547009, pvalue=0.602683910198359)"
      ]
     },
     "execution_count": 53,
     "metadata": {},
     "output_type": "execute_result"
    }
   ],
   "source": [
    "ttest_ind(trump_rallies.FK, trump_not_rallies.FK, equal_var = False)"
   ]
  },
  {
   "cell_type": "code",
   "execution_count": 49,
   "metadata": {},
   "outputs": [
    {
     "data": {
      "text/plain": [
       "Ttest_indResult(statistic=0.6186548596030685, pvalue=0.5368156558800489)"
      ]
     },
     "execution_count": 49,
     "metadata": {},
     "output_type": "execute_result"
    }
   ],
   "source": [
    "ttest_ind(trump_rallies.FK2, trump_not_rallies.FK2, equal_var = False)"
   ]
  },
  {
   "cell_type": "code",
   "execution_count": 50,
   "metadata": {},
   "outputs": [
    {
     "data": {
      "text/plain": [
       "MannwhitneyuResult(statistic=3184.0, pvalue=3.67446677801599e-11)"
      ]
     },
     "execution_count": 50,
     "metadata": {},
     "output_type": "execute_result"
    }
   ],
   "source": [
    "mannwhitneyu(trump_rallies.FK, trump_not_rallies.FK)"
   ]
  },
  {
   "cell_type": "code",
   "execution_count": 51,
   "metadata": {},
   "outputs": [
    {
     "data": {
      "text/plain": [
       "MannwhitneyuResult(statistic=4174.5, pvalue=3.4813633696373413e-06)"
      ]
     },
     "execution_count": 51,
     "metadata": {},
     "output_type": "execute_result"
    }
   ],
   "source": [
    "mannwhitneyu(trump_rallies.FK2, trump_not_rallies.FK2)"
   ]
  },
  {
   "cell_type": "code",
   "execution_count": null,
   "metadata": {},
   "outputs": [],
   "source": []
  }
 ],
 "metadata": {
  "kernelspec": {
   "display_name": "Python 3 (ipykernel)",
   "language": "python",
   "name": "python3"
  },
  "language_info": {
   "codemirror_mode": {
    "name": "ipython",
    "version": 3
   },
   "file_extension": ".py",
   "mimetype": "text/x-python",
   "name": "python",
   "nbconvert_exporter": "python",
   "pygments_lexer": "ipython3",
   "version": "3.8.8"
  }
 },
 "nbformat": 4,
 "nbformat_minor": 2
}
