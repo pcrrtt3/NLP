{
 "cells": [
  {
   "cell_type": "code",
   "execution_count": 1,
   "metadata": {},
   "outputs": [],
   "source": [
    "import sys, operator, math, nltk\n",
    "from collections import Counter\n",
    "import pandas as pd\n",
    "import os\n",
    "import numpy as np\n",
    "import re\n",
    "from scipy.stats import mannwhitneyu"
   ]
  },
  {
   "cell_type": "code",
   "execution_count": 2,
   "metadata": {},
   "outputs": [],
   "source": [
    "inpath2=\"C:/Users/pcrrt/Haas/Applied_NLP/Data/Intermediate Data/\""
   ]
  },
  {
   "cell_type": "code",
   "execution_count": 4,
   "metadata": {},
   "outputs": [],
   "source": [
    "df=pd.read_csv(inpath2+'final_all_files.csv')"
   ]
  },
  {
   "cell_type": "code",
   "execution_count": 5,
   "metadata": {},
   "outputs": [],
   "source": [
    "df=df[df['candidate']=='trump']\n",
    "df['rally']=np.where(df['event_type']=='rally', 1, 0)"
   ]
  },
  {
   "cell_type": "code",
   "execution_count": 6,
   "metadata": {},
   "outputs": [],
   "source": [
    "trump_rallies=df[df['rally']==1][['text']]\n",
    "trump_rallies2=df[df['rally']==1][['title', 'text']]\n",
    "trump_not_rallies=df[df['rally']==0][['text']]\n",
    "trump_not_rallies2=df[df['rally']==0][['title', 'text']]"
   ]
  },
  {
   "cell_type": "code",
   "execution_count": 7,
   "metadata": {},
   "outputs": [],
   "source": [
    "trump_rallies.to_csv(inpath2+'trump_rallies.txt', index=False, header=False, quoting=None)\n",
    "trump_not_rallies.to_csv(inpath2+'trump_not_rallies.txt', index=False, header=False, quoting=None)"
   ]
  },
  {
   "cell_type": "code",
   "execution_count": 8,
   "metadata": {},
   "outputs": [],
   "source": [
    "look_for = re.compile(\"(\\w+(?:-\\w+)*)|(\\w+(?:\\'\\w+)*)\")\n",
    "stop_words = set(nltk.corpus.stopwords.words('english'))"
   ]
  },
  {
   "cell_type": "code",
   "execution_count": 9,
   "metadata": {},
   "outputs": [],
   "source": [
    "def read_and_tokenize(filename):\n",
    "    \n",
    "    with open(filename, encoding=\"utf-8\") as file:\n",
    "        tokens=[]\n",
    "        # lowercase\n",
    "        for line in file:\n",
    "            data=[i[0].lower() for i in nltk.tokenize.regexp_tokenize(line, look_for) if i[0].lower() not in stop_words]\n",
    "            # This dataset is already tokenized, so we can split on whitespace\n",
    "            tokens.extend(data)\n",
    "        return tokens"
   ]
  },
  {
   "cell_type": "code",
   "execution_count": 10,
   "metadata": {},
   "outputs": [],
   "source": [
    "trump_rallies=read_and_tokenize(inpath2+'trump_rallies.txt')\n",
    "trump_not_rallies=read_and_tokenize(inpath2+'trump_not_rallies.txt')"
   ]
  },
  {
   "cell_type": "code",
   "execution_count": 11,
   "metadata": {},
   "outputs": [],
   "source": [
    "def get_counts(tokens):\n",
    "    counts=Counter()\n",
    "    for token in tokens:\n",
    "        counts[token]+=1\n",
    "    return counts"
   ]
  },
  {
   "cell_type": "code",
   "execution_count": 12,
   "metadata": {},
   "outputs": [],
   "source": [
    "def logodds_with_uninformative_prior(one_tokens, two_tokens, display=25):\n",
    "    n1=len(one_tokens)\n",
    "    n2=len(two_tokens)\n",
    "    alpha_w=.01\n",
    "    V=list(set(one_tokens+two_tokens))\n",
    "    alpha_0=alpha_w*len(V)\n",
    "\n",
    "    one_counts=get_counts(one_tokens)\n",
    "    two_counts=get_counts(two_tokens)\n",
    "\n",
    "    log_odds_dict={}\n",
    "    for word in V:\n",
    "        y1=one_counts[word]\n",
    "        y2=two_counts[word]\n",
    "        numerator=math.log((y1+alpha_w)/(n1+alpha_0-alpha_w-y1))-math.log((y2+alpha_w)/(n2+alpha_0-alpha_w-y2))\n",
    "        denominator=math.sqrt((1/(y1+alpha_w))+(1/(y2+alpha_w)))\n",
    "        log_odds_dict[word]=numerator/denominator\n",
    "    positive_words=sorted(log_odds_dict.items(), key=operator.itemgetter(1), reverse=True)\n",
    "    negative_words=sorted(log_odds_dict.items(), key=operator.itemgetter(1))\n",
    "\n",
    "    print (\"Rallies:\\n\")\n",
    "    for k in positive_words[:display]:\n",
    "        print(\"%s\\t%s\" % (k[0],k[1]))\n",
    "    print(\"\\n\\nNot Rallies:\\n\")\n",
    "    for k in negative_words[:display]:\n",
    "        print(\"%s\\t%s\" % (k[0],k[1]))"
   ]
  },
  {
   "cell_type": "code",
   "execution_count": 13,
   "metadata": {},
   "outputs": [
    {
     "name": "stdout",
     "output_type": "stream",
     "text": [
      "Rallies:\n",
      "\n",
      "vote\t21.920255735254027\n",
      "said\t21.523702344944414\n",
      "got\t17.255809737225867\n",
      "remember\t16.954070705112056\n",
      "right\t16.481435912585162\n",
      "ok\t16.154356712058643\n",
      "great\t15.950374422632743\n",
      "know\t15.593345949438671\n",
      "democrats\t15.27150812887106\n",
      "guy\t13.027457685053607\n",
      "winning\t12.17656092834039\n",
      "sir\t11.926603945959842\n",
      "party\t11.681032104954179\n",
      "love\t11.642471439273994\n",
      "hell\t11.61997158802787\n",
      "trump\t11.570842234247209\n",
      "democrat\t11.125252319887663\n",
      "republican\t10.984686639810153\n",
      "beautiful\t10.932202680602613\n",
      "voted\t10.748923749024192\n",
      "republicans\t10.626657363689626\n",
      "oh\t10.234791955950962\n",
      "never\t10.189919252070618\n",
      "veterans\t10.146655918066113\n",
      "tax\t10.122531850146673\n",
      "\n",
      "\n",
      "Not Rallies:\n",
      "\n",
      "okay\t-19.23418302749438\n",
      "ahead\t-16.703893343935412\n",
      "uh\t-16.056181306989195\n",
      "yeah\t-15.725792250763408\n",
      "virus\t-15.51517204299181\n",
      "think\t-15.447070796956634\n",
      "please\t-14.657873302959485\n",
      "tremendous\t-14.338397616612825\n",
      "york\t-13.063533848199857\n",
      "question\t-12.669158991774573\n",
      "governors\t-12.209191575389474\n",
      "quickly\t-11.464710528520518\n",
      "ventilators\t-11.429278607949303\n",
      "numbers\t-11.296058101915305\n",
      "things\t-10.991530913955383\n",
      "testing\t-10.770588712208289\n",
      "much\t-10.769195284497647\n",
      "different\t-10.720801676217773\n",
      "cases\t-10.497660004957725\n",
      "certain\t-10.471711288864489\n",
      "decision\t-10.243591204335875\n",
      "also\t-10.227089035488493\n",
      "talking\t-10.225498291977834\n",
      "test\t-10.042149856282746\n",
      "medical\t-10.011266718758344\n"
     ]
    }
   ],
   "source": [
    "logodds_with_uninformative_prior(trump_rallies, trump_not_rallies, 25)"
   ]
  },
  {
   "cell_type": "code",
   "execution_count": null,
   "metadata": {},
   "outputs": [],
   "source": []
  }
 ],
 "metadata": {
  "kernelspec": {
   "display_name": "Python [conda env:anlp]",
   "language": "python",
   "name": "conda-env-anlp-py"
  },
  "language_info": {
   "codemirror_mode": {
    "name": "ipython",
    "version": 3
   },
   "file_extension": ".py",
   "mimetype": "text/x-python",
   "name": "python",
   "nbconvert_exporter": "python",
   "pygments_lexer": "ipython3",
   "version": "3.8.8"
  }
 },
 "nbformat": 4,
 "nbformat_minor": 5
}
