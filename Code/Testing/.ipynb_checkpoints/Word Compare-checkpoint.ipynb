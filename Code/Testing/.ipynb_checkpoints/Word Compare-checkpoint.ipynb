{
 "cells": [
  {
   "cell_type": "code",
   "execution_count": 1,
   "id": "26b77d36",
   "metadata": {},
   "outputs": [],
   "source": [
    "import sys, operator, math, nltk\n",
    "from collections import Counter\n",
    "import pandas as pd\n",
    "import os\n",
    "import numpy as np\n",
    "import re\n",
    "from scipy.stats import mannwhitneyu"
   ]
  },
  {
   "cell_type": "code",
   "execution_count": 2,
   "id": "cd12c9c8",
   "metadata": {},
   "outputs": [],
   "source": [
    "inpath2=\"C:/Users/pcrrt/Applied NLP Final Project/Data/Intermediate Data/\""
   ]
  },
  {
   "cell_type": "code",
   "execution_count": 3,
   "id": "df5083d5",
   "metadata": {},
   "outputs": [],
   "source": [
    "df=pd.read_csv(inpath2+'final v4.csv')"
   ]
  },
  {
   "cell_type": "code",
   "execution_count": 4,
   "id": "30cfaa70",
   "metadata": {},
   "outputs": [],
   "source": [
    "df=df[df['candidate']=='trump']\n",
    "df['rally']=np.where(df['event_type']=='rally', 1, 0)"
   ]
  },
  {
   "cell_type": "code",
   "execution_count": 5,
   "id": "fe815677",
   "metadata": {},
   "outputs": [],
   "source": [
    "trump_rallies=df[df['rally']==1][['text']]\n",
    "trump_rallies2=df[df['rally']==1][['title', 'text']]\n",
    "trump_not_rallies=df[df['rally']==0][['text']]\n",
    "trump_not_rallies2=df[df['rally']==0][['title', 'text']]"
   ]
  },
  {
   "cell_type": "code",
   "execution_count": 6,
   "id": "ec0c0de8",
   "metadata": {},
   "outputs": [],
   "source": [
    "trump_rallies.to_csv(inpath2+'trump_rallies.txt', index=False, header=False, quoting=None)\n",
    "trump_not_rallies.to_csv(inpath2+'trump_not_rallies.txt', index=False, header=False, quoting=None)"
   ]
  },
  {
   "cell_type": "code",
   "execution_count": 7,
   "id": "00ba492a",
   "metadata": {},
   "outputs": [],
   "source": [
    "look_for = re.compile(\"(\\w+(?:-\\w+)*)|(\\w+(?:\\'\\w+)*)\")\n",
    "stop_words = set(nltk.corpus.stopwords.words('english'))"
   ]
  },
  {
   "cell_type": "code",
   "execution_count": 8,
   "id": "f45cebaf",
   "metadata": {},
   "outputs": [],
   "source": [
    "def read_and_tokenize(filename):\n",
    "    \n",
    "    with open(filename, encoding=\"utf-8\") as file:\n",
    "        tokens=[]\n",
    "        # lowercase\n",
    "        for line in file:\n",
    "            data=[i[0].lower() for i in nltk.tokenize.regexp_tokenize(line, look_for) if i[0].lower() not in stop_words]\n",
    "            # This dataset is already tokenized, so we can split on whitespace\n",
    "            tokens.extend(data)\n",
    "        return tokens"
   ]
  },
  {
   "cell_type": "code",
   "execution_count": 9,
   "id": "aa13d3e6",
   "metadata": {},
   "outputs": [],
   "source": [
    "trump_rallies=read_and_tokenize(inpath2+'trump_rallies.txt')\n",
    "trump_not_rallies=read_and_tokenize(inpath2+'trump_not_rallies.txt')"
   ]
  },
  {
   "cell_type": "code",
   "execution_count": 10,
   "id": "a41d1667",
   "metadata": {},
   "outputs": [],
   "source": [
    "def get_counts(tokens):\n",
    "    counts=Counter()\n",
    "    for token in tokens:\n",
    "        counts[token]+=1\n",
    "    return counts"
   ]
  },
  {
   "cell_type": "code",
   "execution_count": 11,
   "id": "6873a48d",
   "metadata": {},
   "outputs": [],
   "source": [
    "def logodds_with_uninformative_prior(one_tokens, two_tokens, display=25):\n",
    "    n1=len(one_tokens)\n",
    "    n2=len(two_tokens)\n",
    "    alpha_w=.01\n",
    "    V=list(set(one_tokens+two_tokens))\n",
    "    alpha_0=alpha_w*len(V)\n",
    "\n",
    "    one_counts=get_counts(one_tokens)\n",
    "    two_counts=get_counts(two_tokens)\n",
    "\n",
    "    log_odds_dict={}\n",
    "    for word in V:\n",
    "        y1=one_counts[word]\n",
    "        y2=two_counts[word]\n",
    "        numerator=math.log((y1+alpha_w)/(n1+alpha_0-alpha_w-y1))-math.log((y2+alpha_w)/(n2+alpha_0-alpha_w-y2))\n",
    "        denominator=math.sqrt((1/(y1+alpha_w))+(1/(y2+alpha_w)))\n",
    "        log_odds_dict[word]=numerator/denominator\n",
    "    positive_words=sorted(log_odds_dict.items(), key=operator.itemgetter(1), reverse=True)\n",
    "    negative_words=sorted(log_odds_dict.items(), key=operator.itemgetter(1))\n",
    "\n",
    "    print (\"Rallies:\\n\")\n",
    "    for k in positive_words[:display]:\n",
    "        print(\"%s\\t%s\" % (k[0],k[1]))\n",
    "    print(\"\\n\\nNot Rallies:\\n\")\n",
    "    for k in negative_words[:display]:\n",
    "        print(\"%s\\t%s\" % (k[0],k[1]))"
   ]
  },
  {
   "cell_type": "code",
   "execution_count": 12,
   "id": "73dc8edc",
   "metadata": {},
   "outputs": [
    {
     "name": "stdout",
     "output_type": "stream",
     "text": [
      "Rallies:\n",
      "\n",
      "know\t22.71252282585128\n",
      "said\t22.368467838786906\n",
      "vote\t20.530851571993278\n",
      "got\t17.617085583069976\n",
      "remember\t17.28142090295741\n",
      "right\t17.26852722657596\n",
      "trump\t17.06138489692587\n",
      "guy\t16.606722524464644\n",
      "democrats\t14.157898938510009\n",
      "great\t13.882045999828724\n",
      "love\t13.014326703117034\n",
      "hell\t12.393117484967371\n",
      "state\t12.109363687485748\n",
      "like\t12.065048255955693\n",
      "crazy\t11.934262127858007\n",
      "taxes\t11.834297260327594\n",
      "oh\t11.793473892421124\n",
      "sir\t11.642481029597452\n",
      "fake\t11.557558187227903\n",
      "democrat\t11.376815737556944\n",
      "election\t10.91357639640798\n",
      "never\t10.702906190601668\n",
      "joe\t10.452208649193292\n",
      "borders\t10.44459178499608\n",
      "republican\t10.43893806958612\n",
      "\n",
      "\n",
      "Not Rallies:\n",
      "\n",
      "ahead\t-16.235705909807887\n",
      "tremendous\t-16.0200439714907\n",
      "please\t-15.804571236595976\n",
      "think\t-14.832383916408794\n",
      "virus\t-14.330902571452988\n",
      "yeah\t-14.07627822928747\n",
      "agree\t-12.71057507118347\n",
      "things\t-12.157286096490163\n",
      "much\t-12.119647250953998\n",
      "many\t-11.849802523876011\n",
      "cases\t-11.847270469324823\n",
      "different\t-11.639210837344036\n",
      "ventilators\t-11.623626824136078\n",
      "governors\t-11.571893810676723\n",
      "countries\t-11.344582477412798\n",
      "also\t-11.24591226891625\n",
      "certain\t-11.231321404288561\n",
      "medical\t-11.21927912585412\n",
      "question\t-11.19277842668125\n",
      "working\t-10.721957963294768\n",
      "well\t-10.71723295725171\n",
      "terms\t-10.46321480073938\n",
      "states\t-10.323768997009772\n",
      "world\t-10.166417462043457\n",
      "masks\t-10.11144492875686\n"
     ]
    }
   ],
   "source": [
    "logodds_with_uninformative_prior(trump_rallies, trump_not_rallies, 25)"
   ]
  },
  {
   "cell_type": "code",
   "execution_count": null,
   "id": "610b922a",
   "metadata": {},
   "outputs": [],
   "source": []
  }
 ],
 "metadata": {
  "kernelspec": {
   "display_name": "Python [conda env:anlp] *",
   "language": "python",
   "name": "conda-env-anlp-py"
  },
  "language_info": {
   "codemirror_mode": {
    "name": "ipython",
    "version": 3
   },
   "file_extension": ".py",
   "mimetype": "text/x-python",
   "name": "python",
   "nbconvert_exporter": "python",
   "pygments_lexer": "ipython3",
   "version": "3.8.8"
  }
 },
 "nbformat": 4,
 "nbformat_minor": 5
}
