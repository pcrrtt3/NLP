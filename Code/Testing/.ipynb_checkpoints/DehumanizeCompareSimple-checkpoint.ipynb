{
 "cells": [
  {
   "cell_type": "code",
   "execution_count": 6,
   "id": "926a7a48",
   "metadata": {},
   "outputs": [],
   "source": [
    "import spacy\n",
    "from collections import defaultdict\n",
    "import networkx as nx\n",
    "import pandas as pd\n",
    "import numpy as np\n",
    "import re\n",
    "import os\n",
    "import neuralcoref"
   ]
  },
  {
   "cell_type": "code",
   "execution_count": 7,
   "id": "fe7e108c",
   "metadata": {},
   "outputs": [],
   "source": [
    "nlp = spacy.load('en_core_web_sm')\n",
    "coref = neuralcoref.NeuralCoref(nlp.vocab)\n",
    "nlp.add_pipe(coref, name='neuralcoref')"
   ]
  },
  {
   "cell_type": "code",
   "execution_count": 61,
   "id": "9937acc3",
   "metadata": {},
   "outputs": [],
   "source": [
    "inpath2= os.path.dirname(os.path.dirname(os.getcwd()))+\"\\\\Data\\\\Intermediate Data\\\\\"\n",
    "df=pd.read_csv(inpath2+'final_all_files.csv')"
   ]
  },
  {
   "cell_type": "code",
   "execution_count": 103,
   "id": "577974ef",
   "metadata": {},
   "outputs": [],
   "source": [
    "inpath=os.path.dirname(os.path.dirname(os.getcwd()))+\"\\\\Data\\\\Source Data\\\\\"\n",
    "vad=pd.read_csv(inpath+'NRC-VAD-Lexicon.txt', sep='\\t', header=None)\n",
    "vad.set_index(0, inplace=True)"
   ]
  },
  {
   "cell_type": "code",
   "execution_count": 121,
   "id": "96f122e6",
   "metadata": {},
   "outputs": [
    {
     "data": {
      "text/plain": [
       "19971"
      ]
     },
     "execution_count": 121,
     "metadata": {},
     "output_type": "execute_result"
    }
   ],
   "source": [
    "vad=vad[[1]]\n",
    "vad_dict=vad.to_dict('index')\n",
    "vad_dict={v:j for v,k in vad_dict.items() for i,j in k.items()}\n",
    "len(vad_dict)"
   ]
  },
  {
   "cell_type": "code",
   "execution_count": 62,
   "id": "d57f97d2",
   "metadata": {},
   "outputs": [],
   "source": [
    "df=df[df['candidate']=='trump']\n",
    "df['rally']=np.where(df['event_type']=='rally', 1, 0)"
   ]
  },
  {
   "cell_type": "code",
   "execution_count": 63,
   "id": "a2bfe4c2",
   "metadata": {},
   "outputs": [],
   "source": [
    "rally_list=df[df['rally']==1]['text'].to_list()\n",
    "rally_titles=df[df['rally']==1]['title'].to_list()\n",
    "speech_list=df[df['rally']==0]['text'].to_list()\n",
    "speech_titles=df[df['rally']==0]['title'].to_list()"
   ]
  },
  {
   "cell_type": "markdown",
   "id": "06c6470c",
   "metadata": {},
   "source": [
    "#### Create lists, both rallies and speeches, of all sentences that mention democrats"
   ]
  },
  {
   "cell_type": "code",
   "execution_count": 14,
   "id": "7b2bbb67",
   "metadata": {},
   "outputs": [],
   "source": [
    "democrat_list=['Democrats', 'Democrat', 'democrats', 'democrat',\n",
    "       'DEMOCRATS', 'DEMOCRAT', 'Liberals', 'Socialist', \n",
    "       'Socialists', 'Left Democrats',\n",
    "       'Socialist Democrats']"
   ]
  },
  {
   "cell_type": "code",
   "execution_count": 51,
   "id": "36245f24",
   "metadata": {},
   "outputs": [],
   "source": [
    "def get_democrat_mentions(data):\n",
    "    doc=nlp(data)\n",
    "    mention_list=[]\n",
    "    sentence_list=[]\n",
    "    #for all entities in the document\n",
    "    for entity in doc.ents:\n",
    "        #if the entity is democrat\n",
    "        if entity.text.lstrip().rstrip() in democrat_list:\n",
    "            #add to the list of mentions\n",
    "            mention_list.append(entity)\n",
    "    #if there are some mentions of dems in the document\n",
    "    if mention_list!=[]:\n",
    "        #for each mention of democrat in the list of mentions\n",
    "        for dem in mention_list:\n",
    "            #if there is a coref cluster for the mention of democrat\n",
    "            if dem._.coref_cluster is not None:\n",
    "                #for each mention in the coref cluster\n",
    "                for mention in dem._.coref_cluster:\n",
    "                    #if the mention has not yet been included in mention list\n",
    "                    if mention not in mention_list:\n",
    "                        #include the mention\n",
    "                        mention_list.append(mention)\n",
    "        for dem2 in mention_list:\n",
    "            if dem2.root.sent not in sentence_list:\n",
    "                sentence_list.append(dem2.sent)\n",
    "    \n",
    "    return sentence_list"
   ]
  },
  {
   "cell_type": "code",
   "execution_count": 52,
   "id": "82ba08b2",
   "metadata": {},
   "outputs": [
    {
     "name": "stdout",
     "output_type": "stream",
     "text": [
      "Speech: Donald Trump Holds a Campaign Rally in Sanford, Florida\n",
      "Speech: Donald Trump Holds a Campaign Rally in Duluth, Minnesota\n",
      "Speech: Donald Trump Holds a Campaign Rally in Middletown, Pennsylvania\n",
      "Speech: Donald Trump Holds a Campaign Rally in Newport News, Virginia\n",
      "Speech: Donald Trump Holds a Campaign Rally in Jacksonville, Florida\n",
      "Speech: Donald Trump Holds a Campaign Rally in Moon Township, Pennsylvania\n",
      "Speech: Donald Trump Holds a Campaign Rally in Swanton, Ohio\n",
      "Speech: Donald Trump Holds a Campaign Rally in Fayetteville, North Carolina\n",
      "Speech: Donald Trump Holds a Campaign Rally in Bedmidji, Minnesota\n",
      "Speech: Donald Trump Holds a Campaign Rally in Mosinee, Wisconsin\n",
      "Speech: Donald Trump Holds a Campaign Rally in Minden, Nevada\n",
      "Speech: Donald Trump Holds a Campaign Rally in Freeland, Michigan\n",
      "Speech: Donald Trump Holds a Campaign Rally in Winston-Salem, North Carolina\n",
      "Speech: Donald Trump Holds a Political Rally in Tulsa, Oklahoma\n",
      "Speech: Donald Trump Holds a Political Rally in Charlotte, North Carolina\n",
      "Speech: Donald Trump Holds a Political Rally in Las Vegas, Nevada\n",
      "Speech: Donald Trump Holds a Political Rally in Colorado Springs, Colorado\n",
      "Speech: Donald Trump Holds a Political Rally in Phoenix, Arizona\n",
      "Speech: Donald Trump Holds a Political Rally in Des Moines, Iowa\n",
      "Speech: Donald Trump Holds a Political Rally in Wildwood, New Jersey\n",
      "Speech: Donald Trump Holds a Political Rally in Milwaukee, Wisconsin\n",
      "Speech: Donald Trump Holds a Political Rally in Toledo, Ohio\n",
      "Speech: Donald Trump Holds a Political Rally in Battle Creek, Michigan\n",
      "Speech: Donald Trump Holds a Political Rally in Hershey, Pennsylvania\n",
      "Speech: Donald Trump Holds a Political Rally in Sunrise, Florida\n",
      "Speech: Donald Trump Holds a Political Rally in Bossier City, Louisiana\n",
      "Speech: Donald Trump Holds a Political Rally in Monroe, Louisiana\n",
      "Speech: Donald Trump Holds a Political Rally in Lexington, Kentucky\n",
      "Speech: Donald Trump Holds a Political Rally in Tupelo, Mississippi\n",
      "Speech: Donald Trump Holds a Political Rally in Dallas, Texas\n",
      "Speech: Donald Trump Holds a Political Rally in Minneapolis, Minnesota\n",
      "Speech: Donald Trump Holds a Political Rally in Lake Charles, Louisiana\n",
      "Speech: Donald Trump Holds a Political Rally in Rio Rancho, New Mexico\n",
      "Speech: Donald Trump Holds a Political Rally in Fayetteville, North Carolina\n",
      "Speech: Donald Trump Holds a Political Rally in Cincinnati, Ohio\n",
      "Speech: Donald Trump Holds a Political Rally in Greenville, North Carolina\n",
      "Speech: Donald Trump Announces His 2020 Candidacy at a Political Rally in Orlando\n",
      "Speech: Donald Trump Holds a Political Rally in Panama City Beach, Florida\n",
      "Speech: Donald Trump Holds a Political Rally in Green Bay, Wisconsin\n",
      "Speech: Donald Trump Holds a Political Rally in Grand Rapids, Michigan\n",
      "Speech: Donald Trump Holds a Political Rally in El Paso, Texas\n",
      "Speech: Donald Trump Holds a Political Rally in Tupelo, Mississippi\n",
      "Speech: Donald Trump Holds a Political Rally in Biloxi, Mississippi\n",
      "Speech: Donald Trump Holds a Political Rally in Fort Wayne, Indiana\n",
      "Speech: Donald Trump Holds a Political Rally in Cape Girardeau, Missouri\n",
      "Speech: Donald Trump Holds a Political Rally in Cleveland, Ohio\n",
      "Speech: Donald Trump Holds a Political Rally in Macon, Georgia\n",
      "Speech: Donald Trump Holds a Political Rally in Chattanooga, Tennessee\n",
      "Speech: Donald Trump Holds a Political Rally in Pensacola, Florida\n",
      "Speech: Donald Trump Holds a Political Rally in Belgrade, Montana\n",
      "Speech: Donald Trump Holds a Political Rally in Indianapolis, Indiana\n",
      "Speech: Donald Trump Holds a Political Rally in Huntington, West Virginia\n",
      "Speech: Donald Trump Holds a Political Rally in Columbia, Missouri\n",
      "Speech: Donald Trump Holds a Political Rally in Fort Myers, Florida\n",
      "Speech: Donald Trump Holds a Political Rally in Murphysboro, Illinois\n",
      "Speech: Donald Trump Holds a Political Rally in Charlotte, North Carolina\n",
      "Speech: Donald Trump Holds a Political Rally in Mosinee, Wisconsin\n",
      "Speech: Donald Trump Holds a Political Rally in Houston, Texas\n",
      "Speech: Donald Trump Holds a Political Rally in Elko, Nevada\n",
      "Speech: Donald Trump Holds a Political Rally in Mesa, Arizona\n",
      "Speech: Donald Trump Holds a Political Rally in Missoula, Montana\n",
      "Speech: Donald Trump Holds a Political Rally in Richmond, Kentucky\n",
      "Speech: Donald Trump Holds a Political Rally in Lebanon, Ohio\n",
      "Speech: Donald Trump Holds a Political Rally in Erie, Pennsylvania\n",
      "Speech: Donald Trump Holds a Political Rally in Council Bluffs, Iowa\n",
      "Speech: Donald Trump Holds a Political Rally in Topeka, Kansas\n",
      "Speech: Donald Trump Holds a Political Rally in Rochester, Minnesota\n",
      "Speech: Donald Trump Holds a Political Rally in Southaven, Mississippi\n",
      "Speech: Donald Trump Holds a Political Rally in Johnson City, Tennessee\n",
      "Speech: Donald Trump Holds a Political Rally in Wheeling, West Virginia\n",
      "Speech: Donald Trump Holds a Political Rally in Springfield, Missouri\n",
      "Speech: Donald Trump Holds a Political Rally in Las Vegas, Nevada\n",
      "Speech: Donald Trump Holds a Political Rally in Billings, Montana\n",
      "Speech: Donald Trump Holds a Political Rally in Evansville, Indiana\n",
      "Speech: Donald Trump Holds a Political Rally in Charleston, West Virginia\n",
      "Speech: Donald Trump Holds a Political Rally in Lewis Center, Ohio\n",
      "Speech: Donald Trump Holds a Political Rally in Wilkes-Barre, Pennsylvania\n",
      "Speech: Donald Trump Holds a Political Rally in Tampa, Florida\n",
      "Speech: Donald Trump Holds a Political Rally in Great Falls, Montana\n",
      "Speech: Donald Trump Holds a Political Rally in Fargo, North Dakota\n",
      "Speech: Donald Trump Holds a Political Rally in West Columbia, South Carolina\n",
      "Speech: Donald Trump Holds a Political Rally in Las Vegas, Nevada\n",
      "Speech: Donald Trump Holds a Political Rally in Duluth, Minnesota\n",
      "Speech: Donald Trump Holds a Political Rally in Nashville, Tennessee\n",
      "Speech: Donald Trump Holds a Political Rally in Elkhart, Indiana\n",
      "Speech: Donald Trump Holds a Political Rally in Washington Township, Michigan\n",
      "Speech: Donald Trump Holds a Political Rally in Moon Township, Pennsylvania\n",
      "Speech: Donald Trump Holds a Political Rally in Pensacola, Florida\n",
      "Speech: Donald Trump Holds a Political Rally in Huntsville, Alabama\n",
      "Speech: Donald Trump Holds a Political Rally in Phoenix, Arizona\n",
      "Speech: Donald Trump Holds a Political Rally in Huntington, West Virginia\n",
      "Speech: Donald Trump Holds a Political Rally in Youngstown, Ohio\n",
      "Speech: Donald Trump at Celebrate Freedom Rally\n",
      "Speech: Donald Trump Holds a Political Rally in Cedar Rapids, Iowa\n",
      "Speech: Donald Trump Holds a Political Rally in Harrisburg, Pennsylvania\n",
      "Speech: Donald Trump Holds a Political Rally in Louisville, Kentucky\n",
      "Speech: Donald Trump Holds a Political Rally in Nashville, Tennessee\n",
      "Speech: Donald Trump Holds a Political Rally in Melbourne, Florida\n",
      "FULL RALLY: President Trump in Montoursville, Pennsylvania\n",
      "Pres. Trump New Hampshire Rally in Manchester | ABC News Live Coverage\n",
      "FULL TRUMP RALLY: President Trump holds campaign rally in Dallas, Texas\n",
      "WATCH LIVE: President Trump comes to Minnesota for Mankato campaign stop\n",
      "WATCH: President Trump in Yuma, AZ\n",
      "Trump delivers remarks from Minden, Nevada\n",
      "Trump holds a campaign event in Henderson, Nevada\n",
      "FULL: Trump campaign speech in Atlanta\n",
      "Debate 1 (Trump)\n",
      "President Trump Rally On Rush Limbaugh's Show - 09/10/20 (FULL)\n",
      "RAW VIDEO: President Donald Trump FULL SPEECH at Johnstown, PA Rally 10/13/20\n",
      "WATCH LIVE: Trump holds campaign rally in Greenville, North Carolina\n",
      "Live: President Trump Delivers Remarks In North Carolina | NBC News\n",
      "President Donald Trump FULL SPEECH at Tampa, FL Rally 10/29/20\n",
      "Trump Holds Campaign Rally In Michigan | NBC News\n",
      "President Trump speaks at Make America Great Again rally in North Carolina — 11/2/2020\n"
     ]
    }
   ],
   "source": [
    "rally_democrat_sentences=[]\n",
    "for ral, titl in zip(rally_list, rally_titles):\n",
    "    print(titl)\n",
    "    demo_mentions=get_democrat_mentions(ral)\n",
    "    rally_democrat_sentences+=demo_mentions"
   ]
  },
  {
   "cell_type": "code",
   "execution_count": 56,
   "id": "c059b89e",
   "metadata": {},
   "outputs": [
    {
     "data": {
      "text/plain": [
       "1976"
      ]
     },
     "execution_count": 56,
     "metadata": {},
     "output_type": "execute_result"
    }
   ],
   "source": [
    "len(rally_democrat_sentences)"
   ]
  },
  {
   "cell_type": "code",
   "execution_count": 57,
   "id": "8d9cfdeb",
   "metadata": {},
   "outputs": [
    {
     "name": "stdout",
     "output_type": "stream",
     "text": [
      "Debate: 2016-09-26 Hempstead New York\n",
      "Debate: 2016-10-09 St. Louis Missouri\n",
      "Debate: 2016-10-19 Paradise Nevada\n",
      "Donald Trump 4th of July Event Speech Transcript\n",
      "Donald Trump Speech Transcript Turning Point USA Teen Student Summit Speech\n",
      "Donald Trump Speech Transcript in Jamestown Virginia\n",
      "Donald Trump Statement on Mass Shootings\n",
      "Donald Trump, Emmanuel Macron G7 Press Conference & Speeches\n",
      "E-Cigarette Regulation and John Bolton Discussion\n",
      "Press Conference Response to Impechment Inquiry\n",
      "Trump Transcript Trump Says China Should Investigate Biden\n",
      "Trump Claims No Quid Pro Quo\n",
      "Press Conference with Italian President\n",
      "Donald Trump Cabinet Meeting Transcript Trump Calls Emoluments Clause of the Constitution Phony\n",
      "Donald Trump Syria Press Conference Transcript Trump Orders All Turkey Sanctions Lifted\n",
      "ISIS Leader Abu Bakr al-Baghdadi Killed\n",
      "Macron Trump NATO Summit Meeting Transcript\n",
      "Trump Makes Statement After Iran Attacks US Bases in Iraq\n",
      "Davos World Economic Forum Trump Holds News Conference\n",
      "Trump Speaks at March for Life Event\n",
      "Middle East Peace Speech Transcript with Israel PM Netanyahu\n",
      "National Prayer Breakfast\n",
      "News Conference Calls Russia Investigation Bullshit Talks Impeachment Acquittal\n",
      "Opportunity Now Summit in Charlotte NC\n",
      "National Governors Association Speech Transcript\n",
      "Donald Trump Talks Roger Stone Colonel Vindman During Veteran Bill Signing\n",
      "Daytona 500 Speech Trump First President as Daytona Grand Marshal\n",
      "Trump Speaks About Communiting Former Gov Blagojevich Stence Pardoning Others\n",
      "Donald Trump Speech Transcript at the Hope for Prisoners Graduation Ceremony\n",
      "New Delha News Conference\n",
      "Coronavirus Press Conference Trump and CDC Give Coronavirus Updates\n",
      "Coronavirus Update Transcript Warns Not To Travel to Italy South Korea\n",
      "Trump Holds Coronavirus Meeting with Pharmaceutical Executives\n",
      "Meeting wiht the National Institute of Health\n",
      "National Association of Counties Speech\n",
      "Donald Trump Mike Pence Coronavirus Briefing with Airline and Diagnostic Lab CEOs\n",
      "Donald Trump Visits CDC Calls Jay Inslee a Snake\n",
      "Fox News Town Hall Transcript\n",
      "Donald Trump and Mike Pene Meet With Health Insurance Amid Coronavirus\n",
      "Bank CEOs Announce Coronavius Measures\n",
      "Trump Meeting with Acting Irish Prime Minish Leo Varadkar\n",
      "Declares Coronavirus National Emergency\n",
      "Coronavirus Press Conference\n",
      "Coronavirus Task Force News Conference\n",
      "Coronavirus Task Force Update\n",
      "Coronavirus Task Force Briefing - Trump Pence Mnuchin Speak about Covid 19\n",
      "Meeting with Tourism Industry Reps Amid Coronavirus Pandemic\n",
      "Coronavirus Task Force News Briefing Invokes Defense Production Act\n",
      "Task Force Briefing Trump Takes Shots at the Media\n",
      "Coronavirus Task Force Trump Spars with Reporters\n",
      "Coronavirus Task Force Update\n",
      "Coronavirus Task Force Briefing National Guard Activated in New York California and Washington State\n",
      "Coronavirus Task Force Briefing\n",
      "Coronavirus Task Force Briefing\n",
      "Coronavirus Town Hall Transcript Trump Wants to Restart the Economy by Easter\n",
      "Coronavirus Task Force Press Conference Transcript March 25\n",
      "Coronavirus Task Force Press Conference Transcript Plans to Classify Counties by COVID 19 Risk\n",
      "Coronavirus Task Force Briefing Trump Says Michigan and Washington Governors Not “Appreciative”\n",
      "Donald Trump Signs Historic $2 Trillion Coronavirus Stimulus Bill\n",
      "Donald Trump Gives Speech Sending off Hospital Ship to NYC\n",
      "Coronavirus Task Force Briefing Transcript March 29\n",
      "Coronavirus Task Force Press Conference Transcript March 30\n",
      "Coronavirus Task Force Briefing Transcript March 31 “Painful” Weeks Ahead\n",
      "Coronavirus Task Force Briefing Transcripts\n",
      "Coronavirus Task Force Briefing April 2\n",
      "Coronavirus Briefing Transcript April 3 New CDC Face Mask Recommendations\n",
      "LIVE: State of the Union Address\n",
      "LIVE: President Trump in North Charleston, SC\n",
      "President Trump goes one-on-one with Chris Wallace | Full Interview\n",
      "Trump offers Lebanon assistance following explosion, touts' coronavirus response | FULL\n",
      "Trump slams Kamala Harris, makes 2020 predictions | Full Interview\n",
      "Trump Delivers Remarks at Mariotti Building Products in Old Forge, Pennsylvania\n",
      "President Donald Trump's Full Republican National Convention Speech | NBC10 Philadelphia\n",
      "Jacob Blake protests: Trump announces funding for Kenosha police, businesses during visit | FULL\n",
      "President Trump designates Wilmington, NC as the first American World War II Heritage City | FULL\n",
      "LIVE: Trump's full speech at the White House Conference on American History (Sept. 17) | NTD\n",
      "Trump talks COVID-19 vaccine distribution, TikTok ban | FULL\n",
      "President Trump holds press conference at the White House\n",
      "Debate 2 (Trump)\n",
      "President Trump's '60 Minutes' interview\n",
      "Address to Joint Session of Congress\n",
      "Speech at the Unleashing American Energy Event\n",
      "Speech at the Boy Scout Jamboree\n",
      "Address to the United National General Assembly\n",
      "Remarks on the National Security Strategy\n",
      "Address at the World Economic Forum\n",
      "Remarks at the House and Senate Republican Member Conference\n",
      "Statement on the School Shooting in Parkland Florida\n",
      "Remarks at the Conservative Political Action Conference\n",
      "Remarks on Combatting the Opioid Crisis\n",
      "Speech at the Veterans of Foreign Wars National Convention\n",
      "Address at the 73rd Session of the United States General Assembly\n",
      "Remarks about the US Southern Border\n",
      "Speech Declaring a National Emergency\n",
      "Remarks at the United Nations General Assembly\n",
      "Remarks on the Killing of Qasem Soleimani\n",
      "Statement on the Coronavirus\n",
      "Coronavirus Task Force Briefing\n",
      "Press Briefing with the Coronavirus Task Force\n",
      "Task Force Briefing on the Coronavirus Pandemic\n",
      "Statement on Protests Against Police Brutality\n",
      "Address at West Point Graduation\n",
      "Remarks at Salute to America\n",
      "Press Conference on Executive Orders\n",
      "Labor Day Press Conference\n",
      "Announcing His Nominee For the US Supreme Court\n",
      "Swearing In Ceremony of the Honorable Amy Coney Barrett to the US Supreme Court\n",
      "Remarks on the 2020 Election\n",
      "Speech Urging Supporters to Go Home\n",
      "Message After Pro-Trump Mob Overruns Capital\n",
      "Statement about the Violence at the Capitol\n",
      "Farewell Address\n"
     ]
    }
   ],
   "source": [
    "speech_democrat_sentences=[]\n",
    "for spe, titl in zip(speech_list, speech_titles):\n",
    "    print(titl)\n",
    "    demo_mentions=get_democrat_mentions(spe)\n",
    "    speech_democrat_sentences+=demo_mentions"
   ]
  },
  {
   "cell_type": "code",
   "execution_count": 59,
   "id": "2b2ca090",
   "metadata": {},
   "outputs": [
    {
     "data": {
      "text/plain": [
       "354"
      ]
     },
     "execution_count": 59,
     "metadata": {},
     "output_type": "execute_result"
    }
   ],
   "source": [
    "len(speech_democrat_sentences)"
   ]
  },
  {
   "cell_type": "markdown",
   "id": "3c0408b3",
   "metadata": {},
   "source": [
    "#### Calculate mean valence score for lemmas of words in same sentence as the mention of democrats."
   ]
  },
  {
   "cell_type": "code",
   "execution_count": 242,
   "id": "379a3408",
   "metadata": {},
   "outputs": [],
   "source": [
    "all_stopwords = nlp.Defaults.stop_words\n",
    "democrat_list=['democrats', 'democrat', 'liberal', 'liberals', 'socialist', 'socialists']\n",
    "def valence_scores(sentence_list):\n",
    "    valence_list=[]\n",
    "    for sent in sentence_list:\n",
    "        x=[t.lemma_.lower() for t in sent if t.lemma_.lower() not in democrat_list and not t.is_punct and not t in all_stopwords] \n",
    "        mean_valence=np.array([vad_dict[t] for t in x if t in vad_dict.keys()]).mean()\n",
    "        if not pd.isna(mean_valence):\n",
    "            valence_list.append(mean_valence)\n",
    "        if pd.isna(mean_valence):\n",
    "            print('excluded for lack of words: {}'.format(sent))\n",
    "    return valence_list"
   ]
  },
  {
   "cell_type": "code",
   "execution_count": 243,
   "id": "58b02731",
   "metadata": {},
   "outputs": [
    {
     "name": "stdout",
     "output_type": "stream",
     "text": [
      "excluded for lack of words: Democrat, all Democrat.\n",
      "excluded for lack of words: How about the Democrats?  \n",
      "excluded for lack of words: And how about these Democrats?\n",
      "excluded for lack of words: All Democrats.\n",
      "excluded for lack of words: All by the Democrats.\n",
      "excluded for lack of words: The Democrats.\n",
      "excluded for lack of words: How about the Democrats?\n",
      "excluded for lack of words: Only a Democrat --\n",
      "excluded for lack of words: Because the Democrats –\n",
      "excluded for lack of words: Over a Democrat.\n",
      "excluded for lack of words: Democrats\n"
     ]
    },
    {
     "name": "stderr",
     "output_type": "stream",
     "text": [
      "C:\\Users\\pcrrt\\Anaconda3\\envs\\anlp_spacy2\\lib\\site-packages\\ipykernel_launcher.py:7: RuntimeWarning: Mean of empty slice.\n",
      "  import sys\n"
     ]
    },
    {
     "data": {
      "text/plain": [
       "1965"
      ]
     },
     "execution_count": 243,
     "metadata": {},
     "output_type": "execute_result"
    }
   ],
   "source": [
    "rally_valence_list=valence_scores(rally_democrat_sentences)\n",
    "len(rally_valence_list)"
   ]
  },
  {
   "cell_type": "code",
   "execution_count": 244,
   "id": "21b47dd2",
   "metadata": {},
   "outputs": [
    {
     "name": "stdout",
     "output_type": "stream",
     "text": [
      "excluded for lack of words: That’s the Democrats.\n",
      "excluded for lack of words: He’s a Democrat.\n",
      "excluded for lack of words: Democrats.\n",
      "excluded for lack of words: It’s because of the Democrats.\n"
     ]
    },
    {
     "name": "stderr",
     "output_type": "stream",
     "text": [
      "C:\\Users\\pcrrt\\Anaconda3\\envs\\anlp_spacy2\\lib\\site-packages\\ipykernel_launcher.py:7: RuntimeWarning: Mean of empty slice.\n",
      "  import sys\n"
     ]
    },
    {
     "data": {
      "text/plain": [
       "350"
      ]
     },
     "execution_count": 244,
     "metadata": {},
     "output_type": "execute_result"
    }
   ],
   "source": [
    "speech_valence_list=valence_scores(speech_democrat_sentences)\n",
    "len(speech_valence_list)"
   ]
  },
  {
   "cell_type": "markdown",
   "id": "8274eb7e",
   "metadata": {},
   "source": [
    "#### Run bootstrap to see whether there is a difference between the two texts"
   ]
  },
  {
   "cell_type": "code",
   "execution_count": 247,
   "id": "e400ccdb",
   "metadata": {},
   "outputs": [],
   "source": [
    "def bootstrap(rallies, speeches, B=10000, confidence_level=0.95):\n",
    "    # your code here\n",
    "    rally_len=len(rallies)\n",
    "    speech_len=len(speeches)\n",
    "    indices_rally=[i for i in range(rally_len)]  \n",
    "    indices_speech=[i for i in range(speech_len)]\n",
    "    rally_array=np.array(rallies)\n",
    "    speeches_array=np.array(speeches)\n",
    "    metric_bootstrap=[]\n",
    "    upper_c=confidence_level*100\n",
    "    lower_c=100-(confidence_level*100)\n",
    "    for i in range(B):\n",
    "        #print(rally_array[list(np.random.choice(indices_rally, rally_len, replace = True))])\n",
    "        rally_sample=rally_array[list(np.random.choice(indices_rally, rally_len, replace = True))].mean()\n",
    "        speech_sample=speeches_array[list(np.random.choice(indices_speech, speech_len, replace = True))].mean()\n",
    "        diff=speech_sample-rally_sample\n",
    "        metric_bootstrap.append(diff)\n",
    "    lower=np.percentile(metric_bootstrap, lower_c)\n",
    "    upper=np.percentile(metric_bootstrap, upper_c)\n",
    "    median=np.percentile(metric_bootstrap, 50)\n",
    "    return lower, median, upper"
   ]
  },
  {
   "cell_type": "code",
   "execution_count": 246,
   "id": "3f6fffbc",
   "metadata": {},
   "outputs": [
    {
     "data": {
      "text/plain": [
       "(0.03157960563337052, 0.04009405777796965, 0.04843618384538449)"
      ]
     },
     "execution_count": 246,
     "metadata": {},
     "output_type": "execute_result"
    }
   ],
   "source": [
    "bootstrap(rally_valence_list, speech_valence_list)"
   ]
  },
  {
   "cell_type": "code",
   "execution_count": null,
   "id": "63c79098",
   "metadata": {},
   "outputs": [],
   "source": []
  }
 ],
 "metadata": {
  "kernelspec": {
   "display_name": "Python [conda env:anlp_spacy2] *",
   "language": "python",
   "name": "conda-env-anlp_spacy2-py"
  },
  "language_info": {
   "codemirror_mode": {
    "name": "ipython",
    "version": 3
   },
   "file_extension": ".py",
   "mimetype": "text/x-python",
   "name": "python",
   "nbconvert_exporter": "python",
   "pygments_lexer": "ipython3",
   "version": "3.7.11"
  }
 },
 "nbformat": 4,
 "nbformat_minor": 5
}
