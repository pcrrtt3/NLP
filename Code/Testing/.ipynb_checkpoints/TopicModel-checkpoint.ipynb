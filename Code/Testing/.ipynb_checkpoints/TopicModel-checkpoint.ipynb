{
 "cells": [
  {
   "cell_type": "markdown",
   "metadata": {},
   "source": [
    "In this notebook we'll explore topic modeling to discover broad themes in a collection of movie summaries."
   ]
  },
  {
   "cell_type": "code",
   "execution_count": 1,
   "metadata": {},
   "outputs": [
    {
     "name": "stderr",
     "output_type": "stream",
     "text": [
      "C:\\Users\\pcrrt\\Anaconda3\\envs\\anlp\\lib\\site-packages\\gensim\\similarities\\__init__.py:15: UserWarning: The gensim.similarities.levenshtein submodule is disabled, because the optional Levenshtein package <https://pypi.org/project/python-Levenshtein/> is unavailable. Install Levenhstein (e.g. `pip install python-Levenshtein`) to suppress this warning.\n",
      "  warnings.warn(msg)\n",
      "[nltk_data] Downloading package stopwords to\n",
      "[nltk_data]     C:\\Users\\pcrrt\\AppData\\Roaming\\nltk_data...\n",
      "[nltk_data]   Package stopwords is already up-to-date!\n"
     ]
    }
   ],
   "source": [
    "import nltk\n",
    "import re\n",
    "import gensim\n",
    "from gensim import corpora\n",
    "import operator\n",
    "\n",
    "nltk.download('stopwords')\n",
    "from nltk.corpus import stopwords\n",
    "\n",
    "import numpy as np\n",
    "import random\n",
    "\n",
    "random.seed(1)\n",
    "import pandas as pd\n",
    "import os"
   ]
  },
  {
   "cell_type": "markdown",
   "metadata": {},
   "source": [
    "Clean Data"
   ]
  },
  {
   "cell_type": "code",
   "execution_count": 2,
   "metadata": {},
   "outputs": [],
   "source": [
    "inpath2= os.path.dirname(os.path.dirname(os.getcwd()))+\"\\\\Data\\\\Intermediate Data\\\\\"\n",
    "df=pd.read_csv(inpath2+'final_all_files.csv')"
   ]
  },
  {
   "cell_type": "code",
   "execution_count": 3,
   "metadata": {},
   "outputs": [],
   "source": [
    "df['title2']=df['date']+\" \"+df['title']+\" - \"+df['event_type']\n",
    "df=df[df['candidate']=='trump']\n",
    "df2=df[['title2', 'text']]\n",
    "df2.to_csv(inpath2+'trump_for_lda.tsv', sep='\\t', index=False, header=False, encoding='utf8')"
   ]
  },
  {
   "cell_type": "markdown",
   "metadata": {},
   "source": [
    "Since we're running topic modeling on texts with lots of names, we'll add the Jockers list of stopwords (which includes character names) to our stoplist."
   ]
  },
  {
   "cell_type": "code",
   "execution_count": 4,
   "metadata": {},
   "outputs": [],
   "source": [
    "def read_stopwords(filename):\n",
    "    stopwords={}\n",
    "    with open(filename) as file:\n",
    "        for line in file:\n",
    "            stopwords[line.rstrip()]=1\n",
    "    return stopwords"
   ]
  },
  {
   "cell_type": "code",
   "execution_count": 5,
   "metadata": {},
   "outputs": [],
   "source": [
    "stop_words = {k:1 for k in stopwords.words('english')}\n",
    "stop_words.update(read_stopwords(\"C:/Users/pcrrt/anlp21/data/jockers.stopwords\"))\n",
    "stop_words[\"'s\"]=1\n",
    "stop_words=list(stop_words.keys())"
   ]
  },
  {
   "cell_type": "code",
   "execution_count": 6,
   "metadata": {},
   "outputs": [],
   "source": [
    "def filter(word, stopwords):\n",
    "    \n",
    "    \"\"\" Function to exclude words from a text \"\"\"\n",
    "    \n",
    "    # no stopwords\n",
    "    if word in stopwords:\n",
    "        return False\n",
    "    \n",
    "    # has to contain at least one letter\n",
    "    if re.search(\"[A-Za-z]\", word) is not None:\n",
    "        return True\n",
    "    \n",
    "    return False"
   ]
  },
  {
   "cell_type": "code",
   "execution_count": 7,
   "metadata": {},
   "outputs": [],
   "source": [
    "def read_docs(plotFile, stopwords):\n",
    "    docs=[]\n",
    "    names=[]\n",
    "    with open(plotFile, encoding=\"utf-8\") as file:\n",
    "        for line in file:\n",
    "            #print(line)\n",
    "            #print(line)\n",
    "            cols=line.rstrip().split(\"\\t\")\n",
    "            title=cols[0]\n",
    "            text=cols[1]\n",
    "            tokens=nltk.word_tokenize(text.lower())\n",
    "            tokens=[x for x in tokens if filter(x, stopwords)]\n",
    "            docs.append(tokens)\n",
    "            name=title\n",
    "            if name=='':\n",
    "                print(text)\n",
    "            names.append(name)\n",
    "    return docs, names"
   ]
  },
  {
   "cell_type": "markdown",
   "metadata": {},
   "source": [
    "We'll read in summaries of the 5,000 movies with the highest box office revenues."
   ]
  },
  {
   "cell_type": "code",
   "execution_count": 8,
   "metadata": {},
   "outputs": [],
   "source": [
    "plotFile=inpath2+'/trump_for_lda.tsv'\n",
    "data, doc_names=read_docs(plotFile, stop_words)"
   ]
  },
  {
   "cell_type": "markdown",
   "metadata": {},
   "source": [
    "We will convert the movie summaries into a bag-of-words representation using gensim's [corpora.dictionary](https://radimrehurek.com/gensim/corpora/dictionary.html) methods."
   ]
  },
  {
   "cell_type": "code",
   "execution_count": 9,
   "metadata": {},
   "outputs": [],
   "source": [
    "# Create vocab from data; restrict vocab to only the top 10K terms that show up in at least 5 documents \n",
    "# and no more than 50% of all documents\n",
    "dictionary = corpora.Dictionary(data)\n",
    "dictionary.filter_extremes(no_below=5, no_above=.5, keep_n=10000)"
   ]
  },
  {
   "cell_type": "code",
   "execution_count": 10,
   "metadata": {},
   "outputs": [],
   "source": [
    "# Replace dataset with numeric ids words in vocab (and exclude all other words)\n",
    "corpus = [dictionary.doc2bow(text) for text in data]"
   ]
  },
  {
   "cell_type": "code",
   "execution_count": 11,
   "metadata": {},
   "outputs": [],
   "source": [
    "num_topics=20"
   ]
  },
  {
   "cell_type": "markdown",
   "metadata": {},
   "source": [
    "Now let's run a topic model on this data using gensim's built-in LDA."
   ]
  },
  {
   "cell_type": "code",
   "execution_count": 12,
   "metadata": {},
   "outputs": [],
   "source": [
    "lda_model = gensim.models.ldamodel.LdaModel(corpus=corpus,\n",
    "                                           id2word=dictionary,\n",
    "                                           num_topics=num_topics, \n",
    "                                           passes=10,\n",
    "                                           alpha='auto')"
   ]
  },
  {
   "cell_type": "markdown",
   "metadata": {},
   "source": [
    "We can get a sense of what the topics are by printing the top 10 words with highest $P(word \\mid topic)$ for each topic"
   ]
  },
  {
   "cell_type": "code",
   "execution_count": 13,
   "metadata": {
    "scrolled": true
   },
   "outputs": [
    {
     "name": "stdout",
     "output_type": "stream",
     "text": [
      "topic 0:\trussia germany violence report vaccine jail labor u.s. ballots protecting\n",
      "topic 1:\ttexas russia minnesota okay farmers kurds secretary whistleblower soldiers beat\n",
      "topic 2:\tuh police kenosha local community feel judges safety um air\n",
      "topic 3:\tlouisiana edwards bel kansas insurance saturday whistleblower oil approved death\n",
      "topic 4:\tsyria turkey soldiers nato russia european italy union virus involved\n",
      "topic 5:\tboy votes ballots counting legal polls count momentum wisconsin company\n",
      "topic 6:\tcorruption biden pennsylvania impeachment ukraine hunt witch corrupt press conversation\n",
      "topic 7:\tveterans ice mr. voted steel ohio senator aliens farmers pelosi\n",
      "topic 8:\tjudge notre dame congratulations coney nomination professor school u.s. circuit\n",
      "topic 9:\timmigration okay human peace violence bless reform school interests regime\n",
      "topic 10:\tgon okay michigan hampshire pennsylvania tariffs constitution independence ice embassy\n",
      "topic 11:\tvirus governors uh medical testing test okay masks businesses vaccine\n",
      "topic 12:\tbiden uh police michigan pennsylvania okay sleepy ballots gon russia\n",
      "topic 13:\toil russia earth killed bless brilliant fought area religious air\n",
      "topic 14:\tohio soleimani tanks terrorist farmers crooked factories bigger sick paying\n",
      "topic 15:\tindiana montana tester obamacare voted alabama senator coach braun coal\n",
      "topic 16:\tindustry canada statement closely helping advantage planes steps behalf uk\n",
      "topic 17:\tventilators okay virus governors hospital masks decision hospitals dr. medical\n",
      "topic 18:\tbiden iowa farmers idea okay senator ice michigan air ok.\n",
      "topic 19:\tstock u.s. reform invest market businesses regulation venezuela potential okay\n"
     ]
    }
   ],
   "source": [
    "for i in range(num_topics):\n",
    "    print(\"topic %s:\\t%s\" % (i, ' '.join([term for term, freq in lda_model.show_topic(i, topn=10)])))"
   ]
  },
  {
   "cell_type": "markdown",
   "metadata": {},
   "source": [
    "Another way of understanding topics is to print out the documents that have the highest topic representation -- i.e., for a given topic $k$, the documents with highest $P(topic=k | document)$.  How much do the documents listed here align with your understanding of the topics?"
   ]
  },
  {
   "cell_type": "code",
   "execution_count": 14,
   "metadata": {},
   "outputs": [
    {
     "name": "stdout",
     "output_type": "stream",
     "text": [
      "russia germany violence report vaccine jail labor u.s. ballots protecting\n",
      "\n",
      "0\t0.999\t09/07/2020 Labor Day Press Conference - speech 218\n",
      "0\t0.995\t01/13/2021 Statement about the Violence at the Capitol - speech 224\n",
      "\n",
      "texas russia minnesota okay farmers kurds secretary whistleblower soldiers beat\n",
      "\n",
      "1\t1.000\t10/18/2019 FULL TRUMP RALLY: President Trump holds campaign rally in Dallas, Texas - rally 166\n",
      "1\t0.999\t10/17/2019 Speech: Donald Trump Holds a Political Rally in Dallas, Texas - rally 29\n",
      "1\t0.999\t10/22/2019 Donald Trump Cabinet Meeting Transcript Trump Calls Emoluments Clause of the Constitution Phony - speech 111\n",
      "1\t0.999\t02/06/2020 News Conference Calls Russia Investigation Bullshit Talks Impeachment Acquittal - speech 120\n",
      "1\t0.999\t02/20/2020 Donald Trump Speech Transcript at the Hope for Prisoners Graduation Ceremony - speech 126\n",
      "\n",
      "uh police kenosha local community feel judges safety um air\n",
      "\n",
      "2\t0.999\t09/01/2020 Jacob Blake protests: Trump announces funding for Kenosha police, businesses during visit | FULL - speech 176\n",
      "2\t0.997\t06/25/2018 Speech: Donald Trump Holds a Political Rally in West Columbia, South Carolina - rally 80\n",
      "2\t0.967\t03/03/2020 National Association of Counties Speech - speech 132\n",
      "2\t0.822\t01/22/2020 Davos World Economic Forum Trump Holds News Conference - speech 116\n",
      "2\t0.569\t03/03/2020 Meeting wiht the National Institute of Health - speech 131\n",
      "\n",
      "louisiana edwards bel kansas insurance saturday whistleblower oil approved death\n",
      "\n",
      "3\t0.999\t03/19/2018 Remarks on Combatting the Opioid Crisis - speech 203\n",
      "3\t0.812\t02/11/2020 Donald Trump Talks Roger Stone Colonel Vindman During Veteran Bill Signing - speech 123\n",
      "3\t0.812\t02/10/2020 National Governors Association Speech Transcript - speech 122\n",
      "3\t0.811\t02/25/2020 New Delha News Conference - speech 127\n",
      "3\t0.501\t03/04/2020 Donald Trump Mike Pence Coronavirus Briefing with Airline and Diagnostic Lab CEOs - speech 133\n",
      "\n",
      "syria turkey soldiers nato russia european italy union virus involved\n",
      "\n",
      "4\t0.998\t12/03/2019 Macron Trump NATO Summit Meeting Transcript - speech 114\n",
      "4\t0.921\t03/27/2020 Donald Trump Signs Historic $2 Trillion Coronavirus Stimulus Bill - speech 156\n",
      "4\t0.836\t03/26/2020 Coronavirus Task Force Press Conference Transcript Plans to Classify Counties by COVID 19 Risk - speech 154\n",
      "4\t0.779\t10/16/2019 Press Conference with Italian President - speech 110\n",
      "4\t0.671\t03/28/2020 Donald Trump Gives Speech Sending off Hospital Ship to NYC - speech 157\n",
      "\n",
      "boy votes ballots counting legal polls count momentum wisconsin company\n",
      "\n",
      "5\t0.999\t07/24/2017 Speech at the Boy Scout Jamboree - speech 196\n",
      "5\t0.998\t11/05/2020 Remarks on the 2020 Election - speech 221\n",
      "5\t0.996\t06/01/2020 Statement on Protests Against Police Brutality - speech 214\n",
      "5\t0.079\t01/07/2021 Message After Pro-Trump Mob Overruns Capital - speech 223\n",
      "\n",
      "corruption biden pennsylvania impeachment ukraine hunt witch corrupt press conversation\n",
      "\n",
      "6\t0.999\t12/10/2019 Speech: Donald Trump Holds a Political Rally in Hershey, Pennsylvania - rally 23\n",
      "6\t0.998\t10/04/2019 Trump Claims No Quid Pro Quo - speech 109\n",
      "6\t0.549\t09/25/2019 Press Conference Response to Impechment Inquiry - speech 107\n",
      "6\t0.432\t03/15/2020 Coronavirus Task Force News Conference - speech 141\n",
      "6\t0.373\t07/19/2020 President Trump goes one-on-one with Chris Wallace | Full Interview - speech 169\n",
      "\n",
      "veterans ice mr. voted steel ohio senator aliens farmers pelosi\n",
      "\n",
      "7\t1.000\t02/20/2020 Speech: Donald Trump Holds a Political Rally in Colorado Springs, Colorado - rally 16\n",
      "7\t1.000\t10/22/2018 Speech: Donald Trump Holds a Political Rally in Houston, Texas - rally 57\n",
      "7\t0.999\t09/29/2018 Speech: Donald Trump Holds a Political Rally in Wheeling, West Virginia - rally 69\n",
      "7\t0.999\t10/26/2018 Speech: Donald Trump Holds a Political Rally in Charlotte, North Carolina - rally 55\n",
      "7\t0.999\t11/01/2018 Speech: Donald Trump Holds a Political Rally in Columbia, Missouri - rally 52\n",
      "\n",
      "judge notre dame congratulations coney nomination professor school u.s. circuit\n",
      "\n",
      "8\t0.997\t09/26/2020 Announcing His Nominee For the US Supreme Court - speech 219\n",
      "8\t0.997\t10/26/2020 Swearing In Ceremony of the Honorable Amy Coney Barrett to the US Supreme Court - speech 220\n",
      "8\t0.044\t10/09/2020 President Trump Rally On Rush Limbaugh's Show - 09/10/20 (FULL) - rally 185\n",
      "8\t0.028\t06/13/2020 Address at West Point Graduation - speech 215\n",
      "8\t0.024\t10/22/2020 President Trump's '60 Minutes' interview - speech 189\n",
      "\n",
      "immigration okay human peace violence bless reform school interests regime\n",
      "\n",
      "9\t0.999\t09/24/2019 Remarks at the United Nations General Assembly - speech 208\n",
      "9\t0.999\t09/25/2018 Address at the 73rd Session of the United States General Assembly - speech 205\n",
      "9\t0.999\t12/18/2017 Remarks on the National Security Strategy - speech 198\n",
      "9\t0.999\t01/19/2021 Farewell Address - speech 225\n",
      "9\t0.998\t08/05/2019 Donald Trump Statement on Mass Shootings - speech 104\n",
      "\n",
      "gon okay michigan hampshire pennsylvania tariffs constitution independence ice embassy\n",
      "\n",
      "10\t0.999\t09/17/2020 LIVE: Trump's full speech at the White House Conference on American History (Sept. 17) | NTD - speech 180\n",
      "10\t0.998\t07/30/2019 Donald Trump Speech Transcript in Jamestown Virginia - speech 103\n",
      "10\t0.945\t08/16/2019 Pres. Trump New Hampshire Rally in Manchester | ABC News Live Coverage - rally 165\n",
      "10\t0.936\t07/24/2018 Speech at the Veterans of Foreign Wars National Convention - speech 204\n",
      "10\t0.729\t04/28/2018 Speech: Donald Trump Holds a Political Rally in Washington Township, Michigan - rally 85\n",
      "\n",
      "virus governors uh medical testing test okay masks businesses vaccine\n",
      "\n",
      "11\t1.000\t03/22/2020 Coronavirus Task Force Briefing National Guard Activated in New York California and Washington State - speech 149\n",
      "11\t0.999\t03/23/2020 Coronavirus Task Force Briefing - speech 150\n",
      "11\t0.999\t03/24/2020 Coronavirus Task Force Briefing - speech 151\n",
      "11\t0.999\t08/04/2020 Trump offers Lebanon assistance following explosion, touts' coronavirus response | FULL - speech 170\n",
      "11\t0.999\t08/17/2020 WATCH LIVE: President Trump comes to Minnesota for Mankato campaign stop - rally 172\n",
      "\n",
      "biden uh police michigan pennsylvania okay sleepy ballots gon russia\n",
      "\n",
      "12\t1.000\t09/12/2020 Speech: Donald Trump Holds a Campaign Rally in Minden, Nevada - rally 10\n",
      "12\t1.000\t09/13/2020 Trump delivers remarks from Minden, Nevada - rally 178\n",
      "12\t1.000\t09/22/2020 Speech: Donald Trump Holds a Campaign Rally in Moon Township, Pennsylvania - rally 5\n",
      "12\t1.000\t09/26/2020 Speech: Donald Trump Holds a Campaign Rally in Middletown, Pennsylvania - rally 2\n",
      "12\t1.000\t09/10/2020 Speech: Donald Trump Holds a Campaign Rally in Freeland, Michigan - rally 11\n",
      "\n",
      "oil russia earth killed bless brilliant fought area religious air\n",
      "\n",
      "13\t0.999\t07/04/2020 Remarks at Salute to America - speech 216\n",
      "13\t0.999\t08/08/2020 Press Conference on Executive Orders - speech 217\n",
      "13\t0.998\t02/06/2020 National Prayer Breakfast - speech 119\n",
      "13\t0.811\t08/26/2019 Donald Trump, Emmanuel Macron G7 Press Conference & Speeches - speech 105\n",
      "13\t0.692\t10/27/2019 ISIS Leader Abu Bakr al-Baghdadi Killed - speech 113\n",
      "\n",
      "ohio soleimani tanks terrorist farmers crooked factories bigger sick paying\n",
      "\n",
      "14\t1.000\t01/09/2020 Speech: Donald Trump Holds a Political Rally in Toledo, Ohio - rally 21\n",
      "14\t0.998\t09/02/2020 President Trump designates Wilmington, NC as the first American World War II Heritage City | FULL - speech 177\n",
      "14\t0.292\t01/03/2020 Remarks on the Killing of Qasem Soleimani - speech 209\n",
      "14\t0.146\t01/08/2020 Trump Makes Statement After Iran Attacks US Bases in Iraq - speech 115\n",
      "14\t0.083\t01/14/2020 Speech: Donald Trump Holds a Political Rally in Milwaukee, Wisconsin - rally 20\n",
      "\n",
      "indiana montana tester obamacare voted alabama senator coach braun coal\n",
      "\n",
      "15\t0.999\t09/22/2017 Speech: Donald Trump Holds a Political Rally in Huntsville, Alabama - rally 88\n",
      "15\t0.999\t11/05/2018 Speech: Donald Trump Holds a Political Rally in Fort Wayne, Indiana - rally 43\n",
      "15\t0.999\t11/02/2018 Speech: Donald Trump Holds a Political Rally in Indianapolis, Indiana - rally 50\n",
      "15\t0.999\t03/20/2017 Speech: Donald Trump Holds a Political Rally in Louisville, Kentucky - rally 95\n",
      "15\t0.747\t07/25/2017 Speech: Donald Trump Holds a Political Rally in Youngstown, Ohio - rally 91\n",
      "\n",
      "industry canada statement closely helping advantage planes steps behalf uk\n",
      "\n",
      "16\t0.987\t03/10/2020 Donald Trump and Mike Pene Meet With Health Insurance Amid Coronavirus - speech 136\n",
      "\n",
      "ventilators okay virus governors hospital masks decision hospitals dr. medical\n",
      "\n",
      "17\t1.000\t03/31/2020 Coronavirus Task Force Briefing Transcript March 31 “Painful” Weeks Ahead - speech 160\n",
      "17\t0.999\t03/30/2020 Coronavirus Task Force Press Conference Transcript March 30 - speech 159\n",
      "17\t0.998\t03/24/2020 Coronavirus Town Hall Transcript Trump Wants to Restart the Economy by Easter - speech 152\n",
      "17\t0.994\t03/11/2020 Bank CEOs Announce Coronavius Measures - speech 137\n",
      "17\t0.994\t03/12/2020 Trump Meeting with Acting Irish Prime Minish Leo Varadkar - speech 138\n",
      "\n",
      "biden iowa farmers idea okay senator ice michigan air ok.\n",
      "\n",
      "\n",
      "stock u.s. reform invest market businesses regulation venezuela potential okay\n",
      "\n",
      "19\t0.999\t01/26/2018 Address at the World Economic Forum - speech 199\n",
      "19\t0.994\t09/11/2019 E-Cigarette Regulation and John Bolton Discussion - speech 106\n",
      "\n"
     ]
    }
   ],
   "source": [
    "topic_model=lda_model \n",
    "\n",
    "topic_docs=[]\n",
    "for i in range(num_topics):\n",
    "    topic_docs.append({})\n",
    "for doc_id in range(len(corpus)):\n",
    "    doc_topics=topic_model.get_document_topics(corpus[doc_id])\n",
    "    for topic_num, topic_prob in doc_topics:\n",
    "        topic_docs[topic_num][doc_id]=topic_prob\n",
    "\n",
    "for i in range(num_topics):\n",
    "    print(\"%s\\n\" % ' '.join([term for term, freq in topic_model.show_topic(i, topn=10)]))\n",
    "    sorted_x = sorted(topic_docs[i].items(), key=operator.itemgetter(1), reverse=True)\n",
    "    for k, v in sorted_x[:5]:\n",
    "        print(\"%s\\t%.3f\\t%s %s\" % (i,v,doc_names[k], k))\n",
    "    print()\n",
    "    \n",
    "    "
   ]
  },
  {
   "cell_type": "code",
   "execution_count": null,
   "metadata": {},
   "outputs": [],
   "source": []
  }
 ],
 "metadata": {
  "kernelspec": {
   "display_name": "Python 3 (ipykernel)",
   "language": "python",
   "name": "python3"
  },
  "language_info": {
   "codemirror_mode": {
    "name": "ipython",
    "version": 3
   },
   "file_extension": ".py",
   "mimetype": "text/x-python",
   "name": "python",
   "nbconvert_exporter": "python",
   "pygments_lexer": "ipython3",
   "version": "3.8.8"
  }
 },
 "nbformat": 4,
 "nbformat_minor": 2
}
