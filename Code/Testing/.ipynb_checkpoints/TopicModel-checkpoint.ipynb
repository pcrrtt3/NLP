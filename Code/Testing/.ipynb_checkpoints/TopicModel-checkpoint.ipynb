{
 "cells": [
  {
   "cell_type": "markdown",
   "metadata": {},
   "source": [
    "In this notebook we'll explore topic modeling to discover broad themes in a collection of movie summaries."
   ]
  },
  {
   "cell_type": "code",
   "execution_count": 1,
   "metadata": {},
   "outputs": [
    {
     "name": "stderr",
     "output_type": "stream",
     "text": [
      "C:\\Users\\pcrrt\\Anaconda3\\envs\\anlp\\lib\\site-packages\\gensim\\similarities\\__init__.py:15: UserWarning: The gensim.similarities.levenshtein submodule is disabled, because the optional Levenshtein package <https://pypi.org/project/python-Levenshtein/> is unavailable. Install Levenhstein (e.g. `pip install python-Levenshtein`) to suppress this warning.\n",
      "  warnings.warn(msg)\n",
      "[nltk_data] Downloading package stopwords to\n",
      "[nltk_data]     C:\\Users\\pcrrt\\AppData\\Roaming\\nltk_data...\n",
      "[nltk_data]   Package stopwords is already up-to-date!\n"
     ]
    }
   ],
   "source": [
    "import nltk\n",
    "import re\n",
    "import gensim\n",
    "from gensim import corpora\n",
    "import operator\n",
    "\n",
    "nltk.download('stopwords')\n",
    "from nltk.corpus import stopwords\n",
    "\n",
    "import numpy as np\n",
    "import random\n",
    "\n",
    "random.seed(1)\n",
    "import pandas as pd\n",
    "import os"
   ]
  },
  {
   "cell_type": "markdown",
   "metadata": {},
   "source": [
    "Clean Data"
   ]
  },
  {
   "cell_type": "code",
   "execution_count": 2,
   "metadata": {},
   "outputs": [],
   "source": [
    "inpath2= os.path.dirname(os.path.dirname(os.getcwd()))+\"\\\\Data\\\\Intermediate Data\\\\\"\n",
    "df=pd.read_csv(inpath2+'final_all_files.csv')"
   ]
  },
  {
   "cell_type": "code",
   "execution_count": 3,
   "metadata": {},
   "outputs": [],
   "source": [
    "df['title2']=df['date']+\" \"+df['title']+\" - \"+df['event_type']\n",
    "df=df[df['candidate']=='trump']"
   ]
  },
  {
   "cell_type": "code",
   "execution_count": null,
   "metadata": {},
   "outputs": [],
   "source": []
  },
  {
   "cell_type": "code",
   "execution_count": 4,
   "metadata": {},
   "outputs": [],
   "source": [
    "df2=df[df['event_type']=='rally'][['title2', 'text']]\n",
    "df2.to_csv(inpath2+'trump_for_lda_rally.tsv', sep='\\t', index=False, header=False, encoding='utf8')"
   ]
  },
  {
   "cell_type": "code",
   "execution_count": 5,
   "metadata": {},
   "outputs": [],
   "source": [
    "df2=df[df['event_type']!='rally'][['title2', 'text']]\n",
    "df2.to_csv(inpath2+'trump_for_lda_speech.tsv', sep='\\t', index=False, header=False, encoding='utf8')"
   ]
  },
  {
   "cell_type": "code",
   "execution_count": null,
   "metadata": {},
   "outputs": [],
   "source": []
  },
  {
   "cell_type": "markdown",
   "metadata": {},
   "source": [
    "Since we're running topic modeling on texts with lots of names, we'll add the Jockers list of stopwords (which includes character names) to our stoplist."
   ]
  },
  {
   "cell_type": "code",
   "execution_count": 6,
   "metadata": {},
   "outputs": [],
   "source": [
    "def read_stopwords(filename):\n",
    "    stopwords={}\n",
    "    with open(filename) as file:\n",
    "        for line in file:\n",
    "            stopwords[line.rstrip()]=1\n",
    "    return stopwords"
   ]
  },
  {
   "cell_type": "code",
   "execution_count": 7,
   "metadata": {},
   "outputs": [],
   "source": [
    "stop_words = {k:1 for k in stopwords.words('english')}\n",
    "stop_words.update(read_stopwords(\"C:/Users/pcrrt/anlp21/data/jockers.stopwords\"))\n",
    "stop_words[\"'s\"]=1\n",
    "stop_words=list(stop_words.keys())\n",
    "excludewords=[\"ok\", 're', \"n't\", \"'ll\", \"okay\", \"uh\", \"'m\", \"'ve\", \"gon\"]"
   ]
  },
  {
   "cell_type": "code",
   "execution_count": 8,
   "metadata": {},
   "outputs": [],
   "source": [
    "def filter(word, stopwords):\n",
    "    \n",
    "    \"\"\" Function to exclude words from a text \"\"\"\n",
    "    \n",
    "    # no stopwords\n",
    "    if word in stopwords:\n",
    "        return False\n",
    "    if word in excludewords:\n",
    "        return False\n",
    "    \n",
    "    # has to contain at least one letter\n",
    "    if re.search(\"[A-Za-z]\", word) is not None:\n",
    "        return True\n",
    "    \n",
    "    return False"
   ]
  },
  {
   "cell_type": "code",
   "execution_count": 9,
   "metadata": {},
   "outputs": [],
   "source": [
    "def read_docs(plotFile, stopwords):\n",
    "    docs=[]\n",
    "    names=[]\n",
    "    with open(plotFile, encoding=\"utf-8\") as file:\n",
    "        for line in file:\n",
    "            #print(line)\n",
    "            #print(line)\n",
    "            cols=line.rstrip().split(\"\\t\")\n",
    "            title=cols[0]\n",
    "            text=cols[1]\n",
    "            tokens=nltk.word_tokenize(text.lower())\n",
    "            tokens=[x for x in tokens if filter(x, stopwords)]\n",
    "            docs.append(tokens)\n",
    "            name=title\n",
    "            if name=='':\n",
    "                print(text)\n",
    "            names.append(name)\n",
    "    return docs, names"
   ]
  },
  {
   "cell_type": "markdown",
   "metadata": {},
   "source": [
    "### Rallies Topic Modeling"
   ]
  },
  {
   "cell_type": "code",
   "execution_count": 10,
   "metadata": {},
   "outputs": [],
   "source": [
    "plotFile=inpath2+'/trump_for_lda_rally.tsv'\n",
    "data, doc_names=read_docs(plotFile, stop_words)"
   ]
  },
  {
   "cell_type": "code",
   "execution_count": 11,
   "metadata": {},
   "outputs": [],
   "source": [
    "# Create vocab from data; restrict vocab to only the top 10K terms that show up in at least 5 documents \n",
    "# and no more than 50% of all documents\n",
    "dictionary = corpora.Dictionary(data)\n",
    "dictionary.filter_extremes(no_below=5, no_above=.5, keep_n=10000)"
   ]
  },
  {
   "cell_type": "code",
   "execution_count": 12,
   "metadata": {},
   "outputs": [],
   "source": [
    "# Replace dataset with numeric ids words in vocab (and exclude all other words)\n",
    "corpus = [dictionary.doc2bow(text) for text in data]"
   ]
  },
  {
   "cell_type": "code",
   "execution_count": 13,
   "metadata": {},
   "outputs": [],
   "source": [
    "num_topics=10"
   ]
  },
  {
   "cell_type": "markdown",
   "metadata": {},
   "source": [
    "Now let's run a topic model on this data using gensim's built-in LDA."
   ]
  },
  {
   "cell_type": "code",
   "execution_count": 14,
   "metadata": {},
   "outputs": [],
   "source": [
    "lda_model = gensim.models.ldamodel.LdaModel(corpus=corpus,\n",
    "                                           id2word=dictionary,\n",
    "                                           num_topics=num_topics, \n",
    "                                           passes=10,\n",
    "                                           alpha='auto')"
   ]
  },
  {
   "cell_type": "markdown",
   "metadata": {},
   "source": [
    "We can get a sense of what the topics are by printing the top 10 words with highest $P(word \\mid topic)$ for each topic"
   ]
  },
  {
   "cell_type": "code",
   "execution_count": 15,
   "metadata": {
    "scrolled": true
   },
   "outputs": [
    {
     "name": "stdout",
     "output_type": "stream",
     "text": [
      "topic 0:\tbiden ballots sleepy suburbs vaccine peace ban virus closed fracking\n",
      "topic 1:\tiowa coal nato west legislation dishonest miners violence forgotten healthcare\n",
      "topic 2:\ttexas louisiana crooked abortion oil wisconsin corrupt biden impeachment healthcare\n",
      "topic 3:\tcolorado crooked debates texas address alien fox poll figure wind\n",
      "topic 4:\tnative test immune abandoned indian irredeemable voter husbands christmas subsidy\n",
      "topic 5:\twest coal kentucky minnesota alabama miners bills clean nfl points\n",
      "topic 6:\tarizona site cars tennessee location rockets lottery thom spend union\n",
      "topic 7:\tblack biden minnesota sleepy texas thom community plane enthusiasm closed\n",
      "topic 8:\tmontana coal tester texas clean caravan west testing miners indiana\n",
      "topic 9:\tmississippi wisconsin missouri indiana tennessee judge blue tuesday wealth leak\n"
     ]
    }
   ],
   "source": [
    "for i in range(num_topics):\n",
    "    print(\"topic %s:\\t%s\" % (i, ' '.join([term for term, freq in lda_model.show_topic(i, topn=10)])))"
   ]
  },
  {
   "cell_type": "markdown",
   "metadata": {},
   "source": [
    "Another way of understanding topics is to print out the documents that have the highest topic representation -- i.e., for a given topic $k$, the documents with highest $P(topic=k | document)$.  How much do the documents listed here align with your understanding of the topics?"
   ]
  },
  {
   "cell_type": "code",
   "execution_count": 16,
   "metadata": {},
   "outputs": [
    {
     "name": "stdout",
     "output_type": "stream",
     "text": [
      "biden ballots sleepy suburbs vaccine peace ban virus closed fracking\n",
      "\n",
      "0\t1.000\t09/17/2020 Speech: Donald Trump Holds a Campaign Rally in Mosinee, Wisconsin - rally 9\n",
      "0\t1.000\t09/12/2020 Speech: Donald Trump Holds a Campaign Rally in Minden, Nevada - rally 10\n",
      "0\t1.000\t09/19/2020 Speech: Donald Trump Holds a Campaign Rally in Fayetteville, North Carolina - rally 7\n",
      "0\t1.000\t09/13/2020 Trump delivers remarks from Minden, Nevada - rally 103\n",
      "0\t1.000\t09/22/2020 Speech: Donald Trump Holds a Campaign Rally in Moon Township, Pennsylvania - rally 5\n",
      "\n",
      "iowa coal nato west legislation dishonest miners violence forgotten healthcare\n",
      "\n",
      "1\t1.000\t08/22/2017 Speech: Donald Trump Holds a Political Rally in Phoenix, Arizona - rally 89\n",
      "1\t0.999\t04/29/2017 Speech: Donald Trump Holds a Political Rally in Harrisburg, Pennsylvania - rally 94\n",
      "1\t0.999\t02/18/2017 Speech: Donald Trump Holds a Political Rally in Melbourne, Florida - rally 97\n",
      "1\t0.999\t07/25/2017 Speech: Donald Trump Holds a Political Rally in Youngstown, Ohio - rally 91\n",
      "1\t0.999\t03/15/2017 Speech: Donald Trump Holds a Political Rally in Nashville, Tennessee - rally 96\n",
      "\n",
      "texas louisiana crooked abortion oil wisconsin corrupt biden impeachment healthcare\n",
      "\n",
      "2\t1.000\t12/18/2019 Speech: Donald Trump Holds a Political Rally in Battle Creek, Michigan - rally 22\n",
      "2\t1.000\t01/30/2020 Speech: Donald Trump Holds a Political Rally in Des Moines, Iowa - rally 18\n",
      "2\t1.000\t10/17/2019 Speech: Donald Trump Holds a Political Rally in Dallas, Texas - rally 29\n",
      "2\t1.000\t10/18/2019 FULL TRUMP RALLY: President Trump holds campaign rally in Dallas, Texas - rally 100\n",
      "2\t1.000\t10/10/2019 Speech: Donald Trump Holds a Political Rally in Lake Charles, Louisiana - rally 31\n",
      "\n",
      "colorado crooked debates texas address alien fox poll figure wind\n",
      "\n",
      "3\t1.000\t02/20/2020 Speech: Donald Trump Holds a Political Rally in Colorado Springs, Colorado - rally 16\n",
      "3\t0.034\t02/21/2020 Speech: Donald Trump Holds a Political Rally in Las Vegas, Nevada - rally 15\n",
      "3\t0.024\t02/19/2020 Speech: Donald Trump Holds a Political Rally in Phoenix, Arizona - rally 17\n",
      "3\t0.020\t02/11/2019 Speech: Donald Trump Holds a Political Rally in El Paso, Texas - rally 40\n",
      "\n",
      "native test immune abandoned indian irredeemable voter husbands christmas subsidy\n",
      "\n",
      "4\t0.237\t10/24/2020 Live: President Trump Delivers Remarks In North Carolina | NBC News - rally 110\n",
      "\n",
      "west coal kentucky minnesota alabama miners bills clean nfl points\n",
      "\n",
      "5\t1.000\t09/22/2017 Speech: Donald Trump Holds a Political Rally in Huntsville, Alabama - rally 88\n",
      "5\t0.999\t08/21/2018 Speech: Donald Trump Holds a Political Rally in Charleston, West Virginia - rally 74\n",
      "5\t0.994\t09/29/2018 Speech: Donald Trump Holds a Political Rally in Wheeling, West Virginia - rally 69\n",
      "5\t0.924\t10/04/2018 Speech: Donald Trump Holds a Political Rally in Rochester, Minnesota - rally 66\n",
      "5\t0.758\t03/20/2017 Speech: Donald Trump Holds a Political Rally in Louisville, Kentucky - rally 95\n",
      "\n",
      "arizona site cars tennessee location rockets lottery thom spend union\n",
      "\n",
      "6\t0.999\t04/28/2018 Speech: Donald Trump Holds a Political Rally in Washington Township, Michigan - rally 85\n",
      "6\t0.999\t06/25/2018 Speech: Donald Trump Holds a Political Rally in West Columbia, South Carolina - rally 80\n",
      "6\t0.999\t05/29/2018 Speech: Donald Trump Holds a Political Rally in Nashville, Tennessee - rally 83\n",
      "6\t0.999\t06/23/2018 Speech: Donald Trump Holds a Political Rally in Las Vegas, Nevada - rally 81\n",
      "6\t0.809\t10/19/2018 Speech: Donald Trump Holds a Political Rally in Mesa, Arizona - rally 59\n",
      "\n",
      "black biden minnesota sleepy texas thom community plane enthusiasm closed\n",
      "\n",
      "7\t1.000\t09/18/2020 Speech: Donald Trump Holds a Campaign Rally in Bedmidji, Minnesota - rally 8\n",
      "7\t1.000\t09/25/2020 FULL: Trump campaign speech in Atlanta - rally 105\n",
      "7\t0.658\t03/02/2020 Speech: Donald Trump Holds a Political Rally in Charlotte, North Carolina - rally 14\n",
      "7\t0.270\t09/25/2020 Speech: Donald Trump Holds a Campaign Rally in Newport News, Virginia - rally 3\n",
      "7\t0.061\t09/30/2020 Speech: Donald Trump Holds a Campaign Rally in Duluth, Minnesota - rally 1\n",
      "\n",
      "montana coal tester texas clean caravan west testing miners indiana\n",
      "\n",
      "8\t1.000\t11/03/2018 Speech: Donald Trump Holds a Political Rally in Belgrade, Montana - rally 49\n",
      "8\t1.000\t09/06/2018 Speech: Donald Trump Holds a Political Rally in Billings, Montana - rally 72\n",
      "8\t1.000\t10/18/2018 Speech: Donald Trump Holds a Political Rally in Missoula, Montana - rally 60\n",
      "8\t0.999\t08/30/2018 Speech: Donald Trump Holds a Political Rally in Evansville, Indiana - rally 73\n",
      "8\t0.999\t10/27/2018 Speech: Donald Trump Holds a Political Rally in Murphysboro, Illinois - rally 54\n",
      "\n",
      "mississippi wisconsin missouri indiana tennessee judge blue tuesday wealth leak\n",
      "\n",
      "9\t1.000\t10/24/2018 Speech: Donald Trump Holds a Political Rally in Mosinee, Wisconsin - rally 56\n",
      "9\t1.000\t10/02/2018 Speech: Donald Trump Holds a Political Rally in Southaven, Mississippi - rally 67\n",
      "9\t1.000\t11/04/2018 Speech: Donald Trump Holds a Political Rally in Macon, Georgia - rally 46\n",
      "9\t0.999\t11/05/2018 Speech: Donald Trump Holds a Political Rally in Cape Girardeau, Missouri - rally 44\n",
      "9\t0.999\t10/06/2018 Speech: Donald Trump Holds a Political Rally in Topeka, Kansas - rally 65\n",
      "\n"
     ]
    }
   ],
   "source": [
    "topic_model=lda_model \n",
    "\n",
    "topic_docs=[]\n",
    "for i in range(num_topics):\n",
    "    topic_docs.append({})\n",
    "for doc_id in range(len(corpus)):\n",
    "    doc_topics=topic_model.get_document_topics(corpus[doc_id])\n",
    "    for topic_num, topic_prob in doc_topics:\n",
    "        topic_docs[topic_num][doc_id]=topic_prob\n",
    "\n",
    "for i in range(num_topics):\n",
    "    print(\"%s\\n\" % ' '.join([term for term, freq in topic_model.show_topic(i, topn=10)]))\n",
    "    sorted_x = sorted(topic_docs[i].items(), key=operator.itemgetter(1), reverse=True)\n",
    "    for k, v in sorted_x[:5]:\n",
    "        print(\"%s\\t%.3f\\t%s %s\" % (i,v,doc_names[k], k))\n",
    "    print()   "
   ]
  },
  {
   "cell_type": "markdown",
   "metadata": {},
   "source": [
    "### Speech Topic Modeling"
   ]
  },
  {
   "cell_type": "code",
   "execution_count": 17,
   "metadata": {},
   "outputs": [],
   "source": [
    "plotFile=inpath2+'/trump_for_lda_speech.tsv'\n",
    "data, doc_names=read_docs(plotFile, stop_words)"
   ]
  },
  {
   "cell_type": "code",
   "execution_count": 18,
   "metadata": {},
   "outputs": [],
   "source": [
    "# Create vocab from data; restrict vocab to only the top 10K terms that show up in at least 5 documents \n",
    "# and no more than 50% of all documents\n",
    "dictionary = corpora.Dictionary(data)\n",
    "dictionary.filter_extremes(no_below=5, no_above=.5, keep_n=10000)"
   ]
  },
  {
   "cell_type": "code",
   "execution_count": 19,
   "metadata": {},
   "outputs": [],
   "source": [
    "# Replace dataset with numeric ids words in vocab (and exclude all other words)\n",
    "corpus = [dictionary.doc2bow(text) for text in data]"
   ]
  },
  {
   "cell_type": "code",
   "execution_count": 20,
   "metadata": {},
   "outputs": [],
   "source": [
    "num_topics=10"
   ]
  },
  {
   "cell_type": "code",
   "execution_count": 21,
   "metadata": {},
   "outputs": [],
   "source": [
    "lda_model = gensim.models.ldamodel.LdaModel(corpus=corpus,\n",
    "                                           id2word=dictionary,\n",
    "                                           num_topics=num_topics, \n",
    "                                           passes=10,\n",
    "                                           alpha='auto')"
   ]
  },
  {
   "cell_type": "code",
   "execution_count": 22,
   "metadata": {},
   "outputs": [
    {
     "name": "stdout",
     "output_type": "stream",
     "text": [
      "topic 0:\t're police decision biden enforcement flu feel says answer test\n",
      "topic 1:\tnations iran syria security peace god middle turkey children regime\n",
      "topic 2:\tdrug border penalty room nato opportunity criminal nuclear immigration russia\n",
      "topic 3:\tventilators energy hospitals lose medical governor hands decision sudden shape\n",
      "topic 4:\ttax children god violence immigration schools constitution cuts cut tonight\n",
      "topic 5:\tgod heroes justice army bless men honor open workers judge\n",
      "topic 6:\telection wall north remember corruption border vote fighting obama wrong\n",
      "topic 7:\t're obama russia ballots iran wants tax percent disaster campaign\n",
      "topic 8:\tvirus governors governor ventilators masks medical workers testing businesses hospital\n",
      "topic 9:\t're trump biden justice south health school rate criminal election\n"
     ]
    }
   ],
   "source": [
    "for i in range(num_topics):\n",
    "    print(\"topic %s:\\t%s\" % (i, ' '.join([term for term, freq in lda_model.show_topic(i, topn=10)])))"
   ]
  },
  {
   "cell_type": "code",
   "execution_count": 23,
   "metadata": {},
   "outputs": [
    {
     "name": "stdout",
     "output_type": "stream",
     "text": [
      "'re police decision biden enforcement flu feel says answer test\n",
      "\n",
      "0\t1.000\t09/01/2020 Jacob Blake protests: Trump announces funding for Kenosha police, businesses during visit | FULL - speech 73\n",
      "0\t1.000\t07/19/2020 President Trump goes one-on-one with Chris Wallace | Full Interview - speech 68\n",
      "0\t0.998\t03/03/2020 Meeting wiht the National Institute of Health - speech 33\n",
      "0\t0.991\t02/29/2020 Coronavirus Update Transcript Warns Not To Travel to Italy South Korea - speech 31\n",
      "0\t0.905\t02/25/2020 New Delha News Conference - speech 29\n",
      "\n",
      "nations iran syria security peace god middle turkey children regime\n",
      "\n",
      "1\t1.000\t09/17/2017 Address to the United National General Assembly - speech 83\n",
      "1\t1.000\t09/24/2019 Remarks at the United Nations General Assembly - speech 94\n",
      "1\t1.000\t09/25/2018 Address at the 73rd Session of the United States General Assembly - speech 91\n",
      "1\t0.958\t10/23/2019 Donald Trump Syria Press Conference Transcript Trump Orders All Turkey Sanctions Lifted - speech 14\n",
      "1\t0.952\t01/08/2020 Trump Makes Statement After Iran Attacks US Bases in Iraq - speech 17\n",
      "\n",
      "drug border penalty room nato opportunity criminal nuclear immigration russia\n",
      "\n",
      "2\t1.000\t02/10/2020 National Governors Association Speech Transcript - speech 24\n",
      "2\t1.000\t02/11/2020 Donald Trump Talks Roger Stone Colonel Vindman During Veteran Bill Signing - speech 25\n",
      "2\t0.999\t01/19/2019 Remarks about the US Southern Border - speech 92\n",
      "2\t0.984\t12/03/2019 Macron Trump NATO Summit Meeting Transcript - speech 16\n",
      "2\t0.542\t01/28/2020 Middle East Peace Speech Transcript with Israel PM Netanyahu - speech 20\n",
      "\n",
      "ventilators energy hospitals lose medical governor hands decision sudden shape\n",
      "\n",
      "3\t0.999\t03/24/2020 Coronavirus Town Hall Transcript Trump Wants to Restart the Economy by Easter - speech 54\n",
      "3\t0.999\t06/29/2017 Speech at the Unleashing American Energy Event - speech 81\n",
      "3\t0.491\t03/27/2020 Coronavirus Task Force Briefing Trump Says Michigan and Washington Governors Not “Appreciative” - speech 57\n",
      "3\t0.430\t04/01/2020 Coronavirus Task Force Briefing Transcripts - speech 63\n",
      "3\t0.422\t04/02/2020 Coronavirus Task Force Briefing April 2 - speech 64\n",
      "\n",
      "tax children god violence immigration schools constitution cuts cut tonight\n",
      "\n",
      "4\t0.999\t02/01/2018 Remarks at the House and Senate Republican Member Conference - speech 86\n",
      "4\t0.999\t09/17/2020 LIVE: Trump's full speech at the White House Conference on American History (Sept. 17) | NTD - speech 75\n",
      "4\t0.999\t08/05/2019 Donald Trump Statement on Mass Shootings - speech 6\n",
      "4\t0.997\t01/13/2021 Statement about the Violence at the Capitol - speech 110\n",
      "4\t0.997\t03/11/2020 Bank CEOs Announce Coronavius Measures - speech 39\n",
      "\n",
      "god heroes justice army bless men honor open workers judge\n",
      "\n",
      "5\t0.999\t06/13/2020 Address at West Point Graduation - speech 101\n",
      "5\t0.999\t07/04/2020 Remarks at Salute to America - speech 102\n",
      "5\t0.999\t08/08/2020 Press Conference on Executive Orders - speech 103\n",
      "5\t0.999\t07/05/2019 Donald Trump 4th of July Event Speech Transcript - speech 3\n",
      "5\t0.999\t07/30/2019 Donald Trump Speech Transcript in Jamestown Virginia - speech 5\n",
      "\n",
      "election wall north remember corruption border vote fighting obama wrong\n",
      "\n",
      "6\t1.000\t10/22/2019 Donald Trump Cabinet Meeting Transcript Trump Calls Emoluments Clause of the Constitution Phony - speech 13\n",
      "6\t1.000\t02/06/2020 News Conference Calls Russia Investigation Bullshit Talks Impeachment Acquittal - speech 22\n",
      "6\t0.999\t01/22/2020 Davos World Economic Forum Trump Holds News Conference - speech 18\n",
      "6\t0.999\t10/04/2019 Trump Claims No Quid Pro Quo - speech 11\n",
      "6\t0.981\t07/23/2019 Donald Trump Speech Transcript Turning Point USA Teen Student Summit Speech - speech 4\n",
      "\n",
      "'re obama russia ballots iran wants tax percent disaster campaign\n",
      "\n",
      "7\t1.000\t09/26/2016 Debate: 2016-09-26 Hempstead New York - debate 0\n",
      "7\t1.000\t08/13/2020 Trump slams Kamala Harris, makes 2020 predictions | Full Interview - speech 70\n",
      "7\t1.000\t10/09/2016 Debate: 2016-10-09 St. Louis Missouri - debate 1\n",
      "7\t1.000\t10/19/2016 Debate: 2016-10-19 Paradise Nevada - debate 2\n",
      "7\t0.994\t08/26/2019 Donald Trump, Emmanuel Macron G7 Press Conference & Speeches - speech 7\n",
      "\n",
      "virus governors governor ventilators masks medical workers testing businesses hospital\n",
      "\n",
      "8\t1.000\t04/13/2020 Coronavirus Task Force Briefing - speech 97\n",
      "8\t1.000\t03/29/2020 Coronavirus Task Force Briefing Transcript March 29 - speech 60\n",
      "8\t1.000\t04/15/2020 Press Briefing with the Coronavirus Task Force - speech 98\n",
      "8\t1.000\t03/20/2020 Coronavirus Task Force Update - speech 50\n",
      "8\t1.000\t03/20/2020 Coronavirus Task Force Trump Spars with Reporters - speech 49\n",
      "\n",
      "'re trump biden justice south health school rate criminal election\n",
      "\n",
      "9\t1.000\t02/29/2020 LIVE: President Trump in North Charleston, SC - speech 67\n",
      "9\t1.000\t10/22/2020 President Trump's '60 Minutes' interview - speech 79\n",
      "9\t1.000\t02/20/2020 Donald Trump Speech Transcript at the Hope for Prisoners Graduation Ceremony - speech 28\n",
      "9\t0.925\t03/03/2020 National Association of Counties Speech - speech 34\n",
      "9\t0.657\t02/07/2020 Opportunity Now Summit in Charlotte NC - speech 23\n",
      "\n"
     ]
    }
   ],
   "source": [
    "topic_model=lda_model \n",
    "\n",
    "topic_docs=[]\n",
    "for i in range(num_topics):\n",
    "    topic_docs.append({})\n",
    "for doc_id in range(len(corpus)):\n",
    "    doc_topics=topic_model.get_document_topics(corpus[doc_id])\n",
    "    for topic_num, topic_prob in doc_topics:\n",
    "        topic_docs[topic_num][doc_id]=topic_prob\n",
    "\n",
    "for i in range(num_topics):\n",
    "    print(\"%s\\n\" % ' '.join([term for term, freq in topic_model.show_topic(i, topn=10)]))\n",
    "    sorted_x = sorted(topic_docs[i].items(), key=operator.itemgetter(1), reverse=True)\n",
    "    for k, v in sorted_x[:5]:\n",
    "        print(\"%s\\t%.3f\\t%s %s\" % (i,v,doc_names[k], k))\n",
    "    print()   "
   ]
  }
 ],
 "metadata": {
  "kernelspec": {
   "display_name": "Python 3 (ipykernel)",
   "language": "python",
   "name": "python3"
  },
  "language_info": {
   "codemirror_mode": {
    "name": "ipython",
    "version": 3
   },
   "file_extension": ".py",
   "mimetype": "text/x-python",
   "name": "python",
   "nbconvert_exporter": "python",
   "pygments_lexer": "ipython3",
   "version": "3.8.8"
  }
 },
 "nbformat": 4,
 "nbformat_minor": 2
}
