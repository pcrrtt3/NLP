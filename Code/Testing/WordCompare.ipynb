{
 "cells": [
  {
   "cell_type": "code",
   "execution_count": 1,
   "id": "bec2691c",
   "metadata": {},
   "outputs": [],
   "source": [
    "import sys, operator, math, nltk\n",
    "from collections import Counter\n",
    "import pandas as pd\n",
    "import os\n",
    "import numpy as np\n",
    "import re\n",
    "from scipy.stats import mannwhitneyu\n",
    "import os"
   ]
  },
  {
   "cell_type": "code",
   "execution_count": 2,
   "id": "c6ff618c",
   "metadata": {},
   "outputs": [],
   "source": [
    "inpath2= os.path.dirname(os.path.dirname(os.getcwd()))+\"\\\\Data\\\\Intermediate Data\\\\\""
   ]
  },
  {
   "cell_type": "code",
   "execution_count": 3,
   "id": "744b39fd",
   "metadata": {},
   "outputs": [],
   "source": [
    "df=pd.read_csv(inpath2+'final_all_files.csv')"
   ]
  },
  {
   "cell_type": "code",
   "execution_count": 4,
   "id": "25baee69",
   "metadata": {},
   "outputs": [],
   "source": [
    "df=df[df['candidate']=='trump']\n",
    "df['rally']=np.where(df['event_type']=='rally', 1, 0)"
   ]
  },
  {
   "cell_type": "code",
   "execution_count": 5,
   "id": "02904661",
   "metadata": {},
   "outputs": [],
   "source": [
    "trump_rallies=df[df['rally']==1][['text']]\n",
    "trump_rallies2=df[df['rally']==1][['title', 'text']]\n",
    "trump_not_rallies=df[df['rally']==0][['text']]\n",
    "trump_not_rallies2=df[df['rally']==0][['title', 'text']]"
   ]
  },
  {
   "cell_type": "code",
   "execution_count": 6,
   "id": "96be1e06",
   "metadata": {},
   "outputs": [],
   "source": [
    "trump_rallies.to_csv(inpath2+'trump_rallies.txt', index=False, header=False, quoting=None)\n",
    "trump_not_rallies.to_csv(inpath2+'trump_not_rallies.txt', index=False, header=False, quoting=None)"
   ]
  },
  {
   "cell_type": "code",
   "execution_count": 7,
   "id": "794aa8d2",
   "metadata": {},
   "outputs": [],
   "source": [
    "look_for = re.compile(\"(\\w+(?:-\\w+)*)|(\\w+(?:\\'\\w+)*)\")\n",
    "stop_words = set(nltk.corpus.stopwords.words('english'))"
   ]
  },
  {
   "cell_type": "code",
   "execution_count": 8,
   "id": "7338159b",
   "metadata": {},
   "outputs": [],
   "source": [
    "def read_and_tokenize(filename):\n",
    "    \n",
    "    with open(filename, encoding=\"utf-8\") as file:\n",
    "        tokens=[]\n",
    "        # lowercase\n",
    "        for line in file:\n",
    "            data=[i[0].lower() for i in nltk.tokenize.regexp_tokenize(line, look_for) if i[0].lower() not in stop_words]\n",
    "            # This dataset is already tokenized, so we can split on whitespace\n",
    "            tokens.extend(data)\n",
    "        return tokens"
   ]
  },
  {
   "cell_type": "code",
   "execution_count": 9,
   "id": "0079eea7",
   "metadata": {},
   "outputs": [],
   "source": [
    "trump_rallies=read_and_tokenize(inpath2+'trump_rallies.txt')\n",
    "trump_not_rallies=read_and_tokenize(inpath2+'trump_not_rallies.txt')"
   ]
  },
  {
   "cell_type": "code",
   "execution_count": 10,
   "id": "5203fffa",
   "metadata": {},
   "outputs": [],
   "source": [
    "def get_counts(tokens):\n",
    "    counts=Counter()\n",
    "    for token in tokens:\n",
    "        counts[token]+=1\n",
    "    return counts"
   ]
  },
  {
   "cell_type": "code",
   "execution_count": 11,
   "id": "6046e493",
   "metadata": {},
   "outputs": [],
   "source": [
    "def logodds_with_uninformative_prior(one_tokens, two_tokens, display=25):\n",
    "    n1=len(one_tokens)\n",
    "    n2=len(two_tokens)\n",
    "    alpha_w=.01\n",
    "    V=list(set(one_tokens+two_tokens))\n",
    "    alpha_0=alpha_w*len(V)\n",
    "\n",
    "    one_counts=get_counts(one_tokens)\n",
    "    two_counts=get_counts(two_tokens)\n",
    "\n",
    "    log_odds_dict={}\n",
    "    for word in V:\n",
    "        y1=one_counts[word]\n",
    "        y2=two_counts[word]\n",
    "        numerator=math.log((y1+alpha_w)/(n1+alpha_0-alpha_w-y1))-math.log((y2+alpha_w)/(n2+alpha_0-alpha_w-y2))\n",
    "        denominator=math.sqrt((1/(y1+alpha_w))+(1/(y2+alpha_w)))\n",
    "        log_odds_dict[word]=numerator/denominator\n",
    "    positive_words=sorted(log_odds_dict.items(), key=operator.itemgetter(1), reverse=True)\n",
    "    negative_words=sorted(log_odds_dict.items(), key=operator.itemgetter(1))\n",
    "\n",
    "    print (\"Rallies:\\n\")\n",
    "    for k in positive_words[:display]:\n",
    "        print(\"%s\\t%s\" % (k[0],k[1]))\n",
    "    print(\"\\n\\nNot Rallies:\\n\")\n",
    "    for k in negative_words[:display]:\n",
    "        print(\"%s\\t%s\" % (k[0],k[1]))"
   ]
  },
  {
   "cell_type": "code",
   "execution_count": 12,
   "id": "7915dc46",
   "metadata": {},
   "outputs": [
    {
     "name": "stdout",
     "output_type": "stream",
     "text": [
      "Rallies:\n",
      "\n",
      "said\t24.86122971196984\n",
      "vote\t21.151084638358938\n",
      "know\t20.64923610486125\n",
      "got\t19.02721952553394\n",
      "right\t18.370402266291777\n",
      "remember\t17.562982924057472\n",
      "guy\t16.142592222833528\n",
      "great\t15.807316944133166\n",
      "trump\t15.484817605006095\n",
      "ok\t14.141159904606258\n",
      "democrats\t13.545129452395676\n",
      "hell\t12.841648480195815\n",
      "sir\t12.597041074311733\n",
      "oh\t12.268306120039293\n",
      "winning\t12.126280214184954\n",
      "party\t12.096299949334531\n",
      "love\t12.07496284150118\n",
      "never\t11.923178783453086\n",
      "win\t11.680564024052126\n",
      "democrat\t11.53291018932397\n",
      "crazy\t11.477835468645246\n",
      "america\t11.11521577286875\n",
      "republican\t10.985774628806718\n",
      "like\t10.633109437878183\n",
      "guys\t10.619671672800308\n",
      "\n",
      "\n",
      "Not Rallies:\n",
      "\n",
      "ahead\t-19.59131380181445\n",
      "think\t-18.32105978977841\n",
      "tremendous\t-17.47662545172401\n",
      "virus\t-16.795085436827833\n",
      "please\t-16.785496924633954\n",
      "yeah\t-16.724168081626907\n",
      "question\t-14.306378152991341\n",
      "governors\t-13.937198067390186\n",
      "ventilators\t-13.855258719311752\n",
      "okay\t-13.49973932658898\n",
      "things\t-13.151307388999177\n",
      "different\t-12.989465096177817\n",
      "certain\t-12.804150345262164\n",
      "york\t-12.544485393026529\n",
      "numbers\t-12.40457761354342\n",
      "also\t-12.355299548447997\n",
      "masks\t-12.084953692628945\n",
      "talking\t-12.075975055162537\n",
      "much\t-12.048293625665506\n",
      "working\t-12.042968790859854\n",
      "quickly\t-11.765216698890423\n",
      "decision\t-11.642539985637761\n",
      "many\t-11.622059938900318\n",
      "medical\t-11.467487800942742\n",
      "cases\t-11.342276681748324\n"
     ]
    }
   ],
   "source": [
    "logodds_with_uninformative_prior(trump_rallies, trump_not_rallies, 25)"
   ]
  },
  {
   "cell_type": "code",
   "execution_count": null,
   "id": "efffb4e3",
   "metadata": {},
   "outputs": [],
   "source": []
  }
 ],
 "metadata": {
  "kernelspec": {
   "display_name": "Python [conda env:anlp] *",
   "language": "python",
   "name": "conda-env-anlp-py"
  },
  "language_info": {
   "codemirror_mode": {
    "name": "ipython",
    "version": 3
   },
   "file_extension": ".py",
   "mimetype": "text/x-python",
   "name": "python",
   "nbconvert_exporter": "python",
   "pygments_lexer": "ipython3",
   "version": "3.8.8"
  }
 },
 "nbformat": 4,
 "nbformat_minor": 5
}
