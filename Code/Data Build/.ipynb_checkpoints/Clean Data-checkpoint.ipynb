{
 "cells": [
  {
   "cell_type": "code",
   "execution_count": 1,
   "metadata": {},
   "outputs": [],
   "source": [
    "import pandas as pd\n",
    "import numpy as np\n",
    "import os\n",
    "import re"
   ]
  },
  {
   "cell_type": "code",
   "execution_count": 2,
   "metadata": {},
   "outputs": [],
   "source": [
    "inpath=\"C:/Users/pcrrt/Applied NLP Final Project/Data/Intermediate Data/\""
   ]
  },
  {
   "cell_type": "code",
   "execution_count": 3,
   "metadata": {},
   "outputs": [],
   "source": [
    "#load files\n",
    "df=pd.read_csv(inpath+'final.csv')\n",
    "rev_df=pd.read_csv(inpath+'rev.csv')\n",
    "kfinity_df=pd.read_csv(inpath+'kfinity.csv')\n",
    "uva_df=pd.read_csv(inpath+'uva_miller.csv')"
   ]
  },
  {
   "cell_type": "code",
   "execution_count": 4,
   "metadata": {},
   "outputs": [
    {
     "data": {
      "text/plain": [
       "Index(['title', 'date', 'text', 'source', 'candidate', 'event_type',\n",
       "       'campaign_related', 'city', 'state'],\n",
       "      dtype='object')"
      ]
     },
     "execution_count": 4,
     "metadata": {},
     "output_type": "execute_result"
    }
   ],
   "source": [
    "df.columns"
   ]
  },
  {
   "cell_type": "code",
   "execution_count": 5,
   "metadata": {},
   "outputs": [],
   "source": [
    "#append files together\n",
    "for i in [rev_df, kfinity_df, uva_df]:\n",
    "    df=df.append(i)"
   ]
  },
  {
   "cell_type": "code",
   "execution_count": 6,
   "metadata": {},
   "outputs": [],
   "source": [
    "#create year variable\n",
    "df['year']=pd.to_datetime(df.date).dt.year"
   ]
  },
  {
   "cell_type": "code",
   "execution_count": 7,
   "metadata": {},
   "outputs": [
    {
     "data": {
      "text/plain": [
       "https://www.kaggle.com/tanpengshi/donald-trump-political-rallies-transcripts/metadata    103\n",
       "https://github.com/kfinity/capstone-speeches/blob/master/data/speeches.csv                73\n",
       "https://millercenter.org/the-presidency/presidential-speeches                             38\n",
       "https://www.kaggle.com/mrisdal/2016-us-presidential-debates/metadata                       3\n",
       "Name: source, dtype: int64"
      ]
     },
     "execution_count": 7,
     "metadata": {},
     "output_type": "execute_result"
    }
   ],
   "source": [
    "inpath_s=\"C:/Users/pcrrt/Applied NLP Final Project/Data/Intermediate Data/Superseded/\"\n",
    "dfx=pd.read_excel(inpath_s+'final.xlsx')\n",
    "dfx[dfx['candidate']=='trump']['source'].value_counts()"
   ]
  },
  {
   "cell_type": "code",
   "execution_count": 8,
   "metadata": {},
   "outputs": [
    {
     "data": {
      "text/plain": [
       "https://www.kaggle.com/tanpengshi/donald-trump-political-rallies-transcripts/metadata    103\n",
       "https://github.com/kfinity/capstone-speeches/blob/master/data/speeches.csv                81\n",
       "https://www.rev.com/blog/transcript-category/donald-trump-transcripts/                    66\n",
       "https://millercenter.org/the-presidency/presidential-speeches                             38\n",
       "https://www.kaggle.com/mrisdal/2016-us-presidential-debates/metadata                       3\n",
       "Name: source, dtype: int64"
      ]
     },
     "execution_count": 8,
     "metadata": {},
     "output_type": "execute_result"
    }
   ],
   "source": [
    "df[df['candidate']=='trump']['source'].value_counts()"
   ]
  },
  {
   "cell_type": "code",
   "execution_count": 9,
   "metadata": {},
   "outputs": [
    {
     "data": {
      "text/plain": [
       "speech    104\n",
       "rally     103\n",
       "debate      3\n",
       "Name: event_type, dtype: int64"
      ]
     },
     "execution_count": 9,
     "metadata": {},
     "output_type": "execute_result"
    }
   ],
   "source": [
    "df[df['candidate']=='trump']['event_type'].value_counts()"
   ]
  },
  {
   "cell_type": "code",
   "execution_count": 10,
   "metadata": {},
   "outputs": [
    {
     "data": {
      "text/html": [
       "<div>\n",
       "<style scoped>\n",
       "    .dataframe tbody tr th:only-of-type {\n",
       "        vertical-align: middle;\n",
       "    }\n",
       "\n",
       "    .dataframe tbody tr th {\n",
       "        vertical-align: top;\n",
       "    }\n",
       "\n",
       "    .dataframe thead th {\n",
       "        text-align: right;\n",
       "    }\n",
       "</style>\n",
       "<table border=\"1\" class=\"dataframe\">\n",
       "  <thead>\n",
       "    <tr style=\"text-align: right;\">\n",
       "      <th></th>\n",
       "      <th>event_type</th>\n",
       "      <th>year</th>\n",
       "      <th>0</th>\n",
       "    </tr>\n",
       "  </thead>\n",
       "  <tbody>\n",
       "    <tr>\n",
       "      <th>0</th>\n",
       "      <td>debate</td>\n",
       "      <td>2016</td>\n",
       "      <td>3</td>\n",
       "    </tr>\n",
       "    <tr>\n",
       "      <th>1</th>\n",
       "      <td>rally</td>\n",
       "      <td>2017</td>\n",
       "      <td>11</td>\n",
       "    </tr>\n",
       "    <tr>\n",
       "      <th>2</th>\n",
       "      <td>rally</td>\n",
       "      <td>2018</td>\n",
       "      <td>46</td>\n",
       "    </tr>\n",
       "    <tr>\n",
       "      <th>3</th>\n",
       "      <td>rally</td>\n",
       "      <td>2019</td>\n",
       "      <td>21</td>\n",
       "    </tr>\n",
       "    <tr>\n",
       "      <th>4</th>\n",
       "      <td>rally</td>\n",
       "      <td>2020</td>\n",
       "      <td>25</td>\n",
       "    </tr>\n",
       "    <tr>\n",
       "      <th>5</th>\n",
       "      <td>speech</td>\n",
       "      <td>2017</td>\n",
       "      <td>5</td>\n",
       "    </tr>\n",
       "    <tr>\n",
       "      <th>6</th>\n",
       "      <td>speech</td>\n",
       "      <td>2018</td>\n",
       "      <td>7</td>\n",
       "    </tr>\n",
       "    <tr>\n",
       "      <th>7</th>\n",
       "      <td>speech</td>\n",
       "      <td>2019</td>\n",
       "      <td>18</td>\n",
       "    </tr>\n",
       "    <tr>\n",
       "      <th>8</th>\n",
       "      <td>speech</td>\n",
       "      <td>2020</td>\n",
       "      <td>70</td>\n",
       "    </tr>\n",
       "    <tr>\n",
       "      <th>9</th>\n",
       "      <td>speech</td>\n",
       "      <td>2021</td>\n",
       "      <td>4</td>\n",
       "    </tr>\n",
       "  </tbody>\n",
       "</table>\n",
       "</div>"
      ],
      "text/plain": [
       "  event_type  year   0\n",
       "0     debate  2016   3\n",
       "1      rally  2017  11\n",
       "2      rally  2018  46\n",
       "3      rally  2019  21\n",
       "4      rally  2020  25\n",
       "5     speech  2017   5\n",
       "6     speech  2018   7\n",
       "7     speech  2019  18\n",
       "8     speech  2020  70\n",
       "9     speech  2021   4"
      ]
     },
     "execution_count": 10,
     "metadata": {},
     "output_type": "execute_result"
    }
   ],
   "source": [
    "df[df['candidate']=='trump'].groupby(['event_type', 'year']).size().reset_index()"
   ]
  },
  {
   "cell_type": "code",
   "execution_count": 11,
   "metadata": {},
   "outputs": [],
   "source": [
    "brackets_re=re.compile(r'\\[.{3,40}\\]')"
   ]
  },
  {
   "cell_type": "code",
   "execution_count": 12,
   "metadata": {},
   "outputs": [
    {
     "name": "stderr",
     "output_type": "stream",
     "text": [
      "C:\\Users\\pcrrt\\AppData\\Local\\Temp/ipykernel_39376/3286507121.py:4: FutureWarning: The default value of regex will change from True to False in a future version.\n",
      "  df['text2']=df['text2'].str.replace('(laughter)', ' ')\n",
      "C:\\Users\\pcrrt\\AppData\\Local\\Temp/ipykernel_39376/3286507121.py:5: FutureWarning: The default value of regex will change from True to False in a future version.\n",
      "  df['text2']=df['text2'].str.replace('(A video is played.)', ' ')\n",
      "C:\\Users\\pcrrt\\AppData\\Local\\Temp/ipykernel_39376/3286507121.py:6: FutureWarning: The default value of regex will change from True to False in a future version.\n",
      "  df['text2']=df['text2'].str.replace('(inaudible)', ' ')\n",
      "C:\\Users\\pcrrt\\AppData\\Local\\Temp/ipykernel_39376/3286507121.py:7: FutureWarning: The default value of regex will change from True to False in a future version.\n",
      "  df['text2']=df['text2'].str.replace('(Laughter and applause.)', ' ')\n",
      "C:\\Users\\pcrrt\\AppData\\Local\\Temp/ipykernel_39376/3286507121.py:8: FutureWarning: The default value of regex will change from True to False in a future version.\n",
      "  df['text2']=df['text2'].str.replace('(BOOING)', ' ')\n",
      "C:\\Users\\pcrrt\\AppData\\Local\\Temp/ipykernel_39376/3286507121.py:9: FutureWarning: The default value of regex will change from True to False in a future version.\n",
      "  df['text2']=df['text2'].str.replace('(applause)', ' ')\n",
      "C:\\Users\\pcrrt\\AppData\\Local\\Temp/ipykernel_39376/3286507121.py:10: FutureWarning: The default value of regex will change from True to False in a future version.\n",
      "  df['text2']=df['text2'].str.replace('(Applause)', ' ')\n"
     ]
    }
   ],
   "source": [
    "df['text2']=df['text'].str.replace(brackets_re, '')\n",
    "df['text2']=df['text2'].str.replace('\\n', ' ')\n",
    "df['text2']=df['text2'].str.replace('\\t', ' ')\n",
    "df['text2']=df['text2'].str.replace('(laughter)', ' ')\n",
    "df['text2']=df['text2'].str.replace('(A video is played.)', ' ')\n",
    "df['text2']=df['text2'].str.replace('(inaudible)', ' ')\n",
    "df['text2']=df['text2'].str.replace('(Laughter and applause.)', ' ')\n",
    "df['text2']=df['text2'].str.replace('(BOOING)', ' ')\n",
    "df['text2']=df['text2'].str.replace('(applause)', ' ')\n",
    "df['text2']=df['text2'].str.replace('(Applause)', ' ')"
   ]
  },
  {
   "cell_type": "code",
   "execution_count": 13,
   "metadata": {},
   "outputs": [
    {
     "name": "stdout",
     "output_type": "stream",
     "text": [
      "['[inaudible 00:00:05:00]', '[Meit 00:10:44]', '[inaudible 00:18:27]', '[inaudible 00:18:28]']\n",
      "['[crosstalk 00:03:57]', '[crosstalk 00:08:23]', '[inaudible 00:34:42]', '[inaudible 00:40:35]', '[inaudible 00:56:40]', '[inaudible 00:58:35]', '[inaudible 01:19:25]', '[inaudible 01:23:04]', '[inaudible 01:23:50]', '[inaudible 01:25:10]', '[inaudible 01:25:46]']\n",
      "['[crosstalk 01:12:04]', '[crosstalk 00:14:41]', '[crosstalk 00:16:22]', '[crosstalk 01:21:52]', '[crosstalk 01:23:13]', '[crosstalk 01:28:29]']\n",
      "['[inaudible 00:16:17]', '[inaudible 00:00:17:15]', '[crosstalk 00:18:17]', '[crosstalk 00:36:04]', '[crosstalk 00:40:44]']\n",
      "['[inaudible 00:04:46]', '[inaudible 00:09:46]', '[crosstalk 00:25:13]', '[crosstalk 00:27:48]', '[crosstalk 00:36:08]', '[crosstalk 00:59:51]', '[crosstalk 00:59:52]', '[crosstalk 01:02:54]', '[inaudible 01:10:11]']\n",
      "['[crosstalk 00:12:36]', '[Kayla 00:03:49]', '[Joe 00:41:16]', '[Steve 00:07:31]']\n",
      "['[Phil 00:17:18]', '[crosstalk 00:31:16]', '[crosstalk 00:42:26]', '[crosstalk 00:42:36]', '[inaudible 00:42:41]', '[crosstalk 00:42:48]']\n",
      "['[inaudible 00:00:44]', '[inaudible 00:14:37]', '[crosstalk 00:15:30]', '[crosstalk 00:20:48]', '[crosstalk 00:23:49]', '[crosstalk 00:25:47]', '[inaudible 00:25:49]', '[crosstalk 00:26:36]', '[crosstalk 00:26:37]']\n",
      "['[inaudible 00:24:33]']\n",
      "['[inaudible 00:32:55]', '[inaudible 00:48:29]', '[inaudible 00:55:37]', '[inaudible 00:03:57]', '[inaudible 01:14:04]', '[inaudible 00:19:06]', '[inaudible 01:19:46]', '[inaudible 00:28:00]']\n",
      "['[inaudible 00:00:15]', '[inaudible 00:21:51]', '[inaudible 00:25:13]', '[inaudible 00:10:31]']\n",
      "['[inaudible 00:32:12]', '[Aye Yai Yai 00:08:36]']\n",
      "['[inaudible 00:00:19:23]', '[crosstalk 00:21:03]', '[inaudible 00:24:42]', '[crosstalk 00:31:16]', '[crosstalk 00:03:47]', '[crosstalk 00:04:02]', '[crosstalk 00:41:00]', '[inaudible 00:44:05]']\n",
      "['[inaudible 00:25:35]', '[inaudible 00:07:05]', '[crosstalk 00:28:17]', '[crosstalk 00:54:19]', '[crosstalk 01:00:19]']\n",
      "['[inaudible 00:28:09]']\n",
      "['[inaudible 00:08:31]', '[crosstalk 00:18:33]']\n",
      "['[crosstalk 00:22:52]']\n",
      "['[crosstalk 00:23:55]', '[inaudible 00:28:27]', '[crosstalk 00:29:28]']\n",
      "['[crosstalk 00:07:28]', '[crosstalk 00:22:59]']\n",
      "['[crosstalk 00:02:03]', '[inaudible 00:12:29]', '[inaudible 00:12:40]', '[inaudible 00:16:03]', '[inaudible 00:16:00]', '[crosstalk 00:17:32]', '[inaudible 00:17:52]']\n",
      "['[crosstalk 00:15:42]', '[Sema 00:01:47]', '[inaudible 00:02:24]', '[crosstalk 00:02:37]', '[crosstalk 00:03:15]']\n",
      "['[inaudible 00:07:48]', '[inaudible 00:00:08:15]']\n",
      "['[inaudible 00:07:48]', '[inaudible 00:00:08:15]']\n",
      "['[inaudible 00:06:49]', '[inaudible 00:08:46]', '[Steven Rakowski 00:00:11:10]', '[crosstalk 00:15:02]', '[crosstalk 00:48:30]']\n",
      "['[crosstalk 00:10:39]', '[crosstalk 00:15:38]', '[crosstalk 00:16:03]']\n",
      "['[crosstalk 00:55:41]']\n",
      "['[Kaitlin 00:20:57]', '[crosstalk 00:24:04]', '[crosstalk 00:14:41]', '[crosstalk 00:14:45]', '[Katelyn 00:01:11:22]']\n",
      "['[inaudible 00:51:52]', '[crosstalk 00:56:41]', '[crosstalk 00:57:38]', '[crosstalk 00:59:02]', '[crosstalk 01:00:49]', '[crosstalk 01:02:16]', '[crosstalk 01:03:46]', '[crosstalk 01:06:44]', '[crosstalk 01:10:21]', '[crosstalk 01:11:13]', '[crosstalk 01:12:05]', '[crosstalk 01:15:33]', '[crosstalk 01:15:53]', '[crosstalk 01:16:33]', '[crosstalk 01:17:53]', '[crosstalk 01:18:46]', '[crosstalk 01:18:50]']\n",
      "['[inaudible 00:08:14]', '[inaudible 00:27:22]', '[Steve 00:14:42]', '[Jim 00:00:41:23]', '[Peter 00:00:45:18]', '[crosstalk 00:58:02]', '[crosstalk 01:12:17]', '[crosstalk 01:12:54]', '[crosstalk 01:14:42]', '[inaudible 01:15:57]', '[crosstalk 01:16:55]', '[inaudible 01:17:55]', '[crosstalk 01:19:27]', '[crosstalk 01:25:09]', '[crosstalk 01:25:53]', '[crosstalk 01:26:19]', '[crosstalk 01:28:25]', '[crosstalk 01:38:04]']\n",
      "['[inaudible 00: 12:02]', '[inaudible 00:12:22]', '[crosstalk 00:40:01]', '[crosstalk 00:00:42:03]']\n",
      "['[inaudible 01:00:54]', '[inaudible 01:18:02]', '[crosstalk 01:19:57]', '[ inaudible 00:01:32:30]', '[inaudible 01:32:37]']\n",
      "['[inaudible 00:19:55]', '[inaudible 00:24:07]', '[Kristin 00:50:47]', '[crosstalk 00:18:29]', '[crosstalk 01:16:55]', '[crosstalk 01:20:08]', '[crosstalk 01:27:29]', '[crosstalk 01:45:04]', '[crosstalk 01:47:28]', '[inaudible 01:50:04]']\n",
      "['[inaudible 00:19:55]', '[inaudible 00:24:07]', '[Kristin 00:50:47]', '[crosstalk 00:18:29]', '[crosstalk 01:16:55]', '[crosstalk 01:20:08]', '[crosstalk 01:27:29]', '[crosstalk 01:45:04]', '[crosstalk 01:47:28]', '[inaudible 01:50:04]']\n",
      "['[crosstalk 00:35:10]']\n",
      "['[inaudible 00:18:13]', '[crosstalk 00:02:03]']\n",
      "['[inaudible 00:19:33]', '[crosstalk 00:30:46]']\n",
      "['[Haynes 00:00:13:16]']\n",
      "['[inaudible 00:00:18:04]', '[crosstalk 01:09:14]', '[crosstalk 01:10:13]', '[crosstalk 01:10:15]', '[crosstalk 01:10:15]', '[crosstalk 01:10:15]', '[crosstalk 01:10:26]', '[crosstalk 01:10:32]', '[crosstalk 01:10:35]', '[crosstalk 01:10:35]', '[crosstalk 01:10:46]', '[crosstalk 01:11:03]', '[crosstalk 01:11:04]', '[crosstalk 01:11:17]', '[crosstalk 01:11:47]', '[crosstalk 01:13:03]', '[crosstalk 01:13:05]', '[crosstalk 01:14:46]', '[crosstalk 01:14:46]', '[crosstalk 01:16:07]']\n",
      "['[inaudible 00:00:07:52]', '[inaudible 00:09:24]', '[inaudible 00:31:42]', '[inaudible 00:40:35]', '[inaudible 00:40:37]', '[crosstalk 00:00:49:06]']\n",
      "['[inaudible 00:41:56]. [crosstalk 00:41:58]', '[crosstalk 00:43:23]', '[inaudible 00:00:57:55]', '[crosstalk 01:02:57]', '[crosstalk 01:03:49]', '[crosstalk 01:05:37]', '[inaudible 01:08:16]', '[inaudible 01:14:22]', '[inaudible 01:14:45]', '[crosstalk 01:19:44]', '[inaudible 01:31:11]', '[crosstalk 01:34:23]', '[crosstalk 01:35:53]', '[crosstalk 01:38:26]', '[crosstalk 01:39:25]', '[crosstalk 01:42:07]', '[inaudible 02:09:10]', '[crosstalk 02:12:42]']\n",
      "['[inaudible 00:18:22]', '[inaudible 00:29:33]', '[crosstalk 00:38:42]', '[John 00:55:01]', '[crosstalk 01:05:55]', '[inaudible 01:29:37]', '[inaudible 01:30:55]', '[inaudible 01:31:03]', '[inaudible 01:31:14]', '[crosstalk 01:31:46]', '[inaudible 01:36:13]']\n",
      "['[Polowczyk 00:01:17]', '[crosstalk 01:11:13]', '[crosstalk 00:04:46]', '[crosstalk 01:15:09]', '[crosstalk 01:20:26]', '[crosstalk 01:21:31]', '[crosstalk 01:25:14]', '[crosstalk 01:39:09]', '[crosstalk 01:42:42]', '[crosstalk 01:43:36]', '[crosstalk 01:44:57]', '[crosstalk 01:57:28]', '[crosstalk 02:01:13]', '[crosstalk 02:02:11]']\n",
      "['[crosstalk 00:48:58]']\n",
      "['[Music] [Music] [Music] [Music] [Music]', '[Applause]', '[Applause]', '[Applause]', '[Applause]', '[Applause]', '[Applause]', '[Applause]', '[Applause]', '[Applause]', '[Applause]', '[Applause]', '[Applause]', '[Applause]', '[Applause]', '[Music] [Applause]', '[Applause]', '[Applause]', '[Applause]', '[Music] [Applause]', '[Applause]', '[Applause]', '[Applause]', '[Applause] [Applause] [Music]', '[Applause]', '[Applause]', '[Applause]', '[Applause] Glenn Grothman [Music]', '[Applause]', '[Applause]', '[Applause]', '[Applause]', '[Applause]', '[Applause]', '[Applause] [Applause]', '[Applause]', '[Applause]', '[Applause]', '[Applause]', '[Applause]', '[Applause]', '[Applause]', '[Applause]', '[Applause]', '[Applause]', '[Applause]', '[Applause]', '[Applause]', '[Applause]', '[Applause]', '[Applause]', '[Applause]', '[Applause]', '[Applause]', '[Applause]', '[Applause]', '[Applause]', '[Applause] [Applause]', '[Applause]', '[Applause]', '[Applause]', '[Applause]', '[Applause] [Music] [Music] [Applause]', '[Music] [Applause] [Music] [Music] [Music]', '[Music] [Music] [Music]']\n",
      "['[Applause] [Music] my name [Applause]', '[Music] [Applause]', '[Applause]', '[Applause]', '[Applause]', '[Applause] [Music]', '[Applause]', '[Applause]', '[Applause]', '[Applause]', '[Applause]', '[Applause] time this time [Applause]', '[Applause] [Music] [Music] [Music]', '[Applause] [Music] [Music] [Music] [Music]']\n",
      "['[Music]', '[Music] a Tennessee [Music] [Music]', '[Applause]', '[Applause]', '[Music] [Applause] [Music] [Applause]', '[Applause]', '[Applause]', '[Applause]', '[Applause]', '[Music]', '[Applause]', '[Music] [Applause]', '[Applause]', '[Applause]', '[Music]', '[Applause]', '[Music] [Applause]', '[Applause]', '[Applause] [Music] [Applause]', '[Applause]', '[Applause]', '[Applause]', '[Applause]', '[Applause]', '[Applause] [Music] you [Music]']\n",
      "['[Applause] [Applause] [Applause]', '[Applause]', '[Applause]', '[Applause] folks thank you Jim [Applause]', '[Applause]', '[Applause]', '[Applause]', '[Applause]', '[Applause]', '[Applause]', '[Applause]']\n",
      "['[Music] from the laser Minnesota [Music]', '[Applause]', '[Music] [Music] [Music] [Applause]', '[Applause]', '[Applause]', '[Applause]', '[Applause]', '[Music] [Applause]', '[Applause] [Applause]', '[Applause]', '[Applause]', '[Applause]', '[Music]', '[Music]', '[Applause]', '[Applause] [Music] [Applause]', '[Applause]', '[Music]', '[Music] [Music] take your time [Music]', '[Music]', '[Music] [Music]', '[Applause]', '[Applause]', '[Applause]', '[Music]', '[Applause]', '[Applause]', '[Music] take your time doctor [Music]', '[Applause] [Music]', '[Music]', '[Music]', '[Applause] [Applause]', '[Music]', '[Applause] [Music]']\n",
      "['[Applause]', '[Applause] [Music]', '[Applause]', '[Music]', '[Applause] [Applause]', '[Applause]', '[Applause]', '[Applause]', '[Applause]', '[Applause]', '[Applause]', '[Applause]', '[Applause]', '[Applause]', '[Applause] [Applause]', '[Applause]', '[Music]', '[Applause]', '[Applause]', '[Applause]', '[Applause]', '[Applause]', '[Music]', '[Applause]', '[Applause]', '[Music]', '[Applause]', '[Applause]', '[Applause]']\n",
      "['[Applause] [Music] [Applause] [Music]', '[Applause]', '[Applause]', '[Applause]', '[Applause]', '[Applause] [Music] [Music] [Music] [Music]', '[Music] [Music] [Applause] [Applause]', '[Applause] [Music] [Music] [Applause]', '[Music] [Applause] [Music] [Applause]', '[Music]', '[Applause] [Music] [Applause] [Music]', '[Applause] [Music] [Applause]', '[Applause] [Music]', '[Applause]', '[Applause] [Music] [Applause] [Music]']\n",
      "['[Applause] [Music]', '[Music]', '[Music] [Music] [Applause]', '[Applause]', '[Music]', '[Applause]', '[Applause]', '[Applause]', '[Applause]', '[Music]', '[Music] [Applause] [Music] [Applause]', '[Music]', '[Music] [Applause]', '[Music]', '[Applause]', '[Music]', '[Applause]', '[Music]', '[Music]', '[Applause]', '[Applause]', '[Applause]', '[Applause]', '[Applause]', '[Music]', '[Applause] [Music]', '[Applause]', '[Applause]', '[Music] [Applause]', '[Applause] [Music]', '[Applause]', '[Applause] [Music]', '[Applause]', '[Applause]', '[Music]', '[Music]', '[Applause]', '[Applause]', '[Applause]', '[Applause]', '[Applause]', '[Applause]', '[Applause]', '[Music] [Applause]', '[Applause]', '[Music]', '[Applause]', '[Applause]', '[Music]', '[Applause]', '[Applause]', '[Applause]', '[Music]', '[Applause]', '[Applause]', '[Music] [Music]']\n",
      "['[Music] [Applause]', '[Music]', '[Applause]', '[Music]', '[Applause]', '[Applause] [Applause] [Applause]', '[Applause] [Applause]', '[Applause] [Applause] [Applause]', '[Applause]', '[Applause]', '[Applause]', '[Applause]', '[Applause]', '[Applause]', '[Applause]', '[Applause] [Music]', '[Applause] [Music] [Applause]', '[Applause]', '[Applause]', '[Music]', '[Applause]', '[Applause]', '[Applause]', '[Music]', '[Music] George Washington [Applause]', '[Applause]', '[Applause]', '[Music]', '[Music] [Applause]', '[Applause]', '[Music]', '[Applause]', '[Applause]', '[Applause]', '[Music]', '[Applause]', '[Applause]', '[Applause]', '[Music]', '[Applause]', '[Applause]', '[Applause]', '[Applause]', '[Applause] [Music]', '[Applause]', '[Applause] [Music]']\n",
      "['[Applause]', '[Music] [Applause]', '[Music]', '[Music]', '[Applause] [Music] [Applause] [Music]', '[Applause] [Applause] [Music] [Applause]', '[Applause] [Music] [Applause] [Music]', '[Applause]', '[Applause] [Music]', '[Applause] [Music]', '[Applause]']\n",
      "['[Applause] [Music] [Applause]', '[Applause] [Music] [Applause] [Music]', '[Applause] [Music] [Applause] [Music]', '[Music] [Music] [Applause] [Music]', '[Applause] [Music] [Applause]', '[Applause]', '[Applause]', '[Applause] [Applause]', '[Applause]', '[Applause]', '[Applause]', '[Applause]', '[Music]', '[Applause]', '[Music] [Applause]', '[Applause]', '[Applause]', '[Applause]', '[Applause]', '[Applause]', '[Music] [Applause] [Music] [Applause]', '[Applause] thank you [Applause] [Music]', '[Music]', '[Applause] [Music] [Music] [Applause]', '[Applause]', '[Music] [Applause]', '[Applause]', '[Applause]', '[Applause] [Music]', '[Applause]', '[Applause]', '[Applause]', '[Applause]', '[Applause]', '[Applause] [Music] [Music] [Music]', '[Applause] [Music]']\n",
      "['[Applause]', '[Applause] [Music]']\n",
      "['[Music]', '[Music]', '[Music] where it is [Music] [Applause]', '[Music] no doubt [Music] [Applause]', '[Music]', '[Applause]', '[Applause]', '[Applause]', '[Applause]', '[Applause]', '[Applause]', '[Applause]', '[Applause]', '[Music]', '[Applause]', '[Music]', '[Applause]', '[Applause] thank you doctor [Music]', '[Applause] Oh [Applause]', '[Applause]', '[Applause]', '[Applause]', '[Applause]', '[Applause]', '[Applause]', '[Applause]', '[Applause]', '[Applause]', '[Applause]', '[Music]', '[Applause]', '[Applause]', '[Music] [Music] [Applause] [Music]', '[Applause] [Music] [Applause] [Music]', '[Applause] [Music]', '[Music]', '[Music] [Music]']\n",
      "['[Music] [Applause] [Music] [Music]', '[Applause] [Music] [Applause] [Music]', '[Music] [Applause] [Music] [Applause]', '[Music] [Applause] [Music] [Applause]', '[Music] [Music]', '[Applause]', '[Applause]', '[Applause]', '[Applause]', '[Music]', '[Applause]', '[Applause]', '[Music]', '[Applause]', '[Applause]', '[Applause]', '[Music]', '[Applause]', '[Applause]', '[Music]', '[Applause] yay [Applause]', '[Applause]', '[Music] [Music] [Music] [Music] [Music]', '[Music] [Music] [Music] [Music]']\n",
      "['[Laughter]', '[Applause]']\n",
      "['[Music]', '[Music]', '[Music] [Music] [Applause] [Applause]', '[Applause]', '[Applause]', '[Applause]', '[Applause]', '[Applause]', '[Applause] [Music] [Applause] [Music]', '[Applause]', '[Music] [Applause]', '[Music]', '[Applause] [Music]', '[Music]', '[Music] [Applause]', '[Applause] [Music]', '[Applause]', '[Applause]', '[Music]', '[Music]', '[Music]', '[Applause]', '[Music]', \"[Applause] it's alright [Music]\", '[Applause]', '[Applause]', '[Applause]', '[Applause]', '[Applause]', '[Music]', '[Applause]', '[Applause]', '[Music]', '[Applause]', '[Music] [Applause] true [Applause]', '[Applause] [Music] [Applause]', '[Music]', '[Applause]', '[Applause] [Music]', '[Applause]', \"[Applause] it's just it's us [Music]\", '[Applause]', '[Applause]', '[Music]', '[Applause]', '[Applause]', '[Applause]', '[Music] [Applause]', '[Applause]', '[Music]', '[Music]', '[Applause] [Music]', '[Applause]', '[Music]', '[Applause] great guy [Applause]', '[Applause]', '[Applause]', '[Applause]', '[Music] [Applause] [Music]', '[Applause]', '[Music] go home to mommy [Music]', '[Applause] [Music] [Applause] [Music]', '[Music]', '[Applause]', '[Applause]', '[Applause]', '[Applause]', '[Applause]', '[Applause]', '[Music]', '[Applause]', '[Applause]', '[Applause]', '[Music] [Applause]', '[Applause]', '[Applause]', '[Applause]', '[Applause]', '[Applause]', '[Applause] [Music]', '[Applause]', '[Applause]']\n",
      "['[Music] [Applause] [Music] [Music]', '[Applause] [Music] [Applause] [Music]', '[Applause]', '[Applause]', '[Applause]', '[Applause]', '[Applause]', '[Applause]', '[Applause]', '[Music]', '[Applause]', '[Applause]', '[Applause]', '[Applause]', '[Music]', '[Music]', '[Music] [Music] [Music] [Applause] [Music]', '[Applause] [Music] [Applause]']\n",
      "['[Applause]', '[Music] [Applause] [Music] [Applause]', '[Music] [Applause]']\n",
      "['[Music] [Music] [Music] [Music] [Music]', '[Music] [Music] [Music] [Applause] [Music]', '[Music] [Music] [Music] [Music] [Applause]', '[Music] [Applause] [Music]', '[Music] forget the men [Music]', '[Music]', '[Music]', '[Music]', '[Music]', '[Music] and we [Music] next [Music]', '[Music] gets to go [Music]', '[Music]', '[Applause]', '[Applause]', '[Applause]', '[Applause] [Applause]', '[Applause]', '[Music]', '[Applause]', '[Applause]', '[Applause]', '[Applause]', '[Applause]', '[Music]', '[Applause]', '[Applause]', '[Applause]', '[Music]', '[Music]', '[Applause]', '[Applause]', '[Applause]', '[Applause]', '[Applause]', '[Applause]', \"[Applause] we're building [Applause]\", '[Applause]', '[Music] [Applause]', '[Applause] [Music]']\n",
      "['[Music]', '[Music] [Music]', '[Music] [Music] god bless [Music]', '[Music]', '[Applause]', '[Music] [Applause]', '[Applause]', '[Applause]', '[Applause]', '[Applause]', '[Applause]', '[Applause]', '[Applause]', '[Applause]', '[Applause] [Music]']\n",
      "['[Music] every American heart [Music]', '[Music] [Music] [Music]', '[Applause]', '[Applause] [Applause]', '[Applause]', '[Applause]', '[Applause]', '[Applause]', '[Applause]', '[Applause]', '[Applause]', '[Applause]', '[Applause]', '[Applause]', '[Applause]', '[Applause]', '[Applause]', '[Applause]', '[Applause]', '[Applause]', '[Applause]', '[Applause]', '[Applause]', '[Applause]', '[Applause] [Music]', '[Applause]', '[Applause]', '[Applause]', '[Applause]', '[Applause]', '[Applause]', '[Applause] [Applause]', '[Applause]', '[Applause]', '[Applause] mama [Applause]', '[Applause]', '[Applause]', '[Applause]', '[Applause] [Applause]', '[Applause]', '[Applause]', '[Applause]', '[Applause]', '[Applause]', '[Applause]', '[Applause]', '[Applause]', '[Applause]', '[Applause]', '[Applause]', '[Applause]', '[Applause]', '[Music]', '[Applause]', '[Applause]', '[Applause]', '[Applause]', '[Applause]', '[Applause]', '[Applause]', '[Applause]', '[Applause] [Music] [Music] today [Music]', '[Music]', '[Music] [Music]']\n",
      "['[Applause]', '[Applause]', '[Applause]', '[Applause]', '[Applause]', '[Applause]', '[Applause]', '[Applause]', '[Applause]', '[Applause] that is crazy [Applause]', '[Applause] [Music]', '[Applause]', '[Applause]', '[Applause]', '[Applause]', '[Applause]', '[Applause] [Music] [Applause]', '[Applause]', '[Applause]', '[Applause]', '[Applause]', '[Applause]', '[Applause]', '[Applause]', '[Applause]', '[Applause]', '[Applause]', '[Applause]', '[Applause]', '[Applause]', '[Applause]', '[Music]', '[Applause]', '[Applause]', '[Applause]', '[Applause]', '[Applause]', '[Applause]', '[Music]']\n",
      "['[Music] [Applause] [Music]', '[Music] [Applause]', '[Applause]', '[Applause]', '[Applause]', '[Applause]', '[Applause]', '[Applause]', '[Applause]', '[Applause]', '[Applause]', '[Applause]', '[Applause]', '[Applause]', '[Music]', '[Applause]', '[Applause]', '[Applause]', '[Applause]', '[Applause]', '[Applause]', '[Applause]', '[Applause]', '[Applause]', '[Applause]', '[Applause]', '[Applause] hello Louisiana [Applause]', '[Applause]', '[Applause]', '[Applause]', '[Applause]', '[Applause]', '[Applause]', '[Applause]', '[Applause]', '[Applause]', '[Applause] [Applause] [Applause]', '[Applause]', '[Applause]', '[Applause]', '[Applause]', '[Applause]', '[Applause]', '[Music]', '[Applause] [Music]']\n",
      "['[Applause] [Music] [Music] [Music]', '[Applause] [Music] [Applause] [Music]', '[Applause]', '[Applause]', '[Applause] [Applause]', '[Music]', '[Applause]', '[Applause]', '[Applause]', '[Applause]', '[Music]', '[Applause]', '[Music] [Applause]', '[Applause] [Music]', '[Music]', '[Applause]', '[Applause]', '[Applause]', '[Applause]', '[Applause]', '[Music]', '[Applause]', '[Applause] [Music]', '[Applause]', '[Music]', '[Applause]', '[Applause] [Applause]', '[Music]', '[Applause]', '[Applause]', '[Applause]', '[Music]', '[Music]', '[Applause]', '[Applause]', '[Applause]', '[Applause]', '[Music]']\n",
      "['[Applause]', '[Applause]', '[Applause]', '[Applause] get her out [Applause]', '[Applause]', '[Applause]', '[Applause]', '[Applause]', '[Applause]', '[Music]', '[Applause]', '[Applause] [Music]']\n",
      "['[Music]', '[Applause]', '[Applause]', '[Applause]', '[Applause]', '[Applause]', '[Applause]', '[Applause]', '[Applause]', '[Applause]', '[Music]', '[Applause]', '[Applause]', '[Applause]', '[Applause]']\n",
      "['[Music] [Applause] [Music] [Applause]', '[Music] [Applause] [Music] [Applause]', '[Music] [Music] [Music] [Music] [Music]', '[Applause] [Music] [Applause] [Music]', '[Music] [Applause] [Music] [Applause]', '[Applause]', '[Applause]', '[Applause]', '[Applause]', '[Applause]', '[Applause]', '[Applause]', '[Applause]', '[Applause]', '[Applause]', '[Applause]', '[Applause]', '[Music] [Applause]', '[Applause]', '[Applause]', '[Applause]', '[Applause]', '[Applause]', '[Applause]', '[Applause]', '[Applause]', '[Applause]', '[Applause]', '[Applause]', '[Applause]']\n",
      "['[Applause]', '[Music] [Applause]', '[Applause] [Music]', '[Applause]', '[Applause]', '[Applause]', '[Applause]', '[Applause]', '[Applause]', '[Applause]', '[Applause]', '[Applause]', '[Applause]', '[Applause]', '[Applause]', '[Applause]', '[Applause]', '[Applause]', '[Applause] [Applause]', '[Music] [Applause]', '[Applause]', '[Applause]', '[Applause]', '[Applause]', '[Applause]', '[Applause]', '[Applause]', '[Music]', '[Applause]', '[Applause]', '[Applause]', '[Applause]', '[Applause]', '[Applause]', '[Applause]', '[Applause]', '[Applause]', '[Applause]', '[Applause]', '[Applause]', '[Applause]', '[Applause]', '[Applause] [Music]']\n",
      "['[Applause] [Music]']\n",
      "['[Applause]', '[Applause]', '[Applause]', '[Applause]', '[Applause]', '[Applause]']\n",
      "['[Music] [Music] [Applause] [Applause]', '[Applause]', '[Applause]', '[Applause]', '[Applause]', '[Applause]', '[Applause]', '[Applause]', '[Applause]', '[Applause] [Applause]', '[Applause]', '[Applause] Kim [Music] Oh [Music]', '[Applause] [Music] [Applause]', '[Applause]', '[Applause]', '[Applause]', '[Applause]', '[Applause]', '[Applause]', '[Applause]', '[Applause]', '[Applause]', '[Applause]', '[Applause]', '[Applause]', '[Applause]', '[Applause]', '[Applause]', '[Applause]', '[Applause]', '[Applause]']\n",
      "['[Music] [Music] [Music] [Music] [Music]', '[Music] [Music] [Music] [Music] [Music]', '[Music] [Music] [Music] [Music] [Music]', '[Music] [Music] [Music] [Music] [Music]', '[Music] [Music] [Music]', '[Applause]', '[Applause] [Applause] [Applause]', '[Applause] [Applause] [Applause]', '[Applause]', '[Applause]', '[Applause]', '[Applause]', '[Applause]', '[Applause]', '[Applause]', '[Music] [Music] [Music] [Music] [Music]', '[Music] [Music] [Music] [Music] [Music]', '[Music] [Music] [Music] [Music] [Music]', '[Music] [Music] [Music] [Music] [Music]', '[Music] [Music] [Music] [Music] [Music]', '[Music] [Music] [Music] [Music] [Music]', '[Music] [Music] [Music] [Music] [Music]', '[Music] [Music] [Music] [Music] [Music]', '[Music] [Music] [Music] [Music] [Music]', '[Music] [Music] [Music] [Music] [Music]', '[Music] [Music] [Music] [Music] [Music]', '[Music] [Music] [Music] [Music] [Music]', '[Music] [Music] [Music] [Music] [Music]', '[Music] [Music] [Music] [Music] [Music]', '[Music] [Music] [Music] [Music] [Music]', '[Music] [Music] [Music] [Music] [Music]', '[Music]']\n",
      "['[Music] [Applause]', '[Applause]', '[Applause]', '[Applause]', '[Applause]', '[Applause]', '[Applause]', '[Applause]', '[Applause]', '[Music] [Applause]', '[Applause] [Applause]', '[Applause]', '[Applause]', '[Applause]', '[Applause]', '[Applause]', '[Applause]', '[Applause]', '[Applause]', '[Applause]', '[Applause]', '[Applause]', '[Applause]', '[Applause]', '[Applause]', '[Applause]', '[Applause]', '[Applause]', '[Applause]', '[Applause]', '[Applause]', '[Applause]', '[Applause]', '[Applause]', '[Applause]', '[Applause]', '[Applause]', '[Applause]', '[Applause]', '[Applause]', '[Applause] [Music] [Applause] [Music]', '[Applause] [Music] [Applause] [Applause]', '[Applause] [Music]', '[Music]']\n",
      "['[Music] [Music]', '[Applause]', '[Applause]', '[Applause]', '[Music]', '[Applause]', '[Applause]', '[Music]', '[Applause]', '[Music]', '[Music]', '[Applause]', '[Applause]', '[Applause]', '[Applause]', '[Applause]', '[Applause]', '[Applause]']\n",
      "['[Music] [Music] [Music] but [Music]', '[Applause]', '[Applause]', '[Applause]', '[Applause]', '[Applause]', '[Applause]', '[Applause]', '[Applause]', '[Applause]', '[Music]', '[Applause]', '[Applause]', '[Music] [Applause] [Music] [Applause]', '[Applause]', '[Applause]', '[Applause] [Music] [Applause]', '[Applause]', '[Applause]', '[Applause]', '[Applause]', '[Applause]', '[Applause]', '[Applause]', '[Applause]', '[Music]']\n",
      "['[Music] [Music] [Music] [Applause]', '[Applause]', '[Music]', '[Applause]', '[Applause]', '[Applause]', '[Applause]', '[Applause]', '[Applause]', '[Applause]', '[Applause]', '[Applause]', '[Applause]', '[Applause]', '[Applause]', '[Applause]', '[Music] [Applause]', '[Applause] [Laughter] [Applause]', '[Applause]', \"[Applause] it's been built [Applause]\", '[Music]', '[Applause]', '[Applause]', '[Applause]', '[Applause]', '[Applause]', '[Applause]', '[Applause] [Music] [Music] [Applause]']\n",
      "['[Music] [Applause]', '[Applause]', '[Applause]', '[Applause]', '[Applause]', '[Applause]', '[Applause] [Applause]', '[Applause]', '[Applause]', '[Applause]', '[Applause]', '[Applause]', '[Applause]', '[Applause]', '[Applause]', '[Applause]', '[Music]', '[Applause]', '[Applause] David rouser Ted bud [Applause]', '[Applause] we love them [Applause]', '[Applause]', '[Applause] [Music] [Applause]', '[Applause] [Music] [Applause]', '[Applause]', '[Applause]', '[Applause]', '[Applause] [Music] [Applause]', '[Applause]', '[Applause]', '[Applause] [Applause]', '[Music]', '[Applause]', '[Applause] [Music]']\n",
      "['[Applause]', '[Music] [Applause] [Applause]', '[Applause]', '[Applause]', '[Applause]', '[Applause] [Music] [Applause] [Music]']\n",
      "['[Music]', '[Music]', '[Applause]', '[Music] [Applause]', '[Applause]', '[Applause]', '[Music]', '[Music] [Music] [Music]', '[Music]', '[Music] [Music] [Music] [Music] [Music]', '[Music] [Music]', '[Music]', '[Music]', '[Music]', '[Music] like away to the like away [Music]', '[Music] [Music]']\n",
      "['[Music]', '[Music] every American heart [Music]', '[Applause] [Music] [Music]', '[Applause]', '[Music]', '[Applause]', '[Applause]', '[Music]', '[Applause]', '[Applause]', '[Music]', '[Applause]', '[Music]', '[Applause]', '[Applause]', '[Applause] [Music] [Music] [Applause]', '[Applause]', '[Music]', '[Music]', '[Music]', '[Music]', '[Music] [Applause] [Music] [Music]', '[Applause] [Music] [Applause]']\n",
      "['[Applause]', '[Applause]', '[Applause]', '[Applause]', '[Applause]', '[Applause]', '[Applause]', '[Music]', '[Applause]', '[Applause]', '[Applause]', '[Applause]', '[Applause]', '[Applause]', '[Applause]', '[Applause]', '[Applause]', '[Applause]', '[Applause]', '[Applause]', '[Applause]', '[Applause]', '[Applause]', '[Applause]', '[Applause]', '[Applause]', '[Applause]', '[Applause]', '[Applause]', '[Applause]', '[Applause]', '[Music]', '[Applause]', '[Applause]', '[Applause]', '[Music] [Applause] [Music]', '[Applause]', '[Applause]', '[Applause]', '[Applause]', '[Applause]', '[Applause]', '[Applause]', '[Applause] [Music] [Applause]', '[Music]', '[Applause]', '[Music]', '[Applause]', '[Applause]', '[Applause]', '[Music]', '[Applause]', '[Applause]', '[Applause]', '[Applause] [Applause]', '[Music]', '[Music] [Applause]', '[Applause]', '[Applause]', '[Applause]', '[Applause]', '[Applause]', '[Applause]', '[Applause]', '[Music]']\n",
      "['[Applause]', '[Applause]', '[Applause]', '[Music]', '[Music] [Applause]', '[Applause]', '[Applause]', '[Applause]', '[Applause]', '[Applause]', '[Applause]', '[Music] [Applause]', '[Applause]', '[Applause] [Music] [Music] [Music]', '[Applause]', '[Music]', '[Applause]', '[Applause]', '[Music]', '[Music]', '[Music]', '[Applause]']\n",
      "['[Music] [Music] [Music]']\n",
      "['[Laughter]', '[Music]']\n",
      "['[Music]']\n",
      "['[Music] [Applause]', '[Music] god [Music]', '[Music]', '[Applause] [Music]', '[Applause]', '[Applause]', '[Applause]', '[Applause]', '[Applause]', '[Applause]', '[Applause]', '[Applause]', '[Applause]', '[Applause]', '[Applause]', '[Applause]', '[Applause]', '[Applause]', '[Applause]', '[Applause]', '[Applause]', '[Applause]']\n",
      "['[Applause]', '[Applause]', '[Applause]', '[Music]', '[Music]', '[Music]', '[Music]']\n",
      "['[Music] [Applause] got [Applause] [Music]', '[Applause] [Music] [Applause] this [Music]', '[Applause] oh [Music] [Music] [Applause]', '[Music] now [Music]']\n",
      "['[Applause]', '[Applause]', '[Applause]', '[Applause]', '[Applause]', '[Applause]']\n",
      "['[Applause]', '[Applause]', '[Music]', '[Applause]', '[Applause]']\n",
      "['[Music]']\n",
      "['[Music] me [Music] [Music] [Applause]', '[Music] [Music] so [Music] [Music]', '[Music] [Music] [Music] my [Music]', '[Music] [Music] oh [Music] yes [Music]', '[Music] come on [Music] [Music] [Music]', '[Music] our house [Music] oh [Music]', '[Music] [Applause] [Music] [Music]', '[Music] [Music] foreign [Music] um [Music]', '[Music] children [Music] is [Music]', '[Music] ui [Music] well thank you [Music]', '[Music] [Music] [Music] feet [Music]', '[Music] please [Music] [Music] [Music]', \"[Music] so [Music] he's [Music] [Music]\", '[Music] uh [Music] oh [Music] um [Music]', '[Music] so [Music] so [Music] [Music]', '[Music] [Music] [Music] [Music] um [Music]', '[Music] like [Music] [Music] [Music]', \"[Music] i'm not for sure [Music] [Music]\", '[Music] [Applause] [Music]', '[Music] [Music]', '[Applause]', '[Applause]', '[Applause]', '[Music] [Music] you [Music] [Music]', '[Music] oh [Music]']\n",
      "['[Applause] [Applause] [Music] [Applause]', '[Music]', '[Applause]', '[Music]', '[Applause]', '[Applause]', '[Music]', '[Applause]', '[Applause]', '[Music]', '[Applause]', '[Applause]', '[Applause]', '[Applause]', '[Applause]', '[Applause]', '[Applause]', '[Applause]', '[Music]', '[Applause]', '[Applause]', '[Applause]', '[Applause]', '[Applause]', '[Applause]', '[Applause]', '[Applause]', '[Music]', '[Applause]', '[Applause]', '[Music]', '[Applause]', '[Applause]', '[Applause]', '[Music]']\n",
      "['[Music]', '[Applause]', '[Applause]', '[Applause]', '[Applause]', '[Music]', '[Applause]', '[Music]', '[Applause]', '[Applause]', '[Music] [Applause]', '[Applause]', '[Music]', '[Music]', '[Applause]', '[Applause]', '[Applause]', '[Applause]', '[Applause]', '[Applause]', '[Applause]', '[Applause]', '[Applause]', '[Applause]', '[Applause]', \"[Applause] they're activists [Music]\", '[Applause]', '[Applause]', '[Applause]', '[Applause]', '[Applause]', '[Music]']\n",
      "['[Music]', '[Applause]', '[Applause]', '[Applause]', '[Applause]']\n",
      "['[Applause] [Music]', '[Applause]', '[Applause]', '[Applause] louder [Applause]', '[Applause]', '[Applause]', '[Applause]', '[Applause]', '[Applause]', '[Applause]', '[Applause]', '[Applause]', '[Applause]', '[Applause]', '[Applause]', '[Applause]', '[Applause]', '[Applause]', '[Applause]', '[Applause]', '[Applause]', '[Applause]', '[Music]', '[Applause]', '[Applause]', '[Applause]', '[Applause]']\n",
      "['[Music] so [Music] [Applause]']\n",
      "['[Music]']\n",
      "['[Applause]', '[Music] [Applause]', '[Applause]', '[Applause] thank you [Applause]', '[Applause]', '[Applause] [Music] [Applause]', '[Applause]']\n",
      "['[Music] [Music]', '[Music] [Applause] [Music]', '[Applause]', '[Applause]', '[Applause]', '[Applause]', '[Applause]', '[Music]', '[Applause]', '[Applause]', '[Music]']\n",
      "['[Applause] oh [Applause]', '[Applause]', '[Applause]', '[Applause]', '[Applause]', '[Applause]', '[Applause]', '[Applause]', '[Applause]', '[Applause]', '[Applause]', '[Applause]', '[Applause]', '[Applause]', '[Applause]', '[Applause]', '[Music]', '[Applause]', '[Music] [Applause]', '[Music]', '[Applause]', '[Applause] thank you [Applause]', '[Applause]', '[Applause]', '[Applause]', '[Applause] [Music]', '[Applause] [Music] [Applause] [Music]', '[Music]', '[Music] [Applause] [Music] wow [Music]', '[Applause] [Music]']\n",
      "['[Music] [Applause] [Music] [Applause]', '[Applause]', '[Applause]', '[Applause]', '[Applause]', '[Applause]', '[Applause]', '[Applause]']\n",
      "['[Applause]', '[Applause]', '[Applause]', '[Music]', '[Music] [Applause]', '[Applause]', '[Applause]', '[Applause]', '[Music]', '[Applause]', '[Applause]', '[Applause]', '[Applause]', '[Applause]', '[Applause]', '[Applause]', '[Applause]', '[Applause] mars [Applause]', '[Applause]', '[Applause]']\n",
      "['[Music] [Applause] god [Applause] [Music]', '[Applause]', '[Music]', '[Applause]', '[Applause]', '[Music]', '[Applause]', '[Applause]', '[Music]', '[Applause]', '[Applause]', '[Applause]', '[Applause] [Music]', '[Applause]', '[Applause]', '[Applause]', '[Applause]', '[Applause]', '[Music] [Applause] [Music]']\n",
      "['[Music]', '[Music]', '[Music]', '[Music]', '[ __ ]', '[Applause]', '[Applause]', '[Music]', '[Applause]', '[Applause]', '[Music]', '[Music]', '[Applause]', '[Applause]', '[Applause]', '[Applause]', '[Music]', '[Applause] right [Applause]', '[Applause]', '[Music] [Applause]', '[Applause] largest in the world [Applause]', '[Applause]', '[Applause] [Music] [Applause]', '[Music]', '[Applause]', '[Applause]', '[Music]', '[Music] [Music] [Applause] [Music] [Music]']\n",
      "['[crosstalk 00:15:10]', '[crosstalk 00:04:52]', '[crosstalk 00:12:19]', '[crosstalk 00:14:35]', '[crosstalk 00:17:21]', '[crosstalk 00:20:25]', '[crosstalk 00:21:47]', '[crosstalk 00:00:22:07]', '[crosstalk 00:23:35]', '[crosstalk 00:32:14]', '[crosstalk 00:33:02]', '[crosstalk 00:35:17]', '[crosstalk 00:55:45]', '[crosstalk 00:55:46]', '[crosstalk 00:55:56]', '[crosstalk 00:02:10]', '[crosstalk 00:58:32]', '[crosstalk 00:58:35]', '[crosstalk 01:03:58]', '[crosstalk 01:06:04]', '[crosstalk 01:06:05]', '[crosstalk 01:07:11]', '[crosstalk 01:07:19]']\n",
      "['[crosstalk 00:17:14]', '[crosstalk 00:08:48]', '[crosstalk 00:16:04]', '[crosstalk 00:21:21]', '[crosstalk 00:23:30]', '[crosstalk 00:23:57]', '[crosstalk 00:24:05]', '[crosstalk 00:24:25]', '[crosstalk 00:24:32]', '[crosstalk 00:24:42]', '[crosstalk 00:27:10]', '[crosstalk 00:15:43]', '[crosstalk 00:35:15]', '[crosstalk 00:48:23]', '[crosstalk 00:55:51]', '[crosstalk 00:02:41]', '[crosstalk 00:58:10]', '[crosstalk 00:58:14]', '[crosstalk 00:58:15]', '[crosstalk 00:04:44]', '[crosstalk 00:05:13]', '[crosstalk 00:59:17]', '[crosstalk 01:05:32]', '[crosstalk 01:07:21]', '[crosstalk 01:07:24]']\n",
      "['[Applause]', '[Music]']\n",
      "['[Music]']\n",
      "['[Applause] biden [Music]', '[Music] give baby [Music]']\n",
      "['[Applause]', '[Music]']\n",
      "['[Music]', '[Music]', '[Music] [Music] is [Music] is [Music]', '[Music] yes i need [Music]', '[Music] all you have to do is [Music]', '[Music] [Music]', '[Music] [Music] [Music] [Music] is [Music]', '[Music] oh [Music] is [Music] [Music]', '[Music] breathe [Applause]', '[Music] fills my heart [Music] [Music]', '[Music] [Music] [Music] [Music]', '[Music]', '[Music] [Music]', '[Music]', '[Music]', '[Music]', '[Music]', '[Music]', '[Music]', '[Music]', '[Music] [Applause] [Music] [Music] [Music]', '[Music]']\n",
      "['[Applause]', '[Applause] [Applause]']\n",
      "['[Music] [Music] up [Music]', '[Music] the sun [Music]', '[Music]', '[Music]', '[Music]', '[Music]', '[Music]', '[Applause] [Music]', '[Applause] [Music] everybody [Music]', '[Music] [Applause] [Music] [Music]', '[Music]', '[Music] [Applause] [Music]', '[Applause] and i could cry [Music]', \"[Applause] it's not [Music] [Music]\", '[Music] [Music] and i could cry [Applause]', '[Music] [Applause] [Music] oh [Music]', '[Applause] [Applause] [Music] [Applause]', '[Music] to cry [Music]', '[Music] keep on dying [Music]', '[Music] i know [Music]', '[Music]', '[Music]', '[Music] [Music] [Music] until [Music]', '[Music] [Music]', '[Music] [Music]', '[Music] captor [Music]', '[Music]', '[Music] [Music]', '[Music] [Music]', '[Music]', '[Music] we take care of them [Applause]', '[Music]', '[Music]', '[Music] [Applause] [Music] [Applause]', '[Applause] [Music] [Applause] [Music]', '[Applause] [Music] [Applause] [Music]', '[Music] [Music]', '[Music] [Music]', '[Music] [Music] we take [Music]']\n",
      "['[Music] today [Applause]', '[Applause]', '[Applause]', '[Music] [Applause]', '[Music]', '[Applause]', '[Applause]', '[Applause]', '[Applause]', '[Applause] thank you [Applause]', '[Applause]', '[Applause]', '[Applause]', '[Applause]', '[Applause]', '[Applause]', '[Applause]', '[Applause]', '[Applause]', '[Applause]', '[Applause]', '[Applause]', '[Music]', '[Applause]', '[Applause]']\n",
      "['[Music] [Applause] hello [Music]', '[Applause]']\n",
      "['[Music] [Applause] [Music] [Applause]', '[Applause] [Applause] hmm [Applause]', '[Applause]', '[Applause]', '[Applause]', '[Applause]', '[Applause]', '[Applause]', '[Applause]', '[Applause]', '[Applause]', '[Applause]', '[Music] [Music] [Music] uh [Music]', '[Music] [Music]']\n",
      "['[Music]', '[Music]', '[Music]', '[Music]', '[Applause]', '[Applause]', '[Applause]', '[Applause] [Music]', '[Applause]', '[Applause] [Music]', '[Music]', '[Applause]', '[Applause]', '[Applause]', '[Applause]', '[Music]', '[Music]', '[Music]', '[Applause] [Music]']\n",
      "['[Music]', '[Music]', '[Music]', '[Music]', '[Applause]', '[Applause]', '[Applause]', '[Applause] [Music]', '[Applause]', '[Applause] [Music]', '[Music]', '[Applause]', '[Applause]', '[Applause]', '[Applause]', '[Music]', '[Music]', '[Music]', '[Applause] [Music]']\n",
      "['[Music]', '[Music]', '[Music]']\n",
      "['[Applause] [Music] [Applause] [Music]', '[Applause]', '[Applause]', '[Music]', '[Applause]', '[Music] [Applause] [Music] [Music]', '[Applause] [Music] [Applause] [Music]', '[Music]', '[Music] [Music]', '[Music]', '[Applause]', '[Applause] [Music]', '[Music]', '[Applause]', '[Music]', '[Music]', '[Music]', '[Music]', '[Music]', '[Music]', '[Music]', '[Music] [Applause]', '[Music]', '[Applause]', '[Applause]', '[Applause] [Music] [Applause] [Music]', '[Music]']\n",
      "['[Music]', '[Music]', '[Music]', '[Applause]', '[Applause] nation [Applause] [Applause]', '[Music]', '[Music]', '[Music]', '[Music]', '[Music]', '[Applause]', '[Music]', '[Applause]', '[Applause]', '[Applause]', '[Applause]', '[Music]', '[Music]']\n",
      "['[crosstalk 00:28:34]', '[crosstalk 00:29:15]', '[crosstalk 00:29:17]', '[crosstalk 00:04:32]', '[crosstalk 00:07:25]', '[crosstalk 00:09:20]', '[crosstalk 00:17:03]', '[inaudible 00:33:00]', '[crosstalk 00:00:17]']\n",
      "['[crosstalk 00:01:31]', '[inaudible 00:10:36]', '[crosstalk 00:32:35]', '[crosstalk 00:34:25]']\n",
      "['[Music]', '[Music]', '[Music] see this driver [Music]']\n",
      "['[Music] [Music] [Applause] is [Music]', '[Applause]', '[Applause]', '[Music]', '[Applause] [Applause]', '[Music] [Applause]', '[Music]', '[Applause] [Music] [Applause] [Music]', '[Applause]', '[Music]', '[Music]', '[Music] [Applause]', '[Music]', '[Music] [Applause] [Music]', '[Music]', '[Applause]', '[Music]', '[Music]', '[Applause]', '[Music]', '[Applause] i said [Applause]', '[Music]', '[Applause]', '[Applause]', '[Music]', '[Applause]', '[Music]', '[Music]', '[Applause] [Music]', '[Applause]', '[Music]', '[Applause]', '[Music]', '[Applause]', '[Music]', '[Music]', '[Applause] carolina [Music] [Applause]', \"[Music] if there's a place [Music]\", '[Applause] [Music] hey [Applause] [Music]', '[Music] [Applause] [Music]', '[Music] [Applause] [Music] today [Music]', '[Music] [Music] [Music] [Music]']\n",
      "['[Music]', '[Music]', '[Music]', '[Applause]', '[Applause]', '[Applause]', '[Applause]', '[Applause]', '[Applause]', '[Applause]', '[Applause]', '[Music]', '[Applause]', '[Applause]', '[Music]', '[Applause]', '[Applause]', '[Applause]', '[Music]', '[Applause]', '[Music] [Applause]', '[Applause]', '[Applause]', '[Applause]', '[Applause]', '[Applause]', '[Applause]', '[Music]', '[Applause] [Music] vote [Music]', \"[Music] [Music] and i'm sure [Applause]\", '[Music]', '[Music] [Music]']\n",
      "['[ LAUGHS ]']\n",
      "['[Music]', '[Music] the winners [Music] [Music]', '[Music] on earth [Music]', '[Music] [Music]', '[Music]', '[Music] everyday [Music]', '[Music]', '[Music]', '[Music] [Music]', \"[Music] i'm [Music] here i am [Music]\"]\n",
      "['[Applause] [Applause] um [Music]', '[Applause] [Music] is [Music] oh [Music]', '[Music] [Applause] [Music] [Applause]', '[Music] [Applause] [Music] [Music]', '[Applause]', '[Applause]', '[Music]', \"[Applause] it's worth it [Applause]\", '[Applause]', '[Applause]', '[Applause]', '[Music]', '[Music]', '[Music] [Music]', '[Music]', '[Applause]', '[Applause]', '[Applause]', '[Applause]', '[Applause]', '[Applause]', '[Applause]', '[Applause]', '[Applause]', '[Applause]', '[Applause]', '[Applause]', '[Music] [Applause] [Music] [Applause]', '[Music] [Applause] [Music]', '[Music] [Applause] [Music] hey [Music]']\n",
      "['[Music]', '[Music]', '[Applause]', '[Applause]', '[Music]', '[Applause]', '[Applause]', '[Applause]', '[Applause]', '[Applause] [Music]', '[Applause]', '[Music]', '[Applause] thank you [Music]', '[Applause]', '[Applause]', '[Applause] yourselves [Applause]', '[Applause]', '[Applause]', '[Applause]', '[Applause] wow [Applause]', '[Applause]', '[Applause]', '[Applause]', '[Applause]', '[Music]', '[Music]', '[Music] [Applause]']\n",
      "['[ __ ]', '[ __ ]', '[ __ ] [ __ ]', '[ __ ]', '[ __ ]', '[ __ ] custom full cent atv this [ __ ]', '[ __ ]', '[ __ ]', '[ __ ]', '[ __ ]', '[ __ ]', '[ __ ]', '[ __ ] room get the [ __ ]', '[ __ ]', '[ __ ]', '[ __ ]', '[ __ ]', '[Music]', '[ __ ]', '[ __ ]', '[ __ ] like a [ __ ]', '[ __ ] he [ __ ]', '[ __ ]', '[ __ ] good jerk yeah you know [Music]', '[ __ ]', '[ __ ] gay area a lot of [ __ ]', '[ __ ]', '[ __ ]', '[ __ ]', '[ __ ]', '[ __ ]', '[ __ ]', '[ __ ]', '[ __ ]', '[Music] [Music] tell me [Music]', '[ __ ]', '[ __ ]', \"[ __ ] 3am we're gonna say [ __ ]\", '[ __ ]', '[Music]', '[ __ ]', '[Applause] i smell some [ __ ]', '[ __ ]', '[ __ ]', '[ __ ]', '[ __ ] around i guess they just [ __ ]', '[ __ ]', '[Music]', '[ __ ] having us best friend [ __ ]', '[ __ ]', '[ __ ]', '[ __ ] special about [ __ ]', '[Music] [Applause] [Music]', '[Music]', '[ __ ]', '[ __ ]', '[ __ ]', '[ __ ]', '[ __ ]', '[ __ ]', '[ __ ]', '[ __ ]', '[ __ ]', '[ __ ]', '[ __ ]', '[ __ ]', '[ __ ]', '[ __ ] in the [ __ ]', '[Applause]', '[Applause]', \"[Music] it's a [ __ ]\", '[ __ ]', \"[ __ ] amazing man it's [Music]\", '[ __ ]', '[ __ ]', '[ __ ]', '[ __ ] did it boys we [ __ ]', '[Music]', '[ __ ]', '[ __ ]', '[ __ ]', '[ __ ]', '[ __ ] it cuz you walking out in [ __ ]', '[ __ ]', '[ __ ]', '[Music]', '[Music] whatever hmm [Music]', '[ __ ]', '[ __ ]', '[ __ ]', '[ __ ]', \"[ __ ] american boys i can't even [ __ ]\", '[ __ ]', '[ __ ] was funny as [ __ ]', '[ __ ]', '[Music] to the [ __ ] [ __ ]', \"[ __ ] can't [ __ ]\", '[ __ ]', '[ __ ]', '[ __ ]']\n",
      "['[Applause]', '[Music]']\n",
      "['[Applause]', '[Applause]', '[Applause]', '[Applause]', '[Applause]', '[Music]', '[Applause]', '[Applause]', '[Music]']\n",
      "['[will]']\n",
      "['[regime’s]']\n",
      "['[broader]']\n",
      "['[exercise]', '[entities]']\n",
      "['[thousand]', '[sic]']\n",
      "['[sic]']\n",
      "['[never]']\n"
     ]
    }
   ],
   "source": [
    "#search_for=re.compile(r'((.{4})(applause|laughter)(.{20}))', re.IGNORECASE)\n",
    "search_for=re.compile(r'\\(.{3,40}\\)')\n",
    "for i in df['text']:\n",
    "    if re.search(brackets_re, i):\n",
    "        print(re.findall(brackets_re, i))"
   ]
  },
  {
   "cell_type": "code",
   "execution_count": 14,
   "metadata": {},
   "outputs": [
    {
     "data": {
      "text/html": [
       "<div>\n",
       "<style scoped>\n",
       "    .dataframe tbody tr th:only-of-type {\n",
       "        vertical-align: middle;\n",
       "    }\n",
       "\n",
       "    .dataframe tbody tr th {\n",
       "        vertical-align: top;\n",
       "    }\n",
       "\n",
       "    .dataframe thead th {\n",
       "        text-align: right;\n",
       "    }\n",
       "</style>\n",
       "<table border=\"1\" class=\"dataframe\">\n",
       "  <thead>\n",
       "    <tr style=\"text-align: right;\">\n",
       "      <th></th>\n",
       "      <th>title</th>\n",
       "      <th>date</th>\n",
       "      <th>text</th>\n",
       "      <th>source</th>\n",
       "      <th>candidate</th>\n",
       "      <th>event_type</th>\n",
       "      <th>campaign_related</th>\n",
       "      <th>city</th>\n",
       "      <th>state</th>\n",
       "      <th>transcript_type</th>\n",
       "      <th>year</th>\n",
       "      <th>text2</th>\n",
       "      <th>len2</th>\n",
       "      <th>len</th>\n",
       "      <th>dif</th>\n",
       "    </tr>\n",
       "  </thead>\n",
       "  <tbody>\n",
       "    <tr>\n",
       "      <th>15</th>\n",
       "      <td>FULL RALLY: President Trump rally in Minneapol...</td>\n",
       "      <td>2019-10-11</td>\n",
       "      <td>[Music] see the shine from Detroit down to Hou...</td>\n",
       "      <td>https://github.com/kfinity/capstone-speeches/b...</td>\n",
       "      <td>trump</td>\n",
       "      <td>NaN</td>\n",
       "      <td>NaN</td>\n",
       "      <td>NaN</td>\n",
       "      <td>NaN</td>\n",
       "      <td>speech</td>\n",
       "      <td>2019</td>\n",
       "      <td>see the shine from Detroit down to Houston  e...</td>\n",
       "      <td>62659</td>\n",
       "      <td>63730</td>\n",
       "      <td>1071</td>\n",
       "    </tr>\n",
       "    <tr>\n",
       "      <th>125</th>\n",
       "      <td>Meeting Donald Trump on Air Force One!</td>\n",
       "      <td>2020-11-03</td>\n",
       "      <td>all right boys if you're a [ __ ] die hard fan...</td>\n",
       "      <td>https://github.com/kfinity/capstone-speeches/b...</td>\n",
       "      <td>trump</td>\n",
       "      <td>NaN</td>\n",
       "      <td>NaN</td>\n",
       "      <td>NaN</td>\n",
       "      <td>NaN</td>\n",
       "      <td>speech</td>\n",
       "      <td>2020</td>\n",
       "      <td>all right boys if you're a  die hard fan and e...</td>\n",
       "      <td>20323</td>\n",
       "      <td>21476</td>\n",
       "      <td>1153</td>\n",
       "    </tr>\n",
       "  </tbody>\n",
       "</table>\n",
       "</div>"
      ],
      "text/plain": [
       "                                                 title        date  \\\n",
       "15   FULL RALLY: President Trump rally in Minneapol...  2019-10-11   \n",
       "125             Meeting Donald Trump on Air Force One!  2020-11-03   \n",
       "\n",
       "                                                  text  \\\n",
       "15   [Music] see the shine from Detroit down to Hou...   \n",
       "125  all right boys if you're a [ __ ] die hard fan...   \n",
       "\n",
       "                                                source candidate event_type  \\\n",
       "15   https://github.com/kfinity/capstone-speeches/b...     trump        NaN   \n",
       "125  https://github.com/kfinity/capstone-speeches/b...     trump        NaN   \n",
       "\n",
       "     campaign_related city state transcript_type  year  \\\n",
       "15                NaN  NaN   NaN          speech  2019   \n",
       "125               NaN  NaN   NaN          speech  2020   \n",
       "\n",
       "                                                 text2   len2    len   dif  \n",
       "15    see the shine from Detroit down to Houston  e...  62659  63730  1071  \n",
       "125  all right boys if you're a  die hard fan and e...  20323  21476  1153  "
      ]
     },
     "execution_count": 14,
     "metadata": {},
     "output_type": "execute_result"
    }
   ],
   "source": [
    "df['len2']=df['text2'].str.len()\n",
    "df['len']=df['text'].str.len()\n",
    "df['dif']=df['len']-df['len2']\n",
    "df[df['dif']>1000]"
   ]
  },
  {
   "cell_type": "code",
   "execution_count": 15,
   "metadata": {},
   "outputs": [],
   "source": [
    "del df['text']\n",
    "df.rename(columns={'text2':'text'}, inplace=True)"
   ]
  },
  {
   "cell_type": "code",
   "execution_count": 16,
   "metadata": {},
   "outputs": [
    {
     "data": {
      "text/html": [
       "<div>\n",
       "<style scoped>\n",
       "    .dataframe tbody tr th:only-of-type {\n",
       "        vertical-align: middle;\n",
       "    }\n",
       "\n",
       "    .dataframe tbody tr th {\n",
       "        vertical-align: top;\n",
       "    }\n",
       "\n",
       "    .dataframe thead th {\n",
       "        text-align: right;\n",
       "    }\n",
       "</style>\n",
       "<table border=\"1\" class=\"dataframe\">\n",
       "  <thead>\n",
       "    <tr style=\"text-align: right;\">\n",
       "      <th></th>\n",
       "      <th>title</th>\n",
       "      <th>date</th>\n",
       "      <th>text</th>\n",
       "      <th>source</th>\n",
       "      <th>candidate</th>\n",
       "      <th>event_type</th>\n",
       "      <th>campaign_related</th>\n",
       "      <th>city</th>\n",
       "      <th>state</th>\n",
       "    </tr>\n",
       "  </thead>\n",
       "  <tbody>\n",
       "    <tr>\n",
       "      <th>0</th>\n",
       "      <td>Speech: Donald Trump Holds a Campaign Rally in...</td>\n",
       "      <td>2020-10-12</td>\n",
       "      <td>Hello, everybody. Hello, Orlando. Hello, Sanfo...</td>\n",
       "      <td>https://www.kaggle.com/tanpengshi/donald-trump...</td>\n",
       "      <td>trump</td>\n",
       "      <td>rally</td>\n",
       "      <td>1.0</td>\n",
       "      <td>Sanford</td>\n",
       "      <td>Florida</td>\n",
       "    </tr>\n",
       "  </tbody>\n",
       "</table>\n",
       "</div>"
      ],
      "text/plain": [
       "                                               title        date  \\\n",
       "0  Speech: Donald Trump Holds a Campaign Rally in...  2020-10-12   \n",
       "\n",
       "                                                text  \\\n",
       "0  Hello, everybody. Hello, Orlando. Hello, Sanfo...   \n",
       "\n",
       "                                              source candidate event_type  \\\n",
       "0  https://www.kaggle.com/tanpengshi/donald-trump...     trump      rally   \n",
       "\n",
       "   campaign_related     city    state  \n",
       "0               1.0  Sanford  Florida  "
      ]
     },
     "execution_count": 16,
     "metadata": {},
     "output_type": "execute_result"
    }
   ],
   "source": [
    "df2=df[['title', 'date', 'text', 'source', 'candidate', 'event_type',\n",
    "       'campaign_related', 'city', 'state']]\n",
    "df2.head(1)"
   ]
  },
  {
   "cell_type": "code",
   "execution_count": 17,
   "metadata": {},
   "outputs": [
    {
     "data": {
      "text/plain": [
       "Index(['title', 'date', 'source', 'candidate', 'event_type',\n",
       "       'campaign_related', 'city', 'state', 'transcript_type', 'year', 'text',\n",
       "       'len2', 'len', 'dif'],\n",
       "      dtype='object')"
      ]
     },
     "execution_count": 17,
     "metadata": {},
     "output_type": "execute_result"
    }
   ],
   "source": [
    "df.columns"
   ]
  },
  {
   "cell_type": "code",
   "execution_count": 18,
   "metadata": {},
   "outputs": [
    {
     "name": "stderr",
     "output_type": "stream",
     "text": [
      "C:\\Users\\pcrrt\\AppData\\Local\\Temp/ipykernel_39376/1166902508.py:1: SettingWithCopyWarning: \n",
      "A value is trying to be set on a copy of a slice from a DataFrame.\n",
      "Try using .loc[row_indexer,col_indexer] = value instead\n",
      "\n",
      "See the caveats in the documentation: https://pandas.pydata.org/pandas-docs/stable/user_guide/indexing.html#returning-a-view-versus-a-copy\n",
      "  df2['date']=pd.to_datetime(df2['date'], infer_datetime_format=True, dayfirst=True).dt.strftime(\"%m/%d/%Y\")\n"
     ]
    }
   ],
   "source": [
    "df2['date']=pd.to_datetime(df2['date'], infer_datetime_format=True, dayfirst=True).dt.strftime(\"%m/%d/%Y\")"
   ]
  },
  {
   "cell_type": "code",
   "execution_count": 19,
   "metadata": {},
   "outputs": [
    {
     "name": "stderr",
     "output_type": "stream",
     "text": [
      "C:\\Users\\pcrrt\\AppData\\Local\\Temp/ipykernel_39376/2348411686.py:1: SettingWithCopyWarning: \n",
      "A value is trying to be set on a copy of a slice from a DataFrame.\n",
      "Try using .loc[row_indexer,col_indexer] = value instead\n",
      "\n",
      "See the caveats in the documentation: https://pandas.pydata.org/pandas-docs/stable/user_guide/indexing.html#returning-a-view-versus-a-copy\n",
      "  df2['campaign_related']=np.where(df2['campaign_related'].isnull(), 0, df2['campaign_related'])\n"
     ]
    }
   ],
   "source": [
    "df2['campaign_related']=np.where(df2['campaign_related'].isnull(), 0, df2['campaign_related'])"
   ]
  },
  {
   "cell_type": "code",
   "execution_count": 20,
   "metadata": {},
   "outputs": [
    {
     "name": "stdout",
     "output_type": "stream",
     "text": [
      "47\n",
      "46\n"
     ]
    }
   ],
   "source": [
    "dup_list=[\"Donald Trump Iran Statement Speech Trump Orders Stike on Qasem Soleimani\", \"Speech at March for Life\",\n",
    "         \"LIVE: President Trump in Las Vegas, NV\", \"Coronavirus Ban on Europe Travel\", \"Watch Live: President Trump's MAGA Rally in Green Bay (Full) | NBC News\",\n",
    "         \"President Trump's full speech at Mount Rushmore | USA TODAY\", \"FULL SPEECH President Donald Trump Rally - Rio Rancho, NM. 2019\"\n",
    "         , \"Statement on the Death of Abu Bakr al-Baghdadi\", \"Statement on Iran\",\n",
    "          \"Trump Rally in Wildwood New Jersey, Jan. 28, 2020, full speech\", \"LIVE: President Trump in Manchester, NH\"\n",
    "          ,\"Press Conference About the Coronavirus\", \"FULL RALLY: President Trump in Panama City Beach, Florida\"\n",
    "          , 'President Trump COMPLETE REMARKS at July 4th \"Salute to America\" (C-SPAN)', \"Raw Video: President Trump Full Speech at Rally in Winston-Salem, NC (High Quality) 9/8/20\"\n",
    "          , \"FULL RALLY: President Trump in Mosinee, Wisconsin\", 'President Trump holds a freewheeling campaign rally in Jacksonville, FL | FULL RALLY'\n",
    "          ,'RAW VIDEO: President Donald Trump FULL SPEECH at Duluth, MN Rally 9/30/20', 'Watch Live: President Donald Trump Speaks At Mississippi Campaign Rally | NBC News'\n",
    "          , 'Watch Live: President Donald Trump Speaks At Mississippi Campaign Rally | NBC News'\n",
    "          , 'FULL RALLY: President Trump talks impeachment and more in Toledo, Ohio'\n",
    "          , 'LIVE: President Trump in Des Moines, IA'\n",
    "          , 'LIVE: President Trump in Phoenix, AZ'\n",
    "          , 'TRUMP 2020: President Trump Re-Election Campaign Rally - FULL SPEECH'\n",
    "          , 'FULL RALLY: President Trump Rally in Greenville, North Carolina'\n",
    "          , '\"I\\'M BACK\" President Trump First Rally Since BEATING Covid-19 | Full Rally | 10/12/20'\n",
    "          , 'FULL RALLY: President Trump Monroe, Louisiana'\n",
    "          , 'President Donald Trump speaks at his Hershey rally (full speech)'\n",
    "          , 'Donald Trump hosts \"Keep America Great\" rally in Milwaukee, Wis.'\n",
    "          , 'Remarks After His Acquittal'\n",
    "          , 'LIVE: President Trump in Colorado Springs, CO'\n",
    "          , 'LIVE: President Trump in Charlotte, NC'\n",
    "          , 'Donald Trump Signs 8 point 3 Billion Coronavirus Spending Bill'\n",
    "          , 'LIVE: President Trump in Tulsa, Oklahoma'\n",
    "          , 'FULL RALLY: President Trump on Democrats, Economy in '\n",
    "          , 'Live: Trump Holds Campaign Rally In North Carolina | NBC News'\n",
    "          , 'LIVE: PRESIDENT DONALD TRUMP FULL SPEECH AT MIDDLETOWN, PA RALLY...'\n",
    "          , 'FULL RALLY: President Trump in Bossier City, Louisiana'\n",
    "          , 'Full Video: President Trump speaks at campaign rally in Battle Creek'\n",
    "          , 'FULL RALLY: President Trump campaigns in Freeland, Michigan'\n",
    "          , 'Speech: Donald Trump Holds a Campaign Rally in Henderson, Nevada'\n",
    "          , 'Speech: Donald Trump Holds a Political Rally in North Charleston, South Carolina'\n",
    "          , 'FULL RALLY: President Trump in Lexington, Kentucky'\n",
    "          , 'Press Conference'\n",
    "          , 'FULL RALLY: President Trump rally in Minneapolis, MN'\n",
    "          , 'Watch LIVE President Trump campaign rally in Fayetteville, North Carolina | ABC News'\n",
    "          , 'Speech: Donald Trump Holds a Political Rally in Manchester, New Hampshire'\n",
    "          , 'Speech: Donald Trump Holds a Political Rally in Montoursville, Pennsylvania'\n",
    "         ]\n",
    "print(len(set(dup_list)))\n",
    "df3=df2[~df2['title'].isin(dup_list)]\n",
    "print(len(df2)-len(df3))"
   ]
  },
  {
   "cell_type": "code",
   "execution_count": 21,
   "metadata": {},
   "outputs": [
    {
     "name": "stdout",
     "output_type": "stream",
     "text": [
      "22\n",
      "22\n"
     ]
    }
   ],
   "source": [
    "dup_list2=['FULL RALLY: President Trump on Democrats, Economy in Cincinnati, Ohio',\n",
    "       'Watch Live: President Donald Trump Speaks At A Keep America Great Rally In Louisiana | NBC News',\n",
    "       'KEEP AMERICA GREAT: President Trump FULL RALLY in Florida',\n",
    "       \"CAMPAIGN 2020: Joe Biden's full 2020 King Day at the Dome speech\",\n",
    "       'Trump addresses crowd of young Americans at Arizona rally | FULL',\n",
    "       'AXIOS on HBO: President Trump Exclusive Interview (Full Episode) | HBO',\n",
    "       \"President Trump's Full RNC 2020 Speech | NowThis\",\n",
    "       \"Joe Biden's full campaign speech HD 8/31/2020\",\n",
    "       'Trump delivers campaign remarks at Arnold Palmer Regional Airport',\n",
    "       'President Trump FULL Speech at Vandalia, OH Campaign Rally (High Quality!) 9/21/20',\n",
    "       '🔴LIVE: PRESIDENT DONALD TRUMP FULL SPEECH AT MIDDLETOWN, PA RALLY...',\n",
    "       'President Trump FULL Speech at Vandalia, OH Campaign Rally High Quality! 92120',\n",
    "       'President Donald Trump FULL SPEECH at Greenville, NC Rally 10/15/20',\n",
    "       \"Trump speaks at  'Make America Great Again' rally in Georgia\",\n",
    "       'Full speech: President Trump holds campaign rally in Muskegon',\n",
    "       '\"TIME TO WIN\" President Trump FULL RALLY In Erie, Pennsylvania',\n",
    "       'President Donald Trump FULL SPEECH at Circleville, OH Rally 10/24/20',\n",
    "       'Talk Time 🔴 Watch Joe Biden’s Full Interview With Craig Melvin   TODAY',\n",
    "       'Meeting Donald Trump on Air Force One!',\n",
    "       'Trump’s full speech at the Republican National Convention  2020 | American Election 2020',\n",
    "       'Nevada officials provide election updates after Trump team files new lawsuit',\n",
    "       \"In full: Trump once again claims US election is 'rigged'\"]\n",
    "print(len(set(dup_list2)))\n",
    "df4=df3[~df3['title'].isin(dup_list2)]\n",
    "print(len(df3)-len(df4))"
   ]
  },
  {
   "cell_type": "code",
   "execution_count": 22,
   "metadata": {},
   "outputs": [],
   "source": [
    "df4.to_csv(inpath+'final_all_files.csv', index=False)"
   ]
  },
  {
   "cell_type": "code",
   "execution_count": 23,
   "metadata": {},
   "outputs": [
    {
     "data": {
      "text/plain": [
       "rally     98\n",
       "speech    95\n",
       "debate     3\n",
       "Name: event_type, dtype: int64"
      ]
     },
     "execution_count": 23,
     "metadata": {},
     "output_type": "execute_result"
    }
   ],
   "source": [
    "df4[df4['candidate']=='trump']['event_type'].value_counts()"
   ]
  },
  {
   "cell_type": "code",
   "execution_count": 27,
   "metadata": {},
   "outputs": [
    {
     "data": {
      "text/html": [
       "<div>\n",
       "<style scoped>\n",
       "    .dataframe tbody tr th:only-of-type {\n",
       "        vertical-align: middle;\n",
       "    }\n",
       "\n",
       "    .dataframe tbody tr th {\n",
       "        vertical-align: top;\n",
       "    }\n",
       "\n",
       "    .dataframe thead th {\n",
       "        text-align: right;\n",
       "    }\n",
       "</style>\n",
       "<table border=\"1\" class=\"dataframe\">\n",
       "  <thead>\n",
       "    <tr style=\"text-align: right;\">\n",
       "      <th></th>\n",
       "      <th>count</th>\n",
       "      <th>mean</th>\n",
       "      <th>std</th>\n",
       "      <th>min</th>\n",
       "      <th>25%</th>\n",
       "      <th>50%</th>\n",
       "      <th>75%</th>\n",
       "      <th>max</th>\n",
       "    </tr>\n",
       "    <tr>\n",
       "      <th>source</th>\n",
       "      <th></th>\n",
       "      <th></th>\n",
       "      <th></th>\n",
       "      <th></th>\n",
       "      <th></th>\n",
       "      <th></th>\n",
       "      <th></th>\n",
       "      <th></th>\n",
       "    </tr>\n",
       "  </thead>\n",
       "  <tbody>\n",
       "    <tr>\n",
       "      <th>https://github.com/kfinity/capstone-speeches/blob/master/data/speeches.csv</th>\n",
       "      <td>76.0</td>\n",
       "      <td>29284.210526</td>\n",
       "      <td>16243.829343</td>\n",
       "      <td>795.0</td>\n",
       "      <td>17166.75</td>\n",
       "      <td>26790.0</td>\n",
       "      <td>38491.00</td>\n",
       "      <td>79393.0</td>\n",
       "    </tr>\n",
       "    <tr>\n",
       "      <th>https://millercenter.org/the-presidency/presidential-speeches</th>\n",
       "      <td>32.0</td>\n",
       "      <td>20217.750000</td>\n",
       "      <td>16586.840242</td>\n",
       "      <td>798.0</td>\n",
       "      <td>7682.75</td>\n",
       "      <td>17406.0</td>\n",
       "      <td>25403.75</td>\n",
       "      <td>76496.0</td>\n",
       "    </tr>\n",
       "    <tr>\n",
       "      <th>https://www.kaggle.com/brandenciranni/democratic-debate-transcripts-2020/metadata</th>\n",
       "      <td>10.0</td>\n",
       "      <td>15463.400000</td>\n",
       "      <td>3083.019919</td>\n",
       "      <td>12058.0</td>\n",
       "      <td>13077.25</td>\n",
       "      <td>14768.5</td>\n",
       "      <td>17268.00</td>\n",
       "      <td>20475.0</td>\n",
       "    </tr>\n",
       "    <tr>\n",
       "      <th>https://www.kaggle.com/mrisdal/2016-us-presidential-debates/metadata</th>\n",
       "      <td>3.0</td>\n",
       "      <td>40517.000000</td>\n",
       "      <td>5425.741516</td>\n",
       "      <td>35518.0</td>\n",
       "      <td>37632.00</td>\n",
       "      <td>39746.0</td>\n",
       "      <td>43016.50</td>\n",
       "      <td>46287.0</td>\n",
       "    </tr>\n",
       "    <tr>\n",
       "      <th>https://www.kaggle.com/tanpengshi/donald-trump-political-rallies-transcripts/metadata</th>\n",
       "      <td>98.0</td>\n",
       "      <td>50028.540816</td>\n",
       "      <td>15472.100045</td>\n",
       "      <td>15655.0</td>\n",
       "      <td>41331.25</td>\n",
       "      <td>49542.0</td>\n",
       "      <td>57346.50</td>\n",
       "      <td>100331.0</td>\n",
       "    </tr>\n",
       "    <tr>\n",
       "      <th>https://www.rev.com/blog/transcript-category/donald-trump-transcripts/</th>\n",
       "      <td>63.0</td>\n",
       "      <td>27260.761905</td>\n",
       "      <td>17503.051668</td>\n",
       "      <td>2285.0</td>\n",
       "      <td>11996.50</td>\n",
       "      <td>28805.0</td>\n",
       "      <td>37942.50</td>\n",
       "      <td>66494.0</td>\n",
       "    </tr>\n",
       "  </tbody>\n",
       "</table>\n",
       "</div>"
      ],
      "text/plain": [
       "                                                    count          mean  \\\n",
       "source                                                                    \n",
       "https://github.com/kfinity/capstone-speeches/bl...   76.0  29284.210526   \n",
       "https://millercenter.org/the-presidency/preside...   32.0  20217.750000   \n",
       "https://www.kaggle.com/brandenciranni/democrati...   10.0  15463.400000   \n",
       "https://www.kaggle.com/mrisdal/2016-us-presiden...    3.0  40517.000000   \n",
       "https://www.kaggle.com/tanpengshi/donald-trump-...   98.0  50028.540816   \n",
       "https://www.rev.com/blog/transcript-category/do...   63.0  27260.761905   \n",
       "\n",
       "                                                             std      min  \\\n",
       "source                                                                      \n",
       "https://github.com/kfinity/capstone-speeches/bl...  16243.829343    795.0   \n",
       "https://millercenter.org/the-presidency/preside...  16586.840242    798.0   \n",
       "https://www.kaggle.com/brandenciranni/democrati...   3083.019919  12058.0   \n",
       "https://www.kaggle.com/mrisdal/2016-us-presiden...   5425.741516  35518.0   \n",
       "https://www.kaggle.com/tanpengshi/donald-trump-...  15472.100045  15655.0   \n",
       "https://www.rev.com/blog/transcript-category/do...  17503.051668   2285.0   \n",
       "\n",
       "                                                         25%      50%  \\\n",
       "source                                                                  \n",
       "https://github.com/kfinity/capstone-speeches/bl...  17166.75  26790.0   \n",
       "https://millercenter.org/the-presidency/preside...   7682.75  17406.0   \n",
       "https://www.kaggle.com/brandenciranni/democrati...  13077.25  14768.5   \n",
       "https://www.kaggle.com/mrisdal/2016-us-presiden...  37632.00  39746.0   \n",
       "https://www.kaggle.com/tanpengshi/donald-trump-...  41331.25  49542.0   \n",
       "https://www.rev.com/blog/transcript-category/do...  11996.50  28805.0   \n",
       "\n",
       "                                                         75%       max  \n",
       "source                                                                  \n",
       "https://github.com/kfinity/capstone-speeches/bl...  38491.00   79393.0  \n",
       "https://millercenter.org/the-presidency/preside...  25403.75   76496.0  \n",
       "https://www.kaggle.com/brandenciranni/democrati...  17268.00   20475.0  \n",
       "https://www.kaggle.com/mrisdal/2016-us-presiden...  43016.50   46287.0  \n",
       "https://www.kaggle.com/tanpengshi/donald-trump-...  57346.50  100331.0  \n",
       "https://www.rev.com/blog/transcript-category/do...  37942.50   66494.0  "
      ]
     },
     "execution_count": 27,
     "metadata": {},
     "output_type": "execute_result"
    }
   ],
   "source": [
    "df4['len_text']=df4['text'].str.len()\n",
    "df4.groupby('source')['len_text'].describe()"
   ]
  },
  {
   "cell_type": "code",
   "execution_count": null,
   "metadata": {},
   "outputs": [],
   "source": []
  }
 ],
 "metadata": {
  "kernelspec": {
   "display_name": "Python [conda env:anlp] *",
   "language": "python",
   "name": "conda-env-anlp-py"
  },
  "language_info": {
   "codemirror_mode": {
    "name": "ipython",
    "version": 3
   },
   "file_extension": ".py",
   "mimetype": "text/x-python",
   "name": "python",
   "nbconvert_exporter": "python",
   "pygments_lexer": "ipython3",
   "version": "3.8.8"
  }
 },
 "nbformat": 4,
 "nbformat_minor": 2
}
