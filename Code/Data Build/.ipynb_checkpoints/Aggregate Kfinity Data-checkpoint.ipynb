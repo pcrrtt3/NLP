{
 "cells": [
  {
   "cell_type": "code",
   "execution_count": 1,
   "metadata": {},
   "outputs": [],
   "source": [
    "import pandas as pd\n",
    "import numpy as np\n",
    "import os\n",
    "from datetime import datetime"
   ]
  },
  {
   "cell_type": "code",
   "execution_count": 2,
   "metadata": {},
   "outputs": [],
   "source": [
    "inpath= os.path.dirname(os.path.dirname(os.getcwd()))+\"\\\\Data\\\\Source Data\\\\\"\n",
    "intermedpath= os.path.dirname(os.path.dirname(os.getcwd()))+\"\\\\Data\\\\Intermediate Data\\\\\""
   ]
  },
  {
   "cell_type": "code",
   "execution_count": 3,
   "metadata": {},
   "outputs": [],
   "source": [
    "uva_speech_data=pd.read_csv(inpath+'uva_speech_data.csv', parse_dates=[2])"
   ]
  },
  {
   "cell_type": "code",
   "execution_count": 4,
   "metadata": {},
   "outputs": [],
   "source": [
    "uva_speech_data['date']=uva_speech_data['date'].dt.strftime('%Y-%m-%d')"
   ]
  },
  {
   "cell_type": "code",
   "execution_count": 5,
   "metadata": {},
   "outputs": [],
   "source": [
    "uva_speech_data2=uva_speech_data[uva_speech_data['speaker'].isin(['trump', 'biden'])][['speaker', 'date', 'title', 'transcript_type', 'speech']]"
   ]
  },
  {
   "cell_type": "code",
   "execution_count": 6,
   "metadata": {},
   "outputs": [],
   "source": [
    "uva_speech_data2['source']='https://github.com/kfinity/capstone-speeches/blob/master/data/speeches.csv'"
   ]
  },
  {
   "cell_type": "code",
   "execution_count": 7,
   "metadata": {},
   "outputs": [],
   "source": [
    "uva_speech_data2.rename(columns={'speaker':'candidate', 'speech':'text', 'transcript_type':'event_type'}, inplace=True)"
   ]
  },
  {
   "cell_type": "code",
   "execution_count": 8,
   "metadata": {},
   "outputs": [],
   "source": [
    "uva_speech_data2['len_text']=uva_speech_data2['text'].str.len()\n",
    "uva_speech_data2[['len_text']].describe()\n",
    "del uva_speech_data2['len_text']"
   ]
  },
  {
   "cell_type": "code",
   "execution_count": 9,
   "metadata": {},
   "outputs": [],
   "source": [
    "uva_speech_data2=uva_speech_data2[uva_speech_data2['candidate']=='trump']"
   ]
  },
  {
   "cell_type": "code",
   "execution_count": 10,
   "metadata": {},
   "outputs": [],
   "source": [
    "non_rally_list=['Debate 2 (Trump)', \"President Trump's '60 Minutes' interview\", \"LIVE: Trump's full speech at the White House Conference on American History (Sept. 17) | NTD\",\n",
    "       'Trump talks COVID-19 vaccine distribution, TikTok ban | FULL',\n",
    "       'President Trump holds press conference at the White House',\n",
    "         \"President Donald Trump's Full Republican National Convention Speech | NBC10 Philadelphia\",\n",
    "       \"Jacob Blake protests: Trump announces funding for Kenosha police, businesses during visit | FULL\",\n",
    "       'President Trump designates Wilmington, NC as the first American World War II Heritage City | FULL',\n",
    "        'Trump Delivers Remarks at Mariotti Building Products in Old Forge, Pennsylvania',\n",
    "          'LIVE: State of the Union Address',\n",
    "       'LIVE: President Trump in North Charleston, SC',\n",
    "       'President Trump goes one-on-one with Chris Wallace | Full Interview',\n",
    "       \"Trump offers Lebanon assistance following explosion, touts' coronavirus response | FULL\",\n",
    "       'Trump slams Kamala Harris, makes 2020 predictions | Full Interview']"
   ]
  },
  {
   "cell_type": "code",
   "execution_count": 11,
   "metadata": {},
   "outputs": [],
   "source": [
    "uva_speech_data2['event_type']=np.where(uva_speech_data2['title'].isin(non_rally_list), 'speech', 'rally')"
   ]
  },
  {
   "cell_type": "code",
   "execution_count": 12,
   "metadata": {},
   "outputs": [],
   "source": [
    "uva_speech_data2.to_csv(intermedpath+'kfinity.csv', index=False, encoding='UTF-8')"
   ]
  },
  {
   "cell_type": "code",
   "execution_count": null,
   "metadata": {},
   "outputs": [],
   "source": []
  }
 ],
 "metadata": {
  "kernelspec": {
   "display_name": "Python 3 (ipykernel)",
   "language": "python",
   "name": "python3"
  },
  "language_info": {
   "codemirror_mode": {
    "name": "ipython",
    "version": 3
   },
   "file_extension": ".py",
   "mimetype": "text/x-python",
   "name": "python",
   "nbconvert_exporter": "python",
   "pygments_lexer": "ipython3",
   "version": "3.8.8"
  }
 },
 "nbformat": 4,
 "nbformat_minor": 2
}
