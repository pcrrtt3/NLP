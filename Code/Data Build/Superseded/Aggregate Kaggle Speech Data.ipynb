{
 "cells": [
  {
   "cell_type": "code",
   "execution_count": 56,
   "metadata": {},
   "outputs": [],
   "source": [
    "#Not sure if we can use this one because I am not sure if these are in order? Can look into this more."
   ]
  },
  {
   "cell_type": "code",
   "execution_count": 1,
   "metadata": {},
   "outputs": [],
   "source": [
    "import pandas as pd\n",
    "import numpy as np\n",
    "import os"
   ]
  },
  {
   "cell_type": "code",
   "execution_count": 41,
   "metadata": {},
   "outputs": [],
   "source": [
    "inpath=\"C:/Users/pcrrt/OneDrive/Documents/Haas/1 Academics/Fall 2021 Courses/Natural Language Processing/Project/Data/Biden Kaggle/\""
   ]
  },
  {
   "cell_type": "code",
   "execution_count": 42,
   "metadata": {},
   "outputs": [],
   "source": [
    "kaggle_files_dict={}\n",
    "for f in os.listdir(inpath):\n",
    "    with open(inpath+f, encoding='utf-8') as file:\n",
    "        kaggle_files_dict[f] = file.readlines()\n",
    "kaggle_files_df=pd.DataFrame.from_dict(kaggle_files_dict, orient='index').reset_index()"
   ]
  },
  {
   "cell_type": "code",
   "execution_count": 43,
   "metadata": {},
   "outputs": [],
   "source": [
    "kaggle_files_df=kaggle_files_df.iloc[:, :2].rename(columns={'index':'filename', 0:'text'})"
   ]
  },
  {
   "cell_type": "code",
   "execution_count": 46,
   "metadata": {},
   "outputs": [],
   "source": [
    "kaggle_files_df['filename1']=kaggle_files_df['filename'].str.rsplit(\"(\", expand=True)[0]"
   ]
  },
  {
   "cell_type": "code",
   "execution_count": 52,
   "metadata": {},
   "outputs": [],
   "source": [
    "kaggle_files_df['filename2']=kaggle_files_df['filename'].str.rsplit(\"(\", expand=True)[1]\n",
    "kaggle_files_df['filename2']=kaggle_files_df['filename2'].str.rsplit(\")\", expand=True)[0]"
   ]
  },
  {
   "cell_type": "code",
   "execution_count": 55,
   "metadata": {},
   "outputs": [
    {
     "data": {
      "text/html": [
       "<div>\n",
       "<style scoped>\n",
       "    .dataframe tbody tr th:only-of-type {\n",
       "        vertical-align: middle;\n",
       "    }\n",
       "\n",
       "    .dataframe tbody tr th {\n",
       "        vertical-align: top;\n",
       "    }\n",
       "\n",
       "    .dataframe thead th {\n",
       "        text-align: right;\n",
       "    }\n",
       "</style>\n",
       "<table border=\"1\" class=\"dataframe\">\n",
       "  <thead>\n",
       "    <tr style=\"text-align: right;\">\n",
       "      <th></th>\n",
       "      <th>filename</th>\n",
       "      <th>text</th>\n",
       "      <th>filename1</th>\n",
       "      <th>filename2</th>\n",
       "    </tr>\n",
       "  </thead>\n",
       "  <tbody>\n",
       "    <tr>\n",
       "      <td>47</td>\n",
       "      <td>Biden on new SCOTUS.txt</td>\n",
       "      <td>I had the honor of paying respects to Justice ...</td>\n",
       "      <td>Biden on new SCOTUS.txt</td>\n",
       "      <td>None</td>\n",
       "    </tr>\n",
       "  </tbody>\n",
       "</table>\n",
       "</div>"
      ],
      "text/plain": [
       "                   filename  \\\n",
       "47  Biden on new SCOTUS.txt   \n",
       "\n",
       "                                                 text  \\\n",
       "47  I had the honor of paying respects to Justice ...   \n",
       "\n",
       "                  filename1 filename2  \n",
       "47  Biden on new SCOTUS.txt      None  "
      ]
     },
     "execution_count": 55,
     "metadata": {},
     "output_type": "execute_result"
    }
   ],
   "source": [
    "kaggle_files_df[kaggle_files_df['filename2'].isnull()]"
   ]
  },
  {
   "cell_type": "code",
   "execution_count": null,
   "metadata": {},
   "outputs": [],
   "source": []
  },
  {
   "cell_type": "code",
   "execution_count": 38,
   "metadata": {},
   "outputs": [
    {
     "data": {
      "text/html": [
       "<div>\n",
       "<style scoped>\n",
       "    .dataframe tbody tr th:only-of-type {\n",
       "        vertical-align: middle;\n",
       "    }\n",
       "\n",
       "    .dataframe tbody tr th {\n",
       "        vertical-align: top;\n",
       "    }\n",
       "\n",
       "    .dataframe thead th {\n",
       "        text-align: right;\n",
       "    }\n",
       "</style>\n",
       "<table border=\"1\" class=\"dataframe\">\n",
       "  <thead>\n",
       "    <tr style=\"text-align: right;\">\n",
       "      <th></th>\n",
       "      <th>filename</th>\n",
       "      <th>text</th>\n",
       "    </tr>\n",
       "  </thead>\n",
       "  <tbody>\n",
       "    <tr>\n",
       "      <td>0</td>\n",
       "      <td>Biden Cleveland Speech</td>\n",
       "      <td>the Affordable Care Act in its entirety, wipe ...</td>\n",
       "    </tr>\n",
       "    <tr>\n",
       "      <td>1</td>\n",
       "      <td>Biden Racial Equity Discussion</td>\n",
       "      <td>Folks, thanks for taking the time to be here t...</td>\n",
       "    </tr>\n",
       "    <tr>\n",
       "      <td>2</td>\n",
       "      <td>Biden at Conference of Mayors</td>\n",
       "      <td>Hello everybody. Very great to be back with al...</td>\n",
       "    </tr>\n",
       "    <tr>\n",
       "      <td>3</td>\n",
       "      <td>Biden on new SCOTUS</td>\n",
       "      <td>The Senate has to stand strong for our democra...</td>\n",
       "    </tr>\n",
       "    <tr>\n",
       "      <td>4</td>\n",
       "      <td>Biden on new SCOTUS.txt</td>\n",
       "      <td>I had the honor of paying respects to Justice ...</td>\n",
       "    </tr>\n",
       "    <tr>\n",
       "      <td>5</td>\n",
       "      <td>DNC 2020 -</td>\n",
       "      <td>5 million Americans infected by COVID-19. More...</td>\n",
       "    </tr>\n",
       "    <tr>\n",
       "      <td>6</td>\n",
       "      <td>DNC2020</td>\n",
       "      <td>The Irish poet, Seamus Heaney once wrote, “His...</td>\n",
       "    </tr>\n",
       "  </tbody>\n",
       "</table>\n",
       "</div>"
      ],
      "text/plain": [
       "                          filename  \\\n",
       "0           Biden Cleveland Speech   \n",
       "1  Biden Racial Equity Discussion    \n",
       "2   Biden at Conference of Mayors    \n",
       "3             Biden on new SCOTUS    \n",
       "4          Biden on new SCOTUS.txt   \n",
       "5                      DNC 2020 -    \n",
       "6                         DNC2020    \n",
       "\n",
       "                                                text  \n",
       "0  the Affordable Care Act in its entirety, wipe ...  \n",
       "1  Folks, thanks for taking the time to be here t...  \n",
       "2  Hello everybody. Very great to be back with al...  \n",
       "3  The Senate has to stand strong for our democra...  \n",
       "4  I had the honor of paying respects to Justice ...  \n",
       "5  5 million Americans infected by COVID-19. More...  \n",
       "6  The Irish poet, Seamus Heaney once wrote, “His...  "
      ]
     },
     "execution_count": 38,
     "metadata": {},
     "output_type": "execute_result"
    }
   ],
   "source": [
    "kaggle_files_df.groupby(['filename'])['text'].apply(lambda x: '\\n'.join(x)).reset_index()"
   ]
  },
  {
   "cell_type": "code",
   "execution_count": null,
   "metadata": {},
   "outputs": [],
   "source": []
  }
 ],
 "metadata": {
  "kernelspec": {
   "display_name": "Python 3",
   "language": "python",
   "name": "python3"
  },
  "language_info": {
   "codemirror_mode": {
    "name": "ipython",
    "version": 3
   },
   "file_extension": ".py",
   "mimetype": "text/x-python",
   "name": "python",
   "nbconvert_exporter": "python",
   "pygments_lexer": "ipython3",
   "version": "3.7.4"
  }
 },
 "nbformat": 4,
 "nbformat_minor": 2
}
