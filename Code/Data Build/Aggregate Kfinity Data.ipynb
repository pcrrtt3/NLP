{
 "cells": [
  {
   "cell_type": "code",
   "execution_count": 1,
   "metadata": {},
   "outputs": [],
   "source": [
    "import pandas as pd\n",
    "import numpy as np\n",
    "import os\n",
    "from datetime import datetime"
   ]
  },
  {
   "cell_type": "code",
   "execution_count": 2,
   "metadata": {},
   "outputs": [],
   "source": [
    "inpath='C:\\\\Users\\\\pcrrt\\\\Applied NLP Final Project\\\\Data\\\\Source Data\\\\'\n",
    "intermedpath='C:\\\\Users\\\\pcrrt\\\\Applied NLP Final Project\\\\Data\\\\Intermediate Data\\\\'"
   ]
  },
  {
   "cell_type": "code",
   "execution_count": 3,
   "metadata": {},
   "outputs": [],
   "source": [
    "uva_speech_data=pd.read_csv(inpath+'uva_speech_data.csv', parse_dates=[2])"
   ]
  },
  {
   "cell_type": "code",
   "execution_count": 4,
   "metadata": {},
   "outputs": [],
   "source": [
    "uva_speech_data['date']=uva_speech_data['date'].dt.strftime('%Y-%m-%d')"
   ]
  },
  {
   "cell_type": "code",
   "execution_count": 5,
   "metadata": {},
   "outputs": [],
   "source": [
    "uva_speech_data2=uva_speech_data[uva_speech_data['speaker'].isin(['trump', 'biden'])][['speaker', 'date', 'title', 'transcript_type', 'speech']]"
   ]
  },
  {
   "cell_type": "code",
   "execution_count": 6,
   "metadata": {},
   "outputs": [],
   "source": [
    "uva_speech_data2['source']='https://github.com/kfinity/capstone-speeches/blob/master/data/speeches.csv'"
   ]
  },
  {
   "cell_type": "code",
   "execution_count": 7,
   "metadata": {},
   "outputs": [],
   "source": [
    "uva_speech_data2.rename(columns={'speaker':'candidate', 'speech':'text'}, inplace=True)"
   ]
  },
  {
   "cell_type": "code",
   "execution_count": 8,
   "metadata": {},
   "outputs": [],
   "source": [
    "uva_speech_data2['len_text']=uva_speech_data2['text'].str.len()\n",
    "uva_speech_data2[['len_text']].describe()\n",
    "del uva_speech_data2['len_text']"
   ]
  },
  {
   "cell_type": "code",
   "execution_count": 9,
   "metadata": {},
   "outputs": [],
   "source": [
    "uva_speech_data2.to_csv(intermedpath+'kfinity.csv', index=False, encoding='UTF-8')"
   ]
  },
  {
   "cell_type": "code",
   "execution_count": 10,
   "metadata": {},
   "outputs": [],
   "source": [
    "uva_speech_data3=pd.read_csv(intermedpath+'kfinity.csv', encoding='UTF-8')"
   ]
  }
 ],
 "metadata": {
  "kernelspec": {
   "display_name": "Python 3 (ipykernel)",
   "language": "python",
   "name": "python3"
  },
  "language_info": {
   "codemirror_mode": {
    "name": "ipython",
    "version": 3
   },
   "file_extension": ".py",
   "mimetype": "text/x-python",
   "name": "python",
   "nbconvert_exporter": "python",
   "pygments_lexer": "ipython3",
   "version": "3.8.8"
  }
 },
 "nbformat": 4,
 "nbformat_minor": 2
}
